{
  "nbformat": 4,
  "nbformat_minor": 0,
  "metadata": {
    "colab": {
      "name": "aula06mod2.ipynb",
      "provenance": []
    },
    "kernelspec": {
      "name": "python3",
      "display_name": "Python 3"
    }
  },
  "cells": [
    {
      "cell_type": "code",
      "metadata": {
        "id": "lFuoMkooI7oD"
      },
      "source": [
        "!pip install pdfplumber"
      ],
      "execution_count": null,
      "outputs": []
    },
    {
      "cell_type": "code",
      "metadata": {
        "id": "m4xQZ7mFJp6x"
      },
      "source": [
        "import pdfplumber\n",
        "import os\n",
        "from google.colab import drive"
      ],
      "execution_count": null,
      "outputs": []
    },
    {
      "cell_type": "code",
      "metadata": {
        "colab": {
          "base_uri": "https://localhost:8080/"
        },
        "id": "Zf5fwEbHJ3Dz",
        "outputId": "4370934a-e3d6-4bf0-f9d0-349f28064bf5"
      },
      "source": [
        "drive.mount(\"/content/gdrive\")"
      ],
      "execution_count": null,
      "outputs": [
        {
          "output_type": "stream",
          "text": [
            "Mounted at /content/gdrive\n"
          ],
          "name": "stdout"
        }
      ]
    },
    {
      "cell_type": "code",
      "metadata": {
        "id": "80byFkdqKL7z"
      },
      "source": [
        "#abrindo arquivo pdf\n",
        "\n",
        "pdf = pdfplumber.open(\"/content/gdrive/MyDrive/curso-python/mod02/modelo_de_relatorio.pdf\")"
      ],
      "execution_count": 6,
      "outputs": []
    },
    {
      "cell_type": "code",
      "metadata": {
        "id": "HWEdfi5OK6Fl"
      },
      "source": [
        "pdf"
      ],
      "execution_count": null,
      "outputs": []
    },
    {
      "cell_type": "code",
      "metadata": {
        "id": "D3WG7oRLLFhT"
      },
      "source": [
        "#ver o número de páginas do pdf\n",
        "pdf.pages"
      ],
      "execution_count": null,
      "outputs": []
    },
    {
      "cell_type": "code",
      "metadata": {
        "id": "-Q1fCyz0LjHu"
      },
      "source": [
        "#selecionando uma página\n",
        "\n",
        "page = pdf.pages[0]\n",
        "\n",
        "page"
      ],
      "execution_count": null,
      "outputs": []
    },
    {
      "cell_type": "code",
      "metadata": {
        "colab": {
          "base_uri": "https://localhost:8080/"
        },
        "id": "vE_iGmxmNMAO",
        "outputId": "6593be0d-1c79-4377-d016-28b653f1c6f6"
      },
      "source": [
        "#coletando os metadados do arquivo\n",
        "pdf.metadata"
      ],
      "execution_count": 11,
      "outputs": [
        {
          "output_type": "execute_result",
          "data": {
            "text/plain": [
              "{'AssetID': 'TF10002026',\n",
              " 'Author': 'Carlos Melo',\n",
              " 'Comments': '',\n",
              " 'Company': '',\n",
              " 'CreationDate': 'D:20200831180053Z',\n",
              " 'Creator': 'Acrobat PDFMaker 20 for Word',\n",
              " 'Keywords': 'report, vendas, sigmoidal, diário, relatório',\n",
              " 'ModDate': 'D:20201120144558',\n",
              " 'Producer': 'HexaPDF version 0.12.3',\n",
              " 'SourceModified': 'D:20200831180051',\n",
              " 'Subject': 'Template para relatório diário',\n",
              " 'Title': 'Relatório Sigmoidal'}"
            ]
          },
          "metadata": {
            "tags": []
          },
          "execution_count": 11
        }
      ]
    },
    {
      "cell_type": "code",
      "metadata": {
        "colab": {
          "base_uri": "https://localhost:8080/"
        },
        "id": "J5YbGUSuL_ej",
        "outputId": "bc4ae40c-621a-42b4-a88f-e4c19e13e1fc"
      },
      "source": [
        "#extraindo o texto do arquivo\n",
        "text = page.extract_text()\n",
        "print(text)"
      ],
      "execution_count": 10,
      "outputs": [
        {
          "output_type": "stream",
          "text": [
            "SIGMOIDAL \n",
            "   \n",
            "Relatório Diário \n",
            " \n",
            "Data: 10/08/2020 \n",
            " \n",
            "RECEITA: R$ 1.397,00 \n",
            "DADOS ATUALIZADOS POR CARLOS MELO\n",
            " \n",
            " \n",
            " Visitantes: 1367 \n",
            "A quantidade de visitantes diz respeito a visitantes únicos visitando qualquer \n",
            "página do domínio ou subdomínio sigmoidal.ai. Compreende, então, cursos, \n",
            "blogs e landing pages. \n",
            " Inscritos: 33 \n",
            "É considerado aqui o número de leads gerados por meio de cadastro \n",
            "voluntário nos formulários do cabeçalho, rodapé ou materiais ricos (como \n",
            "eBook, infográficos, entre outros). \n",
            " Assinantes: 6 \n",
            "Clientes assinantes da Escola de Data Science, considerando-se o plano \n",
            "renovável de assinatura mensal. \n",
            " \n",
            " \n",
            "VICTOR GABRIEL MARTINS DE OLIVEIRA LOIOLA - victorloiola8@gmail.com - IP: 177.37.232.155\n"
          ],
          "name": "stdout"
        }
      ]
    },
    {
      "cell_type": "code",
      "metadata": {
        "colab": {
          "base_uri": "https://localhost:8080/",
          "height": 35
        },
        "id": "3j0ozn27Njh9",
        "outputId": "0bdeb3ba-645c-42c5-e1bf-7b9f4840dc83"
      },
      "source": [
        "#só um spooliers sobre as próximas aulas\n",
        "text.split(\"\\n\")[6].split(\"R$ \")[1].strip()"
      ],
      "execution_count": 15,
      "outputs": [
        {
          "output_type": "execute_result",
          "data": {
            "application/vnd.google.colaboratory.intrinsic+json": {
              "type": "string"
            },
            "text/plain": [
              "'1.397,00'"
            ]
          },
          "metadata": {
            "tags": []
          },
          "execution_count": 15
        }
      ]
    }
  ]
}