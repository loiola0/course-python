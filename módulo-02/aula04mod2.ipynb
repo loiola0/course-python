{
  "nbformat": 4,
  "nbformat_minor": 0,
  "metadata": {
    "colab": {
      "name": "aula04mod2.ipynb",
      "provenance": []
    },
    "kernelspec": {
      "name": "python3",
      "display_name": "Python 3"
    }
  },
  "cells": [
    {
      "cell_type": "markdown",
      "metadata": {
        "id": "LPVYLEPt6p10"
      },
      "source": [
        "**Biblioteca OS nos possibilita interagir com o sistema operacional por meio do python**"
      ]
    },
    {
      "cell_type": "code",
      "metadata": {
        "id": "qlWy6ZW-6fdb"
      },
      "source": [
        "#importando a biblioteca OS\n",
        "import os"
      ],
      "execution_count": null,
      "outputs": []
    },
    {
      "cell_type": "code",
      "metadata": {
        "id": "GNdybQs-8Ves",
        "colab": {
          "base_uri": "https://localhost:8080/",
          "height": 35
        },
        "outputId": "8cd524cd-5bf0-46f3-90eb-685ebd23aa66"
      },
      "source": [
        "#saber o diretório atual\n",
        "os.getcwd()"
      ],
      "execution_count": null,
      "outputs": [
        {
          "output_type": "execute_result",
          "data": {
            "application/vnd.google.colaboratory.intrinsic+json": {
              "type": "string"
            },
            "text/plain": [
              "'/content'"
            ]
          },
          "metadata": {
            "tags": []
          },
          "execution_count": 2
        }
      ]
    },
    {
      "cell_type": "code",
      "metadata": {
        "id": "8BAwQa358WS_"
      },
      "source": [
        "#mudar diretório\n",
        "os.chdir(\"/content/sample_data\")"
      ],
      "execution_count": null,
      "outputs": []
    },
    {
      "cell_type": "code",
      "metadata": {
        "id": "a7YeARIs8xy6"
      },
      "source": [
        "#listar arquivos do diretório atual\n",
        "os.listdir()"
      ],
      "execution_count": null,
      "outputs": []
    },
    {
      "cell_type": "code",
      "metadata": {
        "id": "hqbYjE0Mok1_"
      },
      "source": [
        "#criando um arquivo\n",
        "\n",
        "arquivo = \"arquivo.txt\"\n",
        "\n",
        "#criando o arquivo no modo que permite escrita\n",
        "file = open(arquivo, \"w\")\n",
        "file.write(\"#Família Martins\")\n",
        "file.close()\n",
        "\n"
      ],
      "execution_count": null,
      "outputs": []
    },
    {
      "cell_type": "code",
      "metadata": {
        "id": "_cT7oENnp1Pi"
      },
      "source": [
        "#conferindo a criação do arquivo com a biblioteca os\n",
        "\n",
        "os.listdir()"
      ],
      "execution_count": null,
      "outputs": []
    },
    {
      "cell_type": "code",
      "metadata": {
        "id": "rxTj5EjGqcWe"
      },
      "source": [
        "#abrindo arquivo para leitura\n",
        "\n",
        "file = open(\"arquivo.txt\",\"r\")\n",
        "\n",
        "#lendo o arquivo\n",
        "print(file.read())\n",
        "\n",
        "#fechar arquivo\n",
        "file.close()"
      ],
      "execution_count": null,
      "outputs": []
    },
    {
      "cell_type": "markdown",
      "metadata": {
        "id": "2Rnsvg0Drk3C"
      },
      "source": [
        "**Outra maneira de ler, editar, criar e renomear arquivos**\n",
        "\n",
        "\n",
        "\n"
      ]
    },
    {
      "cell_type": "code",
      "metadata": {
        "id": "hQZpMACXrkPC"
      },
      "source": [
        "#criando e escrevendo no arquivo\n",
        "\n",
        "with open(\"test.txt\", \"w\") as txt:\n",
        "  txt.write(\"Deus é bom\")\n"
      ],
      "execution_count": null,
      "outputs": []
    },
    {
      "cell_type": "code",
      "metadata": {
        "id": "KZ9MkzP-sRBD"
      },
      "source": [
        "#adicionando informações aos arquivo\n",
        "\n",
        "with open(\"test.txt\",\"a\") as txt:\n",
        "    txt.write(\"\\n Deus é poderoso\")"
      ],
      "execution_count": null,
      "outputs": []
    },
    {
      "cell_type": "code",
      "metadata": {
        "id": "-NkA_MaDtHrY"
      },
      "source": [
        "#ler o arquivo\n",
        "\n",
        "with open(\"test.txt\",\"r\") as txt:\n",
        "    print(txt.read())"
      ],
      "execution_count": null,
      "outputs": []
    },
    {
      "cell_type": "code",
      "metadata": {
        "id": "B9Kg8U_yvIjE"
      },
      "source": [
        "#renomeando arquivos\n",
        "os.rename(\"test.txt\", \"annotations\")"
      ],
      "execution_count": null,
      "outputs": []
    },
    {
      "cell_type": "code",
      "metadata": {
        "colab": {
          "base_uri": "https://localhost:8080/"
        },
        "id": "lNXJI7cfveo-",
        "outputId": "04a6c454-2b13-4f1b-e03b-3ce0e45d6522"
      },
      "source": [
        "#listando os arquivos da pasta atual\n",
        "os.listdir()"
      ],
      "execution_count": null,
      "outputs": [
        {
          "output_type": "execute_result",
          "data": {
            "text/plain": [
              "['anscombe.json',\n",
              " 'README.md',\n",
              " 'annotations',\n",
              " 'arquivo.txt',\n",
              " 'california_housing_train.csv',\n",
              " 'california_housing_test.csv',\n",
              " 'mnist_test.csv',\n",
              " 'mnist_train_small.csv']"
            ]
          },
          "metadata": {
            "tags": []
          },
          "execution_count": 15
        }
      ]
    }
  ]
}