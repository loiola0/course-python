{
  "nbformat": 4,
  "nbformat_minor": 0,
  "metadata": {
    "colab": {
      "name": "aula04mod2.ipynb",
      "provenance": []
    },
    "kernelspec": {
      "name": "python3",
      "display_name": "Python 3"
    }
  },
  "cells": [
    {
      "cell_type": "markdown",
      "metadata": {
        "id": "LPVYLEPt6p10"
      },
      "source": [
        "**Biblioteca OS nos possibilita interagir com o sistema operacional por meio do python**"
      ]
    },
    {
      "cell_type": "code",
      "metadata": {
        "id": "qlWy6ZW-6fdb"
      },
      "source": [
        "#importando a biblioteca OS\n",
        "import os"
      ],
      "execution_count": 2,
      "outputs": []
    },
    {
      "cell_type": "code",
      "metadata": {
        "id": "GNdybQs-8Ves"
      },
      "source": [
        "#saber o diretório atual\n",
        "os.getcwd()"
      ],
      "execution_count": null,
      "outputs": []
    },
    {
      "cell_type": "code",
      "metadata": {
        "id": "8BAwQa358WS_"
      },
      "source": [
        "#mudar diretório\n",
        "os.chdir(\"/content/sample_data\")"
      ],
      "execution_count": null,
      "outputs": []
    },
    {
      "cell_type": "code",
      "metadata": {
        "id": "a7YeARIs8xy6"
      },
      "source": [
        "#listar arquivos do diretório atual\n",
        "os.listdir()"
      ],
      "execution_count": null,
      "outputs": []
    }
  ]
}