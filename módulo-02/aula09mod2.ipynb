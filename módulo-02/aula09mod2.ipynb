{
  "nbformat": 4,
  "nbformat_minor": 0,
  "metadata": {
    "colab": {
      "name": "aula09mod2.ipynb",
      "provenance": []
    },
    "kernelspec": {
      "name": "python3",
      "display_name": "Python 3"
    }
  },
  "cells": [
    {
      "cell_type": "code",
      "metadata": {
        "colab": {
          "base_uri": "https://localhost:8080/"
        },
        "id": "ZzzM1NNa0_aI",
        "outputId": "f71ef78c-9cb9-4911-acb0-567c60d138d7"
      },
      "source": [
        "#verificar o tamanho(comprimento=len) da sequência de um DNA\n",
        "dna = \"ATCGTTAAATGCCAG\"\n",
        "\n",
        "len(dna)"
      ],
      "execution_count": 2,
      "outputs": [
        {
          "output_type": "execute_result",
          "data": {
            "text/plain": [
              "15"
            ]
          },
          "metadata": {
            "tags": []
          },
          "execution_count": 2
        }
      ]
    },
    {
      "cell_type": "code",
      "metadata": {
        "colab": {
          "base_uri": "https://localhost:8080/"
        },
        "id": "1S_OosxO1w8W",
        "outputId": "066797b5-f0f8-4224-c620-1a14c3e8b0b1"
      },
      "source": [
        "#função split serve para separar a string baseando-se em um delimitador\n",
        "nomes = \"Victor,Gabriel,Martins\"\n",
        "\n",
        "nomes.split(\",\")"
      ],
      "execution_count": 5,
      "outputs": [
        {
          "output_type": "execute_result",
          "data": {
            "text/plain": [
              "['Victor', 'Gabriel', 'Martins']"
            ]
          },
          "metadata": {
            "tags": []
          },
          "execution_count": 5
        }
      ]
    },
    {
      "cell_type": "code",
      "metadata": {
        "colab": {
          "base_uri": "https://localhost:8080/"
        },
        "id": "X1N6ZxIl2NPJ",
        "outputId": "f015a808-18ae-4569-b0b8-4166860d16c7"
      },
      "source": [
        "#função replace serve para substituir caracteres dentro de uma string\n",
        "\n",
        "valor = \"9,50\"\n",
        "\n",
        "\n",
        "#trocando virgula por ponto(.)\n",
        "type(float(valor.replace(\",\",\".\")))\n"
      ],
      "execution_count": 7,
      "outputs": [
        {
          "output_type": "execute_result",
          "data": {
            "text/plain": [
              "float"
            ]
          },
          "metadata": {
            "tags": []
          },
          "execution_count": 7
        }
      ]
    },
    {
      "cell_type": "code",
      "metadata": {
        "colab": {
          "base_uri": "https://localhost:8080/",
          "height": 35
        },
        "id": "XVm-vKqd3OSt",
        "outputId": "e4eee661-7187-44f4-dfe8-5f167914a803"
      },
      "source": [
        "#função strip remove espaços em branco ou caracteres indesejados.\n",
        "nome = \"    Victor Gabriel    \"\n",
        "\n",
        "nome.strip()"
      ],
      "execution_count": 11,
      "outputs": [
        {
          "output_type": "execute_result",
          "data": {
            "application/vnd.google.colaboratory.intrinsic+json": {
              "type": "string"
            },
            "text/plain": [
              "'Victor Gabriel'"
            ]
          },
          "metadata": {
            "tags": []
          },
          "execution_count": 11
        }
      ]
    },
    {
      "cell_type": "code",
      "metadata": {
        "colab": {
          "base_uri": "https://localhost:8080/",
          "height": 35
        },
        "id": "uGaVc-UP4drc",
        "outputId": "4eb025ca-335f-4557-b330-9fd05d38c0fc"
      },
      "source": [
        "\"R$ 25,78\".strip(\"R$ \").replace(\",\",\".\")"
      ],
      "execution_count": 13,
      "outputs": [
        {
          "output_type": "execute_result",
          "data": {
            "application/vnd.google.colaboratory.intrinsic+json": {
              "type": "string"
            },
            "text/plain": [
              "'25.78'"
            ]
          },
          "metadata": {
            "tags": []
          },
          "execution_count": 13
        }
      ]
    },
    {
      "cell_type": "code",
      "metadata": {
        "colab": {
          "base_uri": "https://localhost:8080/",
          "height": 35
        },
        "id": "gXr5Za-d455L",
        "outputId": "4cc056b8-b9cf-4057-bb80-a125e6dfbd22"
      },
      "source": [
        "#função slice permite 'fatiar' strings\n",
        "sobrenome = \"martins\"\n",
        "\n",
        "#obs: para uma casa antes\n",
        "sobrenome[0:2]\n",
        "\n",
        "sobrenome[:5]\n",
        "\n",
        "sobrenome[2:]\n"
      ],
      "execution_count": 17,
      "outputs": [
        {
          "output_type": "execute_result",
          "data": {
            "application/vnd.google.colaboratory.intrinsic+json": {
              "type": "string"
            },
            "text/plain": [
              "'rtins'"
            ]
          },
          "metadata": {
            "tags": []
          },
          "execution_count": 17
        }
      ]
    },
    {
      "cell_type": "code",
      "metadata": {
        "colab": {
          "base_uri": "https://localhost:8080/",
          "height": 35
        },
        "id": "D4kaw9aG6mKo",
        "outputId": "2dfc464d-3cc8-47e6-dc75-11e3b8c4bd0e"
      },
      "source": [
        "#step\n",
        "num = \"123456789\"\n",
        "\n",
        "num[::3]"
      ],
      "execution_count": 21,
      "outputs": [
        {
          "output_type": "execute_result",
          "data": {
            "application/vnd.google.colaboratory.intrinsic+json": {
              "type": "string"
            },
            "text/plain": [
              "'147'"
            ]
          },
          "metadata": {
            "tags": []
          },
          "execution_count": 21
        }
      ]
    },
    {
      "cell_type": "code",
      "metadata": {
        "colab": {
          "base_uri": "https://localhost:8080/",
          "height": 35
        },
        "id": "r5nzj_ji7f-s",
        "outputId": "7928cdec-24b9-4b34-bf7e-be872f503abd"
      },
      "source": [
        "nome = \"victor Gabriel Martins\"\n",
        "\n",
        "#função capitalize transforma o primeiro caracter em maiúsculo.\n",
        "nome.capitalize()\n"
      ],
      "execution_count": 23,
      "outputs": [
        {
          "output_type": "execute_result",
          "data": {
            "application/vnd.google.colaboratory.intrinsic+json": {
              "type": "string"
            },
            "text/plain": [
              "'Victor gabriel martins'"
            ]
          },
          "metadata": {
            "tags": []
          },
          "execution_count": 23
        }
      ]
    },
    {
      "cell_type": "code",
      "metadata": {
        "id": "4GB1ruK98Fqw"
      },
      "source": [
        "#função lower transforma todos os caracteres em minúsculo\n",
        "nome = nome.lower()"
      ],
      "execution_count": 36,
      "outputs": []
    },
    {
      "cell_type": "code",
      "metadata": {
        "colab": {
          "base_uri": "https://localhost:8080/",
          "height": 35
        },
        "id": "eGa3nEy18aQV",
        "outputId": "0cb3da64-930e-4e6c-ef6f-d009d33811d8"
      },
      "source": [
        "#função upper deixa toda a string maiúscula\n",
        "nome.upper()"
      ],
      "execution_count": 25,
      "outputs": [
        {
          "output_type": "execute_result",
          "data": {
            "application/vnd.google.colaboratory.intrinsic+json": {
              "type": "string"
            },
            "text/plain": [
              "'VICTOR GABRIEL MARTINS'"
            ]
          },
          "metadata": {
            "tags": []
          },
          "execution_count": 25
        }
      ]
    },
    {
      "cell_type": "code",
      "metadata": {
        "id": "U6JUVixp8u_t"
      },
      "source": [
        "#função title transforma a primeira letra de cada palavra em maiúscula\n",
        "nome = nome.title()"
      ],
      "execution_count": 37,
      "outputs": []
    },
    {
      "cell_type": "code",
      "metadata": {
        "colab": {
          "base_uri": "https://localhost:8080/",
          "height": 35
        },
        "id": "lP0ENXka9SLI",
        "outputId": "72c370da-c0fa-4f55-82a8-f47f075e8522"
      },
      "source": [
        "#função swapcase transforma caracteres maiúsculo em minúsculo, e vice-versa\n",
        "nome.swapcase()"
      ],
      "execution_count": 38,
      "outputs": [
        {
          "output_type": "execute_result",
          "data": {
            "application/vnd.google.colaboratory.intrinsic+json": {
              "type": "string"
            },
            "text/plain": [
              "'vICTOR gABRIEL mARTINS'"
            ]
          },
          "metadata": {
            "tags": []
          },
          "execution_count": 38
        }
      ]
    }
  ]
}