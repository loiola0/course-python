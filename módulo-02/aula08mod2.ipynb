{
  "nbformat": 4,
  "nbformat_minor": 0,
  "metadata": {
    "colab": {
      "name": "aula08mod02.ipynb",
      "provenance": []
    },
    "kernelspec": {
      "name": "python3",
      "display_name": "Python 3"
    }
  },
  "cells": [
    {
      "cell_type": "code",
      "metadata": {
        "colab": {
          "base_uri": "https://localhost:8080/"
        },
        "id": "dSc7OPdFXzw3",
        "outputId": "eb42c63b-0605-42d5-88cd-b0cae862ec69"
      },
      "source": [
        "valor = \"R$ 1.295,0\"\n",
        "\n",
        "type(float(valor.split(\" \")[1].replace(\".\",\"\").replace(\",\",\".\")))"
      ],
      "execution_count": 7,
      "outputs": [
        {
          "output_type": "execute_result",
          "data": {
            "text/plain": [
              "float"
            ]
          },
          "metadata": {
            "tags": []
          },
          "execution_count": 7
        }
      ]
    },
    {
      "cell_type": "code",
      "metadata": {
        "id": "ecymEKQKbcRR"
      },
      "source": [
        "nome = \"Victor\""
      ],
      "execution_count": 15,
      "outputs": []
    },
    {
      "cell_type": "code",
      "metadata": {
        "colab": {
          "base_uri": "https://localhost:8080/",
          "height": 35
        },
        "id": "Xcm0-N4obfMw",
        "outputId": "8da3a131-ba03-4fe4-ced2-4cf1e3f25f2f"
      },
      "source": [
        "#saber o ultimo caracter da string\n",
        "nome[-1]"
      ],
      "execution_count": 19,
      "outputs": [
        {
          "output_type": "execute_result",
          "data": {
            "application/vnd.google.colaboratory.intrinsic+json": {
              "type": "string"
            },
            "text/plain": [
              "'r'"
            ]
          },
          "metadata": {
            "tags": []
          },
          "execution_count": 19
        }
      ]
    }
  ]
}