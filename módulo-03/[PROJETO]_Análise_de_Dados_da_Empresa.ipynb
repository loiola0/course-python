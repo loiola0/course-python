{
  "nbformat": 4,
  "nbformat_minor": 0,
  "metadata": {
    "colab": {
      "name": "[PROJETO] Análise de Dados da Empresa",
      "provenance": [],
      "collapsed_sections": []
    },
    "kernelspec": {
      "name": "python3",
      "display_name": "Python 3"
    }
  },
  "cells": [
    {
      "cell_type": "markdown",
      "metadata": {
        "id": "Q9X2KkdET-PX"
      },
      "source": [
        "<img alt=\"Colaboratory logo\" width=\"15%\" src=\"https://raw.githubusercontent.com/carlosfab/escola-data-science/master/img/novo_logo_bg_claro.png\">\n",
        "\n",
        "#### **Python do Zero**\n",
        "*by [sigmoidal.ai](https://sigmoidal.ai)*\n",
        "\n",
        "---\n",
        "\n",
        "# Análise de Dados da Empresa\n",
        "\n",
        "Com o conteúdo que temos até aqui, já é possível fazer análises e plotar visualizações informativas...."
      ]
    },
    {
      "cell_type": "code",
      "metadata": {
        "id": "FDEaGb1_USWI",
        "colab": {
          "base_uri": "https://localhost:8080/",
          "height": 221
        },
        "outputId": "404c593b-07f0-404f-fbc7-ca9024ed5907"
      },
      "source": [
        "# importar as bibliotecas necessárias - pandas, matplotlib, google.colab drive\n",
        "import pandas as pd\n",
        "import matplotlib.pyplot as plt\n",
        "from google.colab import drive\n",
        "# montar o drive\n",
        "drive.mount(\"/content/gdrive\")\n",
        "# importar a planilha com pandas\n",
        "planilha = pd.read_excel(\"/content/gdrive/MyDrive/curso-python/mod03/planilhas/controle_da_empresa.xlsx\",None)\n",
        "# associar à variável 'df' a planilha Vendas\n",
        "df = planilha[\"Vendas\"]\n",
        "# visualizar as 5 primeiras entradas\n",
        "df.head()"
      ],
      "execution_count": 7,
      "outputs": [
        {
          "output_type": "stream",
          "text": [
            "Drive already mounted at /content/gdrive; to attempt to forcibly remount, call drive.mount(\"/content/gdrive\", force_remount=True).\n"
          ],
          "name": "stdout"
        },
        {
          "output_type": "execute_result",
          "data": {
            "text/html": [
              "<div>\n",
              "<style scoped>\n",
              "    .dataframe tbody tr th:only-of-type {\n",
              "        vertical-align: middle;\n",
              "    }\n",
              "\n",
              "    .dataframe tbody tr th {\n",
              "        vertical-align: top;\n",
              "    }\n",
              "\n",
              "    .dataframe thead th {\n",
              "        text-align: right;\n",
              "    }\n",
              "</style>\n",
              "<table border=\"1\" class=\"dataframe\">\n",
              "  <thead>\n",
              "    <tr style=\"text-align: right;\">\n",
              "      <th></th>\n",
              "      <th>Data da Venda</th>\n",
              "      <th>Item</th>\n",
              "      <th>Quantidade</th>\n",
              "      <th>Vendedor</th>\n",
              "      <th>Preço Unitário</th>\n",
              "      <th>Total de Vendas</th>\n",
              "    </tr>\n",
              "  </thead>\n",
              "  <tbody>\n",
              "    <tr>\n",
              "      <th>0</th>\n",
              "      <td>2020-01-02</td>\n",
              "      <td>Lente 50mm f/1.4</td>\n",
              "      <td>2</td>\n",
              "      <td>Carlos</td>\n",
              "      <td>1649</td>\n",
              "      <td>3298</td>\n",
              "    </tr>\n",
              "    <tr>\n",
              "      <th>1</th>\n",
              "      <td>2020-01-02</td>\n",
              "      <td>Filtro ND 5 Stop</td>\n",
              "      <td>2</td>\n",
              "      <td>Raquel</td>\n",
              "      <td>1220</td>\n",
              "      <td>2440</td>\n",
              "    </tr>\n",
              "    <tr>\n",
              "      <th>2</th>\n",
              "      <td>2020-01-03</td>\n",
              "      <td>Filtro ND 5 Stop</td>\n",
              "      <td>2</td>\n",
              "      <td>Raquel</td>\n",
              "      <td>1220</td>\n",
              "      <td>2440</td>\n",
              "    </tr>\n",
              "    <tr>\n",
              "      <th>3</th>\n",
              "      <td>2020-01-03</td>\n",
              "      <td>Lente 16-35mm f/2.8</td>\n",
              "      <td>2</td>\n",
              "      <td>Carlos</td>\n",
              "      <td>8997</td>\n",
              "      <td>17994</td>\n",
              "    </tr>\n",
              "    <tr>\n",
              "      <th>4</th>\n",
              "      <td>2020-01-04</td>\n",
              "      <td>Lente 16-35mm f/2.8</td>\n",
              "      <td>2</td>\n",
              "      <td>Fernanda</td>\n",
              "      <td>8997</td>\n",
              "      <td>17994</td>\n",
              "    </tr>\n",
              "  </tbody>\n",
              "</table>\n",
              "</div>"
            ],
            "text/plain": [
              "  Data da Venda                 Item  ...  Preço Unitário Total de Vendas\n",
              "0    2020-01-02     Lente 50mm f/1.4  ...            1649            3298\n",
              "1    2020-01-02     Filtro ND 5 Stop  ...            1220            2440\n",
              "2    2020-01-03     Filtro ND 5 Stop  ...            1220            2440\n",
              "3    2020-01-03  Lente 16-35mm f/2.8  ...            8997           17994\n",
              "4    2020-01-04  Lente 16-35mm f/2.8  ...            8997           17994\n",
              "\n",
              "[5 rows x 6 columns]"
            ]
          },
          "metadata": {
            "tags": []
          },
          "execution_count": 7
        }
      ]
    },
    {
      "cell_type": "code",
      "metadata": {
        "id": "oUsN4-TBT4Ya",
        "cellView": "form"
      },
      "source": [
        "#@title Solução\n",
        "# importar bibliotecas\n",
        "import pandas as pd\n",
        "import matplotlib.pyplot as plt\n",
        "from google.colab import drive\n",
        "\n",
        "# montando o drive\n",
        "drive.mount('/content/gdrive')\n",
        "\n",
        "\n",
        "# importar planilha do Excel\n",
        "planilha = pd.read_excel(\"/content/gdrive/My Drive/controle_da_empresa.xlsx\", None)\n",
        "df = planilha['Vendas']\n",
        "\n",
        "# ver as 5 primeiras entradas\n",
        "df.head()\n"
      ],
      "execution_count": null,
      "outputs": []
    },
    {
      "cell_type": "code",
      "metadata": {
        "id": "yhKDzNFhUtEH",
        "colab": {
          "base_uri": "https://localhost:8080/",
          "height": 295
        },
        "outputId": "b6f5dc8c-e8fb-482f-e3ee-9d9a526aa869"
      },
      "source": [
        "# plotar um histograma do total de vendas\n",
        "plt.hist(\"Total de Vendas\",data=df)\n",
        "plt.title(\"Histograma de Vendas\")\n",
        "plt.ylabel(\"Quantidade de ocorrências\")\n",
        "plt.xlabel(\"Valor da compra\")\n",
        "plt.show()\n"
      ],
      "execution_count": 10,
      "outputs": [
        {
          "output_type": "display_data",
          "data": {
            "image/png": "[encoded data removed]",
            "text/plain": [
              "<Figure size 432x288 with 1 Axes>"
            ]
          },
          "metadata": {
            "tags": [],
            "needs_background": "light"
          }
        }
      ]
    },
    {
      "cell_type": "code",
      "metadata": {
        "id": "9NJkN5Lfc1Do",
        "cellView": "form"
      },
      "source": [
        "#@title Solução\n",
        "plt.hist('Total de Vendas', data=df)\n",
        "plt.title(\"Histograma de Vendas\")\n",
        "plt.ylabel(\"Quantidade de ocorrências\")\n",
        "plt.xlabel(\"Valor da Compra\")\n",
        "plt.show()"
      ],
      "execution_count": null,
      "outputs": []
    },
    {
      "cell_type": "code",
      "metadata": {
        "id": "VOsY99IqUwmm",
        "colab": {
          "base_uri": "https://localhost:8080/",
          "height": 295
        },
        "outputId": "eaa748ef-5973-4daa-fb8b-6810450910d8"
      },
      "source": [
        "# plotar um gráfico de linha das vendas ao longo do tempo\n",
        "# rode a célula para transformar a coluna Datas para o formato datetime\n",
        "df['Data da Venda'] = pd.to_datetime(df['Data da Venda'], infer_datetime_format=True)\n",
        "plt.plot(\"Data da Venda\",\"Total de Vendas\",data=df)\n",
        "plt.title(\"Vendas ao longo do tempo\")\n",
        "plt.ylabel(\"Total de Vendas\")\n",
        "plt.xlabel(\"Data da Venda\")\n",
        "plt.show()\n",
        "\n"
      ],
      "execution_count": 15,
      "outputs": [
        {
          "output_type": "display_data",
          "data": {
            "image/png": "[encoded data removed]",
            "text/plain": [
              "<Figure size 432x288 with 1 Axes>"
            ]
          },
          "metadata": {
            "tags": [],
            "needs_background": "light"
          }
        }
      ]
    },
    {
      "cell_type": "code",
      "metadata": {
        "id": "rA_t29QTd5KU",
        "cellView": "form"
      },
      "source": [
        "#@title Solução\n",
        "# criando o plot\n",
        "\n",
        "plt.plot('Data da Venda', 'Total de Vendas', data=df)\n",
        "\n",
        "# definindo título\n",
        "plt.title(\"Vendas\")\n",
        "plt.ylabel(\"Total em Vendas\")\n",
        "plt.xlabel(\"Data\")\n",
        "plt.xticks(rotation=45)\n",
        "\n",
        "# mostrando gráfico\n",
        "plt.show()"
      ],
      "execution_count": null,
      "outputs": []
    },
    {
      "cell_type": "code",
      "metadata": {
        "id": "_wMHknuzUzzP",
        "colab": {
          "base_uri": "https://localhost:8080/",
          "height": 316
        },
        "outputId": "3d4d394b-ad21-4b12-b6a0-813dcfe5220b"
      },
      "source": [
        "# plotar um gráfico de barras para os vendedores\n",
        "df.groupby(\"Vendedor\")[\"Total de Vendas\"].sum().plot.bar()\n",
        "plt.show()\n"
      ],
      "execution_count": 22,
      "outputs": [
        {
          "output_type": "display_data",
          "data": {
            "image/png": "[encoded data removed]",
            "text/plain": [
              "<Figure size 432x288 with 1 Axes>"
            ]
          },
          "metadata": {
            "tags": [],
            "needs_background": "light"
          }
        }
      ]
    },
    {
      "cell_type": "code",
      "metadata": {
        "id": "zb8w67MRm9JI"
      },
      "source": [
        "#@title Solução\n",
        "df.groupby('Vendedor')['Total de Vendas'].sum().plot.bar();"
      ],
      "execution_count": null,
      "outputs": []
    },
    {
      "cell_type": "code",
      "metadata": {
        "id": "2fJUSGsrbfgl",
        "outputId": "853742b2-a4b7-485c-90d3-7d9fe53e1d4e",
        "colab": {
          "base_uri": "https://localhost:8080/"
        }
      },
      "source": [
        "!pip install pywaffle"
      ],
      "execution_count": 23,
      "outputs": [
        {
          "output_type": "stream",
          "text": [
            "Collecting pywaffle\n",
            "\u001b[?25l  Downloading https://files.pythonhosted.org/packages/e2/93/9a1e014fef383149b0f6dccdb8b2f2126d8827d4d48f2884949d6f8769ea/pywaffle-0.6.1-py2.py3-none-any.whl (526kB)\n",
            "\r\u001b[K     |▋                               | 10kB 17.3MB/s eta 0:00:01\r\u001b[K     |█▎                              | 20kB 17.9MB/s eta 0:00:01\r\u001b[K     |█▉                              | 30kB 10.3MB/s eta 0:00:01\r\u001b[K     |██▌                             | 40kB 8.4MB/s eta 0:00:01\r\u001b[K     |███                             | 51kB 7.3MB/s eta 0:00:01\r\u001b[K     |███▊                            | 61kB 7.5MB/s eta 0:00:01\r\u001b[K     |████▍                           | 71kB 8.3MB/s eta 0:00:01\r\u001b[K     |█████                           | 81kB 7.7MB/s eta 0:00:01\r\u001b[K     |█████▋                          | 92kB 7.2MB/s eta 0:00:01\r\u001b[K     |██████▏                         | 102kB 7.1MB/s eta 0:00:01\r\u001b[K     |██████▉                         | 112kB 7.1MB/s eta 0:00:01\r\u001b[K     |███████▌                        | 122kB 7.1MB/s eta 0:00:01\r\u001b[K     |████████                        | 133kB 7.1MB/s eta 0:00:01\r\u001b[K     |████████▊                       | 143kB 7.1MB/s eta 0:00:01\r\u001b[K     |█████████▎                      | 153kB 7.1MB/s eta 0:00:01\r\u001b[K     |██████████                      | 163kB 7.1MB/s eta 0:00:01\r\u001b[K     |██████████▋                     | 174kB 7.1MB/s eta 0:00:01\r\u001b[K     |███████████▏                    | 184kB 7.1MB/s eta 0:00:01\r\u001b[K     |███████████▉                    | 194kB 7.1MB/s eta 0:00:01\r\u001b[K     |████████████▍                   | 204kB 7.1MB/s eta 0:00:01\r\u001b[K     |█████████████                   | 215kB 7.1MB/s eta 0:00:01\r\u001b[K     |█████████████▊                  | 225kB 7.1MB/s eta 0:00:01\r\u001b[K     |██████████████▎                 | 235kB 7.1MB/s eta 0:00:01\r\u001b[K     |███████████████                 | 245kB 7.1MB/s eta 0:00:01\r\u001b[K     |███████████████▌                | 256kB 7.1MB/s eta 0:00:01\r\u001b[K     |████████████████▏               | 266kB 7.1MB/s eta 0:00:01\r\u001b[K     |████████████████▉               | 276kB 7.1MB/s eta 0:00:01\r\u001b[K     |█████████████████▍              | 286kB 7.1MB/s eta 0:00:01\r\u001b[K     |██████████████████              | 296kB 7.1MB/s eta 0:00:01\r\u001b[K     |██████████████████▋             | 307kB 7.1MB/s eta 0:00:01\r\u001b[K     |███████████████████▎            | 317kB 7.1MB/s eta 0:00:01\r\u001b[K     |████████████████████            | 327kB 7.1MB/s eta 0:00:01\r\u001b[K     |████████████████████▌           | 337kB 7.1MB/s eta 0:00:01\r\u001b[K     |█████████████████████▏          | 348kB 7.1MB/s eta 0:00:01\r\u001b[K     |█████████████████████▊          | 358kB 7.1MB/s eta 0:00:01\r\u001b[K     |██████████████████████▍         | 368kB 7.1MB/s eta 0:00:01\r\u001b[K     |███████████████████████         | 378kB 7.1MB/s eta 0:00:01\r\u001b[K     |███████████████████████▋        | 389kB 7.1MB/s eta 0:00:01\r\u001b[K     |████████████████████████▎       | 399kB 7.1MB/s eta 0:00:01\r\u001b[K     |████████████████████████▉       | 409kB 7.1MB/s eta 0:00:01\r\u001b[K     |█████████████████████████▌      | 419kB 7.1MB/s eta 0:00:01\r\u001b[K     |██████████████████████████▏     | 430kB 7.1MB/s eta 0:00:01\r\u001b[K     |██████████████████████████▊     | 440kB 7.1MB/s eta 0:00:01\r\u001b[K     |███████████████████████████▍    | 450kB 7.1MB/s eta 0:00:01\r\u001b[K     |████████████████████████████    | 460kB 7.1MB/s eta 0:00:01\r\u001b[K     |████████████████████████████▋   | 471kB 7.1MB/s eta 0:00:01\r\u001b[K     |█████████████████████████████▎  | 481kB 7.1MB/s eta 0:00:01\r\u001b[K     |█████████████████████████████▉  | 491kB 7.1MB/s eta 0:00:01\r\u001b[K     |██████████████████████████████▌ | 501kB 7.1MB/s eta 0:00:01\r\u001b[K     |███████████████████████████████ | 512kB 7.1MB/s eta 0:00:01\r\u001b[K     |███████████████████████████████▊| 522kB 7.1MB/s eta 0:00:01\r\u001b[K     |████████████████████████████████| 532kB 7.1MB/s \n",
            "\u001b[?25hRequirement already satisfied: matplotlib in /usr/local/lib/python3.6/dist-packages (from pywaffle) (3.2.2)\n",
            "Requirement already satisfied: numpy>=1.11 in /usr/local/lib/python3.6/dist-packages (from matplotlib->pywaffle) (1.18.5)\n",
            "Requirement already satisfied: cycler>=0.10 in /usr/local/lib/python3.6/dist-packages (from matplotlib->pywaffle) (0.10.0)\n",
            "Requirement already satisfied: pyparsing!=2.0.4,!=2.1.2,!=2.1.6,>=2.0.1 in /usr/local/lib/python3.6/dist-packages (from matplotlib->pywaffle) (2.4.7)\n",
            "Requirement already satisfied: kiwisolver>=1.0.1 in /usr/local/lib/python3.6/dist-packages (from matplotlib->pywaffle) (1.3.1)\n",
            "Requirement already satisfied: python-dateutil>=2.1 in /usr/local/lib/python3.6/dist-packages (from matplotlib->pywaffle) (2.8.1)\n",
            "Requirement already satisfied: six in /usr/local/lib/python3.6/dist-packages (from cycler>=0.10->matplotlib->pywaffle) (1.15.0)\n",
            "Installing collected packages: pywaffle\n",
            "Successfully installed pywaffle-0.6.1\n"
          ],
          "name": "stdout"
        }
      ]
    },
    {
      "cell_type": "code",
      "metadata": {
        "id": "kmX5peGVbp0o"
      },
      "source": [
        "from pywaffle import Waffle"
      ],
      "execution_count": 24,
      "outputs": []
    },
    {
      "cell_type": "code",
      "metadata": {
        "id": "cFQR2ADtnnJB",
        "colab": {
          "base_uri": "https://localhost:8080/",
          "height": 195
        },
        "outputId": "0b98566f-e45c-43fd-f456-abee8ca517e0"
      },
      "source": [
        "# plotar um gráfico de pizza ou waffle para os produtos mais vendidos\n",
        "a = dict(df[\"Item\"].value_counts())\n",
        "fig = plt.figure(\n",
        "        FigureClass = Waffle,\n",
        "        rows = 5,\n",
        "        columns = 10,\n",
        "        values= a,\n",
        "        legend={\"loc\":\"upper left\",\"bbox_to_anchor\":(1.1,1)},\n",
        "        icon_legend=True\n",
        "  )\n",
        "fig.set_tight_layout(False)\n",
        "plt.show()"
      ],
      "execution_count": 30,
      "outputs": [
        {
          "output_type": "display_data",
          "data": {
            "image/png": "[encoded data removed]",
            "text/plain": [
              "<Waffle size 432x288 with 1 Axes>"
            ]
          },
          "metadata": {
            "tags": [],
            "needs_background": "light"
          }
        }
      ]
    },
    {
      "cell_type": "code",
      "metadata": {
        "id": "TYGvaHKoU3v0",
        "cellView": "form"
      },
      "source": [
        "#@title Solução\n",
        "a = dict(df[\"Item\"].value_counts())\n",
        "\n",
        "labels = a.keys()\n",
        "valores = a.values()\n",
        "\n",
        "# criando gráfico de pizza\n",
        "plt.pie(x=valores, labels=labels)\n",
        "\n",
        "# definindo título\n",
        "plt.title(\"Itens Mais Vendidos\")\n",
        "\n",
        "# mostrando o gráfico\n",
        "plt.show()"
      ],
      "execution_count": null,
      "outputs": []
    },
    {
      "cell_type": "code",
      "metadata": {
        "id": "97uGP1VPU6wc"
      },
      "source": [
        "\n"
      ],
      "execution_count": null,
      "outputs": []
    }
  ]
}