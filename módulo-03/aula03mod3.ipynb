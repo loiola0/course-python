{
  "nbformat": 4,
  "nbformat_minor": 0,
  "metadata": {
    "colab": {
      "name": "aula03mod3.ipynb",
      "provenance": []
    },
    "kernelspec": {
      "name": "python3",
      "display_name": "Python 3"
    }
  },
  "cells": [
    {
      "cell_type": "code",
      "metadata": {
        "id": "bry9RovCuXsg"
      },
      "source": [
        "#importando bibliotecas\n",
        "import pandas as pd\n",
        "import matplotlib.pyplot as plt"
      ],
      "execution_count": 1,
      "outputs": []
    },
    {
      "cell_type": "code",
      "metadata": {
        "id": "J97Rkq7tu8QN"
      },
      "source": [
        "#importar dados para dataframe\n",
        "\n",
        "df = pd.read_csv(\"https://raw.githubusercontent.com/carlosfab/dsnp2/master/datasets/dengue-dataset.csv\")"
      ],
      "execution_count": 2,
      "outputs": []
    },
    {
      "cell_type": "code",
      "metadata": {
        "colab": {
          "base_uri": "https://localhost:8080/",
          "height": 204
        },
        "id": "5IttzMQIvK8b",
        "outputId": "d00b8b12-faf7-4b15-cd14-2dfe6d4de597"
      },
      "source": [
        "df.head()"
      ],
      "execution_count": 3,
      "outputs": [
        {
          "output_type": "execute_result",
          "data": {
            "text/html": [
              "<div>\n",
              "<style scoped>\n",
              "    .dataframe tbody tr th:only-of-type {\n",
              "        vertical-align: middle;\n",
              "    }\n",
              "\n",
              "    .dataframe tbody tr th {\n",
              "        vertical-align: top;\n",
              "    }\n",
              "\n",
              "    .dataframe thead th {\n",
              "        text-align: right;\n",
              "    }\n",
              "</style>\n",
              "<table border=\"1\" class=\"dataframe\">\n",
              "  <thead>\n",
              "    <tr style=\"text-align: right;\">\n",
              "      <th></th>\n",
              "      <th>data</th>\n",
              "      <th>casos-confirmados</th>\n",
              "      <th>chuva</th>\n",
              "      <th>temperatura-media</th>\n",
              "      <th>temperatura-mininima</th>\n",
              "      <th>temperatura-maxima</th>\n",
              "    </tr>\n",
              "  </thead>\n",
              "  <tbody>\n",
              "    <tr>\n",
              "      <th>0</th>\n",
              "      <td>1998-01-01</td>\n",
              "      <td>237</td>\n",
              "      <td>179.2</td>\n",
              "      <td>25.7</td>\n",
              "      <td>20.2</td>\n",
              "      <td>28.1</td>\n",
              "    </tr>\n",
              "    <tr>\n",
              "      <th>1</th>\n",
              "      <td>1998-02-01</td>\n",
              "      <td>331</td>\n",
              "      <td>226.3</td>\n",
              "      <td>25.1</td>\n",
              "      <td>20.0</td>\n",
              "      <td>28.0</td>\n",
              "    </tr>\n",
              "    <tr>\n",
              "      <th>2</th>\n",
              "      <td>1998-03-01</td>\n",
              "      <td>562</td>\n",
              "      <td>149.1</td>\n",
              "      <td>24.8</td>\n",
              "      <td>22.4</td>\n",
              "      <td>27.2</td>\n",
              "    </tr>\n",
              "    <tr>\n",
              "      <th>3</th>\n",
              "      <td>1998-04-01</td>\n",
              "      <td>187</td>\n",
              "      <td>46.4</td>\n",
              "      <td>22.7</td>\n",
              "      <td>18.1</td>\n",
              "      <td>26.0</td>\n",
              "    </tr>\n",
              "    <tr>\n",
              "      <th>4</th>\n",
              "      <td>1998-05-01</td>\n",
              "      <td>32</td>\n",
              "      <td>88.3</td>\n",
              "      <td>19.2</td>\n",
              "      <td>15.7</td>\n",
              "      <td>22.9</td>\n",
              "    </tr>\n",
              "  </tbody>\n",
              "</table>\n",
              "</div>"
            ],
            "text/plain": [
              "         data  casos-confirmados  ...  temperatura-mininima  temperatura-maxima\n",
              "0  1998-01-01                237  ...                  20.2                28.1\n",
              "1  1998-02-01                331  ...                  20.0                28.0\n",
              "2  1998-03-01                562  ...                  22.4                27.2\n",
              "3  1998-04-01                187  ...                  18.1                26.0\n",
              "4  1998-05-01                 32  ...                  15.7                22.9\n",
              "\n",
              "[5 rows x 6 columns]"
            ]
          },
          "metadata": {
            "tags": []
          },
          "execution_count": 3
        }
      ]
    },
    {
      "cell_type": "code",
      "metadata": {
        "colab": {
          "base_uri": "https://localhost:8080/"
        },
        "id": "H4KLxpbNvXcm",
        "outputId": "a91a9a19-25d3-43bc-9615-cb336db4e1bb"
      },
      "source": [
        "df.dtypes"
      ],
      "execution_count": 7,
      "outputs": [
        {
          "output_type": "execute_result",
          "data": {
            "text/plain": [
              "data                    datetime64[ns]\n",
              "casos-confirmados                int64\n",
              "chuva                          float64\n",
              "temperatura-media              float64\n",
              "temperatura-mininima           float64\n",
              "temperatura-maxima             float64\n",
              "dtype: object"
            ]
          },
          "metadata": {
            "tags": []
          },
          "execution_count": 7
        }
      ]
    },
    {
      "cell_type": "code",
      "metadata": {
        "id": "LSdJR75Lvfku"
      },
      "source": [
        "#colocando a data(tipo object) para ser do tipo date\n",
        "df[\"data\"] = pd.to_datetime(df[\"data\"])"
      ],
      "execution_count": 6,
      "outputs": []
    },
    {
      "cell_type": "code",
      "metadata": {
        "colab": {
          "base_uri": "https://localhost:8080/",
          "height": 295
        },
        "id": "whxthXHGv3zP",
        "outputId": "1634bbdd-e1e6-4da4-d6e5-2f8e5848dfcf"
      },
      "source": [
        "#criando plot\n",
        "plt.plot(\"data\",\"casos-confirmados\",data=df)\n",
        "#perceba que o terceiro argumento, data(dados), não é o data(calendário) do data frame\n",
        "\n",
        "#definindo título\n",
        "plt.title(\"Degue em Campinas\")\n",
        "plt.xlabel(\"Data\")\n",
        "plt.ylabel(\"Casos confirmados\")\n",
        "\n",
        "#mostrando gráfico\n",
        "plt.show()"
      ],
      "execution_count": 9,
      "outputs": [
        {
          "output_type": "display_data",
          "data": {
            "image/png": "[encoded data removed]",
            "text/plain": [
              "<Figure size 432x288 with 1 Axes>"
            ]
          },
          "metadata": {
            "tags": [],
            "needs_background": "light"
          }
        }
      ]
    }
  ]
}