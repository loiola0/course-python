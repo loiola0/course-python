{
  "nbformat": 4,
  "nbformat_minor": 0,
  "metadata": {
    "colab": {
      "name": "aula09mod3.ipynb",
      "provenance": []
    },
    "kernelspec": {
      "name": "python3",
      "display_name": "Python 3"
    }
  },
  "cells": [
    {
      "cell_type": "code",
      "metadata": {
        "id": "Hr_PUqtHr2tx"
      },
      "source": [
        "#instalar o pywaffle\n",
        "!pip install pywaffle"
      ],
      "execution_count": null,
      "outputs": []
    },
    {
      "cell_type": "code",
      "metadata": {
        "id": "xp9yD3wkp7oR"
      },
      "source": [
        "#importando as bibliotecas\n",
        "import matplotlib.pyplot as plt\n",
        "from pywaffle import Waffle"
      ],
      "execution_count": 4,
      "outputs": []
    },
    {
      "cell_type": "code",
      "metadata": {
        "colab": {
          "base_uri": "https://localhost:8080/",
          "height": 161
        },
        "id": "yb6prB23sOpE",
        "outputId": "6c35d196-0310-466c-fbe9-8b3726ba93f7"
      },
      "source": [
        "# exemplo de Waffle\n",
        "fig = plt.figure(\n",
        "                FigureClass=Waffle,\n",
        "                rows = 4,\n",
        "                columns = 10,\n",
        "                values = {'Bolacha':33,\n",
        "                          'Biscoito':48,\n",
        "                          'Salgadinho':19},\n",
        "                 legend={'loc':'upper left',\n",
        "                         'bbox_to_anchor' : (1.1, 1)}\n",
        "              )\n",
        "\n",
        "fig.set_tight_layout(False)\n",
        "plt.show()"
      ],
      "execution_count": 10,
      "outputs": [
        {
          "output_type": "display_data",
          "data": {
            "image/png": "[encoded data removed]",
            "text/plain": [
              "<Waffle size 432x288 with 1 Axes>"
            ]
          },
          "metadata": {
            "tags": [],
            "needs_background": "light"
          }
        }
      ]
    },
    {
      "cell_type": "markdown",
      "metadata": {
        "id": "MQ2dtiQtve5m"
      },
      "source": [
        "**Customizando seus gráfico Waffle**\n",
        "\n"
      ]
    },
    {
      "cell_type": "code",
      "metadata": {
        "id": "7H0JWjNssu0q"
      },
      "source": [
        "#importando o pandas\n",
        "import pandas as pd\n",
        "\n",
        "#importando os dados para o dataframe\n",
        "df = pd.read_csv(\"https://raw.githubusercontent.com/carlosfab/dsnp2/master/datasets/ocorrencias_aviacao.csv\")\n",
        "\n",
        "#Extrair value counts da variável ocorrencia_classificacao\n",
        "data = dict(df[\"ocorrencia_classificacao\"].value_counts())\n"
      ],
      "execution_count": 12,
      "outputs": []
    },
    {
      "cell_type": "code",
      "metadata": {
        "colab": {
          "base_uri": "https://localhost:8080/"
        },
        "id": "l1bREuF8vyaT",
        "outputId": "ac91f0e9-1f0a-43f8-cbff-7e0350a5cbf0"
      },
      "source": [
        "data"
      ],
      "execution_count": 13,
      "outputs": [
        {
          "output_type": "execute_result",
          "data": {
            "text/plain": [
              "{'ACIDENTE': 1714, 'INCIDENTE': 2861, 'INCIDENTE GRAVE': 633}"
            ]
          },
          "metadata": {
            "tags": []
          },
          "execution_count": 13
        }
      ]
    },
    {
      "cell_type": "code",
      "metadata": {
        "colab": {
          "base_uri": "https://localhost:8080/",
          "height": 141
        },
        "id": "DhemDXEwwuPy",
        "outputId": "23f4af4c-a83d-43ca-dccd-43369f118a31"
      },
      "source": [
        "#plotar gráfico de waffle\n",
        "\n",
        "fig = plt.figure(\n",
        "              FigureClass=Waffle,\n",
        "              rows = 5,\n",
        "              columns = 15,\n",
        "              colors=(\"#232066\",\"#983D3D\",\"#DCB732\"),\n",
        "              values=data, icons=\"plane\", icon_size=12,\n",
        "              legend={\"loc\":\"upper left\",\"bbox_to_anchor\":(1.1,1)},\n",
        "              icon_legend=True\n",
        "              )\n",
        "fig.set_tight_layout(False)\n",
        "plt.show()"
      ],
      "execution_count": 20,
      "outputs": [
        {
          "output_type": "display_data",
          "data": {
            "image/png": "[encoded data removed]",
            "text/plain": [
              "<Waffle size 432x288 with 1 Axes>"
            ]
          },
          "metadata": {
            "tags": [],
            "needs_background": "light"
          }
        }
      ]
    },
    {
      "cell_type": "code",
      "metadata": {
        "colab": {
          "base_uri": "https://localhost:8080/",
          "height": 237
        },
        "id": "dp_c9g7Qx_Y0",
        "outputId": "9dd9459b-2e80-4d13-b5b2-016e7bcdfca0"
      },
      "source": [
        "#plotar homens e mulheres que estão na sala de aula\n",
        "fig = plt.figure(\n",
        "              FigureClass = Waffle,\n",
        "              rows = 8,\n",
        "              columns = 13,\n",
        "              values={\"Homens\":48,\"Mulheres\":58},icons=\"child\", icon_size=12,\n",
        "              colors=(\"#232066\",\"#983D3D\"),\n",
        "              legend={\"loc\":\"upper left\",\"bbox_to_anchor\":(1.1,1)},\n",
        "              icon_legend=True \n",
        "               )\n",
        "fig.set_tight_layout(False)\n",
        "plt.show()"
      ],
      "execution_count": 34,
      "outputs": [
        {
          "output_type": "display_data",
          "data": {
            "image/png": "[encoded data removed]",
            "text/plain": [
              "<Waffle size 432x288 with 1 Axes>"
            ]
          },
          "metadata": {
            "tags": [],
            "needs_background": "light"
          }
        }
      ]
    }
  ]
}