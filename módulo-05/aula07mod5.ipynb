{
  "nbformat": 4,
  "nbformat_minor": 0,
  "metadata": {
    "colab": {
      "name": "aula07mod5",
      "provenance": []
    },
    "kernelspec": {
      "name": "python3",
      "display_name": "Python 3"
    }
  },
  "cells": [
    {
      "cell_type": "code",
      "metadata": {
        "colab": {
          "base_uri": "https://localhost:8080/"
        },
        "id": "pGKee7m44b_R",
        "outputId": "29b4aa04-000f-4ebc-e6ac-fb840733d8b8"
      },
      "source": [
        "#atualizando a lib openpyxl\n",
        "!pip install -U openpyxl -q"
      ],
      "execution_count": 1,
      "outputs": [
        {
          "output_type": "stream",
          "text": [
            "\u001b[?25l\r\u001b[K     |█▍                              | 10kB 20.4MB/s eta 0:00:01\r\u001b[K     |██▊                             | 20kB 16.7MB/s eta 0:00:01\r\u001b[K     |████                            | 30kB 8.4MB/s eta 0:00:01\r\u001b[K     |█████▍                          | 40kB 7.1MB/s eta 0:00:01\r\u001b[K     |██████▊                         | 51kB 4.6MB/s eta 0:00:01\r\u001b[K     |████████                        | 61kB 5.1MB/s eta 0:00:01\r\u001b[K     |█████████▌                      | 71kB 5.2MB/s eta 0:00:01\r\u001b[K     |██████████▉                     | 81kB 5.4MB/s eta 0:00:01\r\u001b[K     |████████████▏                   | 92kB 5.5MB/s eta 0:00:01\r\u001b[K     |█████████████▌                  | 102kB 5.8MB/s eta 0:00:01\r\u001b[K     |██████████████▉                 | 112kB 5.8MB/s eta 0:00:01\r\u001b[K     |████████████████▏               | 122kB 5.8MB/s eta 0:00:01\r\u001b[K     |█████████████████▌              | 133kB 5.8MB/s eta 0:00:01\r\u001b[K     |███████████████████             | 143kB 5.8MB/s eta 0:00:01\r\u001b[K     |████████████████████▎           | 153kB 5.8MB/s eta 0:00:01\r\u001b[K     |█████████████████████▋          | 163kB 5.8MB/s eta 0:00:01\r\u001b[K     |███████████████████████         | 174kB 5.8MB/s eta 0:00:01\r\u001b[K     |████████████████████████▎       | 184kB 5.8MB/s eta 0:00:01\r\u001b[K     |█████████████████████████▋      | 194kB 5.8MB/s eta 0:00:01\r\u001b[K     |███████████████████████████     | 204kB 5.8MB/s eta 0:00:01\r\u001b[K     |████████████████████████████▍   | 215kB 5.8MB/s eta 0:00:01\r\u001b[K     |█████████████████████████████▊  | 225kB 5.8MB/s eta 0:00:01\r\u001b[K     |███████████████████████████████ | 235kB 5.8MB/s eta 0:00:01\r\u001b[K     |████████████████████████████████| 245kB 5.8MB/s \n",
            "\u001b[?25h"
          ],
          "name": "stdout"
        }
      ]
    },
    {
      "cell_type": "code",
      "metadata": {
        "colab": {
          "base_uri": "https://localhost:8080/"
        },
        "id": "ymXJtz7S4vho",
        "outputId": "f832ce71-ce36-45d8-978b-5ff9429f86a9"
      },
      "source": [
        "#carregando planilha\n",
        "from openpyxl import load_workbook\n",
        "\n",
        "#carregando arquivo\n",
        "workbook = load_workbook(filename=\"controle_da_empresa.xlsx\")\n",
        "\n",
        "#verificando as abas \n",
        "workbook.sheetnames"
      ],
      "execution_count": 3,
      "outputs": [
        {
          "output_type": "execute_result",
          "data": {
            "text/plain": [
              "['Estoque', 'Vendas', 'Funcionários']"
            ]
          },
          "metadata": {
            "tags": []
          },
          "execution_count": 3
        }
      ]
    },
    {
      "cell_type": "code",
      "metadata": {
        "id": "HELNnsUY5Mhk"
      },
      "source": [
        "#carregando uma aba específica\n",
        "sheet = workbook['Vendas']"
      ],
      "execution_count": 4,
      "outputs": []
    },
    {
      "cell_type": "code",
      "metadata": {
        "colab": {
          "base_uri": "https://localhost:8080/",
          "height": 35
        },
        "id": "qHllo4Aq5xrv",
        "outputId": "03392b9e-7cb5-45b8-8b7c-e806d79c2298"
      },
      "source": [
        "#dimensões do conjunto de dados\n",
        "sheet.dimensions"
      ],
      "execution_count": 5,
      "outputs": [
        {
          "output_type": "execute_result",
          "data": {
            "application/vnd.google.colaboratory.intrinsic+json": {
              "type": "string"
            },
            "text/plain": [
              "'A1:F91'"
            ]
          },
          "metadata": {
            "tags": []
          },
          "execution_count": 5
        }
      ]
    },
    {
      "cell_type": "code",
      "metadata": {
        "id": "aaUMfbYB6KmJ"
      },
      "source": [
        "#adicionando um filtro\n",
        "sheet.auto_filter.ref = 'A1:F91'"
      ],
      "execution_count": 6,
      "outputs": []
    },
    {
      "cell_type": "code",
      "metadata": {
        "id": "iQazCUkr6grH"
      },
      "source": [
        "#salvando o arquivo modificado\n",
        "workbook.save(filename='controle_filtro.xlsx')"
      ],
      "execution_count": 7,
      "outputs": []
    },
    {
      "cell_type": "markdown",
      "metadata": {
        "id": "8bUIFC727EGD"
      },
      "source": [
        "**Fórmulas**"
      ]
    },
    {
      "cell_type": "code",
      "metadata": {
        "id": "F9s3NP3_7IrJ"
      },
      "source": [
        "#importando o módulo\n",
        "from openpyxl.utils import FORMULAE"
      ],
      "execution_count": 8,
      "outputs": []
    },
    {
      "cell_type": "code",
      "metadata": {
        "colab": {
          "base_uri": "https://localhost:8080/"
        },
        "id": "1GhVG-kL7gib",
        "outputId": "bf774ef1-38ad-4eaf-c843-230aef335227"
      },
      "source": [
        "#Verificando as fórmulas\n",
        "FORMULAE"
      ],
      "execution_count": 9,
      "outputs": [
        {
          "output_type": "execute_result",
          "data": {
            "text/plain": [
              "frozenset({'ABS',\n",
              "           'ACCRINT',\n",
              "           'ACCRINTM',\n",
              "           'ACOS',\n",
              "           'ACOSH',\n",
              "           'AMORDEGRC',\n",
              "           'AMORLINC',\n",
              "           'AND',\n",
              "           'AREAS',\n",
              "           'ASC',\n",
              "           'ASIN',\n",
              "           'ASINH',\n",
              "           'ATAN',\n",
              "           'ATAN2',\n",
              "           'ATANH',\n",
              "           'AVEDEV',\n",
              "           'AVERAGE',\n",
              "           'AVERAGEA',\n",
              "           'AVERAGEIF',\n",
              "           'AVERAGEIFS',\n",
              "           'BAHTTEXT',\n",
              "           'BESSELI',\n",
              "           'BESSELJ',\n",
              "           'BESSELK',\n",
              "           'BESSELY',\n",
              "           'BETADIST',\n",
              "           'BETAINV',\n",
              "           'BIN2DEC',\n",
              "           'BIN2HEX',\n",
              "           'BIN2OCT',\n",
              "           'BINOMDIST',\n",
              "           'CEILING',\n",
              "           'CELL',\n",
              "           'CHAR',\n",
              "           'CHIDIST',\n",
              "           'CHIINV',\n",
              "           'CHITEST',\n",
              "           'CHOOSE',\n",
              "           'CLEAN',\n",
              "           'CODE',\n",
              "           'COLUMN',\n",
              "           'COLUMNS',\n",
              "           'COMBIN',\n",
              "           'COMPLEX',\n",
              "           'CONCATENATE',\n",
              "           'CONFIDENCE',\n",
              "           'CONVERT',\n",
              "           'CORREL',\n",
              "           'COS',\n",
              "           'COSH',\n",
              "           'COUNT',\n",
              "           'COUNTA',\n",
              "           'COUNTBLANK',\n",
              "           'COUNTIF',\n",
              "           'COUNTIFS',\n",
              "           'COUPDAYBS',\n",
              "           'COUPDAYS',\n",
              "           'COUPDAYSNC',\n",
              "           'COUPNCD',\n",
              "           'COUPNUM',\n",
              "           'COUPPCD',\n",
              "           'COVAR',\n",
              "           'CRITBINOM',\n",
              "           'CUBEKPIMEMBER',\n",
              "           'CUBEMEMBER',\n",
              "           'CUBEMEMBERPROPERTY',\n",
              "           'CUBERANKEDMEMBER',\n",
              "           'CUBESET',\n",
              "           'CUBESETCOUNT',\n",
              "           'CUBEVALUE',\n",
              "           'CUMIPMT',\n",
              "           'CUMPRINC',\n",
              "           'DATE',\n",
              "           'DATEDIF',\n",
              "           'DATEVALUE',\n",
              "           'DAVERAGE',\n",
              "           'DAY',\n",
              "           'DAYS360',\n",
              "           'DB',\n",
              "           'DCOUNT',\n",
              "           'DCOUNTA',\n",
              "           'DDB',\n",
              "           'DEC2BIN',\n",
              "           'DEC2HEX',\n",
              "           'DEC2OCT',\n",
              "           'DEGREES',\n",
              "           'DELTA',\n",
              "           'DEVSQ',\n",
              "           'DGET',\n",
              "           'DISC',\n",
              "           'DMAX',\n",
              "           'DMIN',\n",
              "           'DOLLAR',\n",
              "           'DOLLARDE',\n",
              "           'DOLLARFR',\n",
              "           'DPRODUCT',\n",
              "           'DSTDEV',\n",
              "           'DSTDEVP',\n",
              "           'DSUM',\n",
              "           'DURATION',\n",
              "           'DVAR',\n",
              "           'DVARP',\n",
              "           'ECMA.CEILING',\n",
              "           'EDATE',\n",
              "           'EFFECT',\n",
              "           'EOMONTH',\n",
              "           'ERF',\n",
              "           'ERFC',\n",
              "           'ERROR.TYPE',\n",
              "           'EVEN',\n",
              "           'EXACT',\n",
              "           'EXP',\n",
              "           'EXPONDIST',\n",
              "           'FACT',\n",
              "           'FACTDOUBLE',\n",
              "           'FALSE',\n",
              "           'FDIST',\n",
              "           'FIND',\n",
              "           'FINDB',\n",
              "           'FINV',\n",
              "           'FISHER',\n",
              "           'FISHERINV',\n",
              "           'FIXED',\n",
              "           'FLOOR',\n",
              "           'FORECAST',\n",
              "           'FREQUENCY',\n",
              "           'FTEST',\n",
              "           'FV',\n",
              "           'FVSCHEDULE',\n",
              "           'GAMMADIST',\n",
              "           'GAMMAINV',\n",
              "           'GAMMALN',\n",
              "           'GCD',\n",
              "           'GEOMEAN',\n",
              "           'GESTEP',\n",
              "           'GETPIVOTDATA',\n",
              "           'GROWTH',\n",
              "           'HARMEAN',\n",
              "           'HEX2BIN',\n",
              "           'HEX2DEC',\n",
              "           'HEX2OCT',\n",
              "           'HLOOKUP',\n",
              "           'HOUR',\n",
              "           'HYPERLINK',\n",
              "           'HYPGEOMDIST',\n",
              "           'IF',\n",
              "           'IFERROR',\n",
              "           'IMABS',\n",
              "           'IMAGINARY',\n",
              "           'IMARGUMENT',\n",
              "           'IMCONJUGATE',\n",
              "           'IMCOS',\n",
              "           'IMDIV',\n",
              "           'IMEXP',\n",
              "           'IMLN',\n",
              "           'IMLOG10',\n",
              "           'IMLOG2',\n",
              "           'IMPOWER',\n",
              "           'IMPRODUCT',\n",
              "           'IMREAL',\n",
              "           'IMSIN',\n",
              "           'IMSQRT',\n",
              "           'IMSUB',\n",
              "           'IMSUM',\n",
              "           'INDEX',\n",
              "           'INDIRECT',\n",
              "           'INFO',\n",
              "           'INT',\n",
              "           'INTERCEPT',\n",
              "           'INTRATE',\n",
              "           'IPMT',\n",
              "           'IRR',\n",
              "           'ISBLANK',\n",
              "           'ISERR',\n",
              "           'ISERROR',\n",
              "           'ISEVEN',\n",
              "           'ISLOGICAL',\n",
              "           'ISNA',\n",
              "           'ISNONTEXT',\n",
              "           'ISNUMBER',\n",
              "           'ISO.CEILING',\n",
              "           'ISODD',\n",
              "           'ISPMT',\n",
              "           'ISREF',\n",
              "           'ISTEXT',\n",
              "           'JIS',\n",
              "           'KURT',\n",
              "           'LARGE',\n",
              "           'LCM',\n",
              "           'LEFT',\n",
              "           'LEFTB',\n",
              "           'LEN',\n",
              "           'LENB',\n",
              "           'LINEST',\n",
              "           'LN',\n",
              "           'LOG',\n",
              "           'LOG10',\n",
              "           'LOGEST',\n",
              "           'LOGINV',\n",
              "           'LOGNORMDIST',\n",
              "           'LOOKUP',\n",
              "           'LOWER',\n",
              "           'MATCH',\n",
              "           'MAX',\n",
              "           'MAXA',\n",
              "           'MDETERM',\n",
              "           'MDURATION',\n",
              "           'MEDIAN',\n",
              "           'MID',\n",
              "           'MIDB',\n",
              "           'MIN',\n",
              "           'MINA',\n",
              "           'MINUTE',\n",
              "           'MINVERSE',\n",
              "           'MIRR',\n",
              "           'MMULT',\n",
              "           'MOD',\n",
              "           'MODE',\n",
              "           'MONTH',\n",
              "           'MROUND',\n",
              "           'MULTINOMIAL',\n",
              "           'N',\n",
              "           'NA',\n",
              "           'NEGBINOMDIST',\n",
              "           'NETWORKDAYS',\n",
              "           'NETWORKDAYS.INTL',\n",
              "           'NOMINAL',\n",
              "           'NORMDIST',\n",
              "           'NORMINV',\n",
              "           'NORMSDIST',\n",
              "           'NORMSINV',\n",
              "           'NOT',\n",
              "           'NOW',\n",
              "           'NPER',\n",
              "           'NPV',\n",
              "           'OCT2BIN',\n",
              "           'OCT2DEC',\n",
              "           'OCT2HEX',\n",
              "           'ODD',\n",
              "           'ODDFPRICE',\n",
              "           'ODDFYIELD',\n",
              "           'ODDLPRICE',\n",
              "           'ODDLYIELD',\n",
              "           'OFFSET',\n",
              "           'OR',\n",
              "           'PEARSON',\n",
              "           'PERCENTILE',\n",
              "           'PERCENTRANK',\n",
              "           'PERMUT',\n",
              "           'PHONETIC',\n",
              "           'PI',\n",
              "           'PMT',\n",
              "           'POISSON',\n",
              "           'POWER',\n",
              "           'PPMT',\n",
              "           'PRICE',\n",
              "           'PRICEDISC',\n",
              "           'PRICEMAT',\n",
              "           'PROB',\n",
              "           'PRODUCT',\n",
              "           'PROPER',\n",
              "           'PV',\n",
              "           'QUARTILE',\n",
              "           'QUOTIENT',\n",
              "           'RADIANS',\n",
              "           'RAND',\n",
              "           'RANDBETWEEN',\n",
              "           'RANK',\n",
              "           'RATE',\n",
              "           'RECEIVED',\n",
              "           'REPLACE',\n",
              "           'REPLACEB',\n",
              "           'REPT',\n",
              "           'RIGHT',\n",
              "           'RIGHTB',\n",
              "           'ROMAN',\n",
              "           'ROUND',\n",
              "           'ROUNDDOWN',\n",
              "           'ROUNDUP',\n",
              "           'ROW',\n",
              "           'ROWS',\n",
              "           'RSQ',\n",
              "           'RTD',\n",
              "           'SEARCH',\n",
              "           'SEARCHB',\n",
              "           'SECOND',\n",
              "           'SERIESSUM',\n",
              "           'SIGN',\n",
              "           'SIN',\n",
              "           'SINH',\n",
              "           'SKEW',\n",
              "           'SLN',\n",
              "           'SLOPE',\n",
              "           'SMALL',\n",
              "           'SQRT',\n",
              "           'SQRTPI',\n",
              "           'STANDARDIZE',\n",
              "           'STDEV STDEVA',\n",
              "           'STDEVP',\n",
              "           'STDEVPA STEYX',\n",
              "           'SUBSTITUTE',\n",
              "           'SUBTOTAL',\n",
              "           'SUM',\n",
              "           'SUMIF',\n",
              "           'SUMIFS',\n",
              "           'SUMPRODUCT',\n",
              "           'SUMSQ',\n",
              "           'SUMX2MY2',\n",
              "           'SUMX2PY2',\n",
              "           'SUMXMY2',\n",
              "           'SYD',\n",
              "           'T',\n",
              "           'TAN',\n",
              "           'TANH',\n",
              "           'TBILLEQ',\n",
              "           'TBILLPRICE',\n",
              "           'TBILLYIELD',\n",
              "           'TDIST',\n",
              "           'TEXT',\n",
              "           'TIME',\n",
              "           'TIMEVALUE',\n",
              "           'TINV',\n",
              "           'TODAY',\n",
              "           'TRANSPOSE',\n",
              "           'TREND',\n",
              "           'TRIM',\n",
              "           'TRIMMEAN',\n",
              "           'TRUE ADDRESS',\n",
              "           'TRUNC',\n",
              "           'TTEST',\n",
              "           'TYPE',\n",
              "           'UPPER',\n",
              "           'VALUE',\n",
              "           'VAR',\n",
              "           'VARA',\n",
              "           'VARP',\n",
              "           'VARPA',\n",
              "           'VDB',\n",
              "           'VLOOKUP',\n",
              "           'WEEKDAY',\n",
              "           'WEEKNUM',\n",
              "           'WEIBULL',\n",
              "           'WORKDAY ',\n",
              "           'WORKDAY.INTL',\n",
              "           'XIRR',\n",
              "           'XNPV',\n",
              "           'YEAR',\n",
              "           'YEARFRAC',\n",
              "           'YIELD',\n",
              "           'YIELDDISC',\n",
              "           'YIELDMAT',\n",
              "           'ZTEST'})"
            ]
          },
          "metadata": {
            "tags": []
          },
          "execution_count": 9
        }
      ]
    },
    {
      "cell_type": "code",
      "metadata": {
        "id": "8HnOUBbY7n-m"
      },
      "source": [
        "#adicionando uma fórmula a uma célula\n",
        "sheet['G1'] = 'Valor Médio'\n",
        "sheet['G2'] = '=AVERAGE(E1:E91)'"
      ],
      "execution_count": 13,
      "outputs": []
    },
    {
      "cell_type": "code",
      "metadata": {
        "id": "DzCQqvMC_zBv"
      },
      "source": [
        "workbook.save(filename=\"crtl_test.xlsx\")"
      ],
      "execution_count": 14,
      "outputs": []
    },
    {
      "cell_type": "code",
      "metadata": {
        "id": "Gyh9MtanBCV3"
      },
      "source": [
        "#fórmula condicional\n",
        "sheet['G3'] = '=SUMIF(B2:B91,\"Canon 6D Mark II\",C2:C91)'\n",
        "#salvando a planilha\n",
        "workbook.save(filename='controle_formulas.xlsx')"
      ],
      "execution_count": 16,
      "outputs": []
    }
  ]
}