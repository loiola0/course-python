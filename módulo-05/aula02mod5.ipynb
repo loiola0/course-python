{
  "nbformat": 4,
  "nbformat_minor": 0,
  "metadata": {
    "colab": {
      "name": "aula02mod5.ipynb",
      "provenance": []
    },
    "kernelspec": {
      "name": "python3",
      "display_name": "Python 3"
    }
  },
  "cells": [
    {
      "cell_type": "code",
      "metadata": {
        "colab": {
          "base_uri": "https://localhost:8080/"
        },
        "id": "4q6DPtL2995k",
        "outputId": "f4b06a32-a078-4d49-98e4-48e0e37ad77a"
      },
      "source": [
        "#atualizando o pacote openpyxl\n",
        "!pip install -U openpyxl -q"
      ],
      "execution_count": 1,
      "outputs": [
        {
          "output_type": "stream",
          "text": [
            "\u001b[?25l\r\u001b[K     |█▍                              | 10kB 19.5MB/s eta 0:00:01\r\u001b[K     |██▊                             | 20kB 23.1MB/s eta 0:00:01\r\u001b[K     |████                            | 30kB 17.3MB/s eta 0:00:01\r\u001b[K     |█████▍                          | 40kB 12.3MB/s eta 0:00:01\r\u001b[K     |██████▊                         | 51kB 8.3MB/s eta 0:00:01\r\u001b[K     |████████                        | 61kB 9.1MB/s eta 0:00:01\r\u001b[K     |█████████▌                      | 71kB 7.9MB/s eta 0:00:01\r\u001b[K     |██████████▉                     | 81kB 8.6MB/s eta 0:00:01\r\u001b[K     |████████████▏                   | 92kB 9.1MB/s eta 0:00:01\r\u001b[K     |█████████████▌                  | 102kB 9.5MB/s eta 0:00:01\r\u001b[K     |██████████████▉                 | 112kB 9.5MB/s eta 0:00:01\r\u001b[K     |████████████████▏               | 122kB 9.5MB/s eta 0:00:01\r\u001b[K     |█████████████████▌              | 133kB 9.5MB/s eta 0:00:01\r\u001b[K     |███████████████████             | 143kB 9.5MB/s eta 0:00:01\r\u001b[K     |████████████████████▎           | 153kB 9.5MB/s eta 0:00:01\r\u001b[K     |█████████████████████▋          | 163kB 9.5MB/s eta 0:00:01\r\u001b[K     |███████████████████████         | 174kB 9.5MB/s eta 0:00:01\r\u001b[K     |████████████████████████▎       | 184kB 9.5MB/s eta 0:00:01\r\u001b[K     |█████████████████████████▋      | 194kB 9.5MB/s eta 0:00:01\r\u001b[K     |███████████████████████████     | 204kB 9.5MB/s eta 0:00:01\r\u001b[K     |████████████████████████████▍   | 215kB 9.5MB/s eta 0:00:01\r\u001b[K     |█████████████████████████████▊  | 225kB 9.5MB/s eta 0:00:01\r\u001b[K     |███████████████████████████████ | 235kB 9.5MB/s eta 0:00:01\r\u001b[K     |████████████████████████████████| 245kB 9.5MB/s \n",
            "\u001b[?25h"
          ],
          "name": "stdout"
        }
      ]
    },
    {
      "cell_type": "code",
      "metadata": {
        "id": "h9Js6aPg-LWY"
      },
      "source": [
        "#carregando planilha\n",
        "from openpyxl import load_workbook\n",
        "\n",
        "#carregando o arquivo\n",
        "workbook = load_workbook(filename=\"controle_da_empresa.xlsx\")\n",
        "\n",
        "#carregando uma aba\n",
        "sheet = workbook['Vendas']"
      ],
      "execution_count": 5,
      "outputs": []
    },
    {
      "cell_type": "code",
      "metadata": {
        "colab": {
          "base_uri": "https://localhost:8080/"
        },
        "id": "fFAO_FF4_UzY",
        "outputId": "0ce791dd-a222-4684-bae4-ca6352312ddd"
      },
      "source": [
        "#acessando um intervalo\n",
        "sheet['A1:C2'][0]"
      ],
      "execution_count": 7,
      "outputs": [
        {
          "output_type": "execute_result",
          "data": {
            "text/plain": [
              "(<Cell 'Vendas'.A1>, <Cell 'Vendas'.B1>, <Cell 'Vendas'.C1>)"
            ]
          },
          "metadata": {
            "tags": []
          },
          "execution_count": 7
        }
      ]
    },
    {
      "cell_type": "code",
      "metadata": {
        "colab": {
          "base_uri": "https://localhost:8080/"
        },
        "id": "62REkM9OAFYs",
        "outputId": "3fa26279-bf4b-4360-d906-868c90fd7bcc"
      },
      "source": [
        "#acessando uma coluna\n",
        "sheet['A']"
      ],
      "execution_count": 8,
      "outputs": [
        {
          "output_type": "execute_result",
          "data": {
            "text/plain": [
              "(<Cell 'Vendas'.A1>,\n",
              " <Cell 'Vendas'.A2>,\n",
              " <Cell 'Vendas'.A3>,\n",
              " <Cell 'Vendas'.A4>,\n",
              " <Cell 'Vendas'.A5>,\n",
              " <Cell 'Vendas'.A6>,\n",
              " <Cell 'Vendas'.A7>,\n",
              " <Cell 'Vendas'.A8>,\n",
              " <Cell 'Vendas'.A9>,\n",
              " <Cell 'Vendas'.A10>,\n",
              " <Cell 'Vendas'.A11>,\n",
              " <Cell 'Vendas'.A12>,\n",
              " <Cell 'Vendas'.A13>,\n",
              " <Cell 'Vendas'.A14>,\n",
              " <Cell 'Vendas'.A15>,\n",
              " <Cell 'Vendas'.A16>,\n",
              " <Cell 'Vendas'.A17>,\n",
              " <Cell 'Vendas'.A18>,\n",
              " <Cell 'Vendas'.A19>,\n",
              " <Cell 'Vendas'.A20>,\n",
              " <Cell 'Vendas'.A21>,\n",
              " <Cell 'Vendas'.A22>,\n",
              " <Cell 'Vendas'.A23>,\n",
              " <Cell 'Vendas'.A24>,\n",
              " <Cell 'Vendas'.A25>,\n",
              " <Cell 'Vendas'.A26>,\n",
              " <Cell 'Vendas'.A27>,\n",
              " <Cell 'Vendas'.A28>,\n",
              " <Cell 'Vendas'.A29>,\n",
              " <Cell 'Vendas'.A30>,\n",
              " <Cell 'Vendas'.A31>,\n",
              " <Cell 'Vendas'.A32>,\n",
              " <Cell 'Vendas'.A33>,\n",
              " <Cell 'Vendas'.A34>,\n",
              " <Cell 'Vendas'.A35>,\n",
              " <Cell 'Vendas'.A36>,\n",
              " <Cell 'Vendas'.A37>,\n",
              " <Cell 'Vendas'.A38>,\n",
              " <Cell 'Vendas'.A39>,\n",
              " <Cell 'Vendas'.A40>,\n",
              " <Cell 'Vendas'.A41>,\n",
              " <Cell 'Vendas'.A42>,\n",
              " <Cell 'Vendas'.A43>,\n",
              " <Cell 'Vendas'.A44>,\n",
              " <Cell 'Vendas'.A45>,\n",
              " <Cell 'Vendas'.A46>,\n",
              " <Cell 'Vendas'.A47>,\n",
              " <Cell 'Vendas'.A48>,\n",
              " <Cell 'Vendas'.A49>,\n",
              " <Cell 'Vendas'.A50>,\n",
              " <Cell 'Vendas'.A51>,\n",
              " <Cell 'Vendas'.A52>,\n",
              " <Cell 'Vendas'.A53>,\n",
              " <Cell 'Vendas'.A54>,\n",
              " <Cell 'Vendas'.A55>,\n",
              " <Cell 'Vendas'.A56>,\n",
              " <Cell 'Vendas'.A57>,\n",
              " <Cell 'Vendas'.A58>,\n",
              " <Cell 'Vendas'.A59>,\n",
              " <Cell 'Vendas'.A60>,\n",
              " <Cell 'Vendas'.A61>,\n",
              " <Cell 'Vendas'.A62>,\n",
              " <Cell 'Vendas'.A63>,\n",
              " <Cell 'Vendas'.A64>,\n",
              " <Cell 'Vendas'.A65>,\n",
              " <Cell 'Vendas'.A66>,\n",
              " <Cell 'Vendas'.A67>,\n",
              " <Cell 'Vendas'.A68>,\n",
              " <Cell 'Vendas'.A69>,\n",
              " <Cell 'Vendas'.A70>,\n",
              " <Cell 'Vendas'.A71>,\n",
              " <Cell 'Vendas'.A72>,\n",
              " <Cell 'Vendas'.A73>,\n",
              " <Cell 'Vendas'.A74>,\n",
              " <Cell 'Vendas'.A75>,\n",
              " <Cell 'Vendas'.A76>,\n",
              " <Cell 'Vendas'.A77>,\n",
              " <Cell 'Vendas'.A78>,\n",
              " <Cell 'Vendas'.A79>,\n",
              " <Cell 'Vendas'.A80>,\n",
              " <Cell 'Vendas'.A81>,\n",
              " <Cell 'Vendas'.A82>,\n",
              " <Cell 'Vendas'.A83>,\n",
              " <Cell 'Vendas'.A84>,\n",
              " <Cell 'Vendas'.A85>,\n",
              " <Cell 'Vendas'.A86>,\n",
              " <Cell 'Vendas'.A87>,\n",
              " <Cell 'Vendas'.A88>,\n",
              " <Cell 'Vendas'.A89>,\n",
              " <Cell 'Vendas'.A90>,\n",
              " <Cell 'Vendas'.A91>)"
            ]
          },
          "metadata": {
            "tags": []
          },
          "execution_count": 8
        }
      ]
    },
    {
      "cell_type": "code",
      "metadata": {
        "colab": {
          "base_uri": "https://localhost:8080/"
        },
        "id": "PBnygeCgALVw",
        "outputId": "e983a465-4c53-4743-a5ab-72d8a61ebb05"
      },
      "source": [
        "#acessando uma linha\n",
        "sheet[1]"
      ],
      "execution_count": 11,
      "outputs": [
        {
          "output_type": "execute_result",
          "data": {
            "text/plain": [
              "(<Cell 'Vendas'.A1>,\n",
              " <Cell 'Vendas'.B1>,\n",
              " <Cell 'Vendas'.C1>,\n",
              " <Cell 'Vendas'.D1>,\n",
              " <Cell 'Vendas'.E1>,\n",
              " <Cell 'Vendas'.F1>)"
            ]
          },
          "metadata": {
            "tags": []
          },
          "execution_count": 11
        }
      ]
    },
    {
      "cell_type": "markdown",
      "metadata": {
        "id": "alGshNbEBU5y"
      },
      "source": [
        "**Iterando sobre os dados**\n"
      ]
    },
    {
      "cell_type": "code",
      "metadata": {
        "colab": {
          "base_uri": "https://localhost:8080/"
        },
        "id": "_NBP5mf0BX7U",
        "outputId": "e9b2d020-29f5-4247-9a23-dee8c2a2ae71"
      },
      "source": [
        "for row in sheet.iter_rows(min_row=1,\n",
        "                           max_row=2,\n",
        "                           min_col=1,\n",
        "                           max_col=2,\n",
        "                          values_only=True):\n",
        "  print(row)"
      ],
      "execution_count": 18,
      "outputs": [
        {
          "output_type": "stream",
          "text": [
            "('Data da Venda', 'Item')\n",
            "(datetime.datetime(2020, 1, 2, 0, 0), 'Lente 50mm f/1.4')\n"
          ],
          "name": "stdout"
        }
      ]
    },
    {
      "cell_type": "code",
      "metadata": {
        "colab": {
          "base_uri": "https://localhost:8080/"
        },
        "id": "ySs_-YlxCg0i",
        "outputId": "0603e3ab-15dc-4998-9b2c-65c1895d1e92"
      },
      "source": [
        "for col in sheet.iter_cols(min_row=1,\n",
        "                           max_row=3,\n",
        "                           min_col=1,\n",
        "                           max_col=2,\n",
        "                           values_only=True):\n",
        "  print(col)"
      ],
      "execution_count": 17,
      "outputs": [
        {
          "output_type": "stream",
          "text": [
            "('Data da Venda', datetime.datetime(2020, 1, 2, 0, 0), datetime.datetime(2020, 1, 2, 0, 0))\n",
            "('Item', 'Lente 50mm f/1.4', 'Filtro ND 5 Stop')\n"
          ],
          "name": "stdout"
        }
      ]
    }
  ]
}