{
  "nbformat": 4,
  "nbformat_minor": 0,
  "metadata": {
    "colab": {
      "name": "02 - Navegando Pela Planilha",
      "provenance": [],
      "collapsed_sections": []
    },
    "kernelspec": {
      "name": "python3",
      "display_name": "Python 3"
    }
  },
  "cells": [
    {
      "cell_type": "markdown",
      "metadata": {
        "id": "yimlbTDN6ZD7"
      },
      "source": [
        "<img alt=\"Colaboratory logo\" width=\"15%\" src=\"https://raw.githubusercontent.com/carlosfab/escola-data-science/master/img/novo_logo_bg_claro.png\">\n",
        "\n",
        "#### **Python do Zero**\n",
        "*by [sigmoidal.ai](https://sigmoidal.ai)*\n",
        "\n",
        "---\n",
        "\n",
        "## Navegando pela Planilha\n",
        "\n",
        "Uma vez dentro da planliha, é importante saber como navegar por ela, encontrar e manipular células. Apesar de simples, é de extrema importância.\n",
        "\n",
        "\n",
        "<center><img width=\"50%\" src=\"https://images.unsplash.com/photo-1515879218367-8466d910aaa4?ixlib=rb-1.2.1&ixid=eyJhcHBfaWQiOjEyMDd9&auto=format&fit=crop&w=750&q=80\"></center>\n",
        "\n",
        "Mais uma vez lembrando da importância de atualizar a biblioteca e carregar os dados via upload. O arquivo utilizado aqui é o mesmo que já utilizamos nos módulos anteriores e na aula anterior."
      ]
    },
    {
      "cell_type": "code",
      "metadata": {
        "id": "egQMNQr9CHNx",
        "colab": {
          "base_uri": "https://localhost:8080/",
          "height": 35
        },
        "outputId": "6e37d0e1-e5ee-473a-a572-3a1248586365"
      },
      "source": [
        "# atualizando o pacote\n",
        "!pip install -U openpyxl -q"
      ],
      "execution_count": null,
      "outputs": [
        {
          "output_type": "stream",
          "text": [
            "\u001b[?25l\r\u001b[K     |█▍                              | 10kB 21.3MB/s eta 0:00:01\r\u001b[K     |██▊                             | 20kB 2.2MB/s eta 0:00:01\r\u001b[K     |████                            | 30kB 2.9MB/s eta 0:00:01\r\u001b[K     |█████▍                          | 40kB 3.2MB/s eta 0:00:01\r\u001b[K     |██████▊                         | 51kB 2.5MB/s eta 0:00:01\r\u001b[K     |████████                        | 61kB 2.8MB/s eta 0:00:01\r\u001b[K     |█████████▌                      | 71kB 3.1MB/s eta 0:00:01\r\u001b[K     |██████████▉                     | 81kB 3.4MB/s eta 0:00:01\r\u001b[K     |████████████▏                   | 92kB 3.6MB/s eta 0:00:01\r\u001b[K     |█████████████▌                  | 102kB 3.4MB/s eta 0:00:01\r\u001b[K     |██████████████▉                 | 112kB 3.4MB/s eta 0:00:01\r\u001b[K     |████████████████▏               | 122kB 3.4MB/s eta 0:00:01\r\u001b[K     |█████████████████▌              | 133kB 3.4MB/s eta 0:00:01\r\u001b[K     |███████████████████             | 143kB 3.4MB/s eta 0:00:01\r\u001b[K     |████████████████████▎           | 153kB 3.4MB/s eta 0:00:01\r\u001b[K     |█████████████████████▋          | 163kB 3.4MB/s eta 0:00:01\r\u001b[K     |███████████████████████         | 174kB 3.4MB/s eta 0:00:01\r\u001b[K     |████████████████████████▎       | 184kB 3.4MB/s eta 0:00:01\r\u001b[K     |█████████████████████████▋      | 194kB 3.4MB/s eta 0:00:01\r\u001b[K     |███████████████████████████     | 204kB 3.4MB/s eta 0:00:01\r\u001b[K     |████████████████████████████▍   | 215kB 3.4MB/s eta 0:00:01\r\u001b[K     |█████████████████████████████▊  | 225kB 3.4MB/s eta 0:00:01\r\u001b[K     |███████████████████████████████ | 235kB 3.4MB/s eta 0:00:01\r\u001b[K     |████████████████████████████████| 245kB 3.4MB/s \n",
            "\u001b[?25h"
          ],
          "name": "stdout"
        }
      ]
    },
    {
      "cell_type": "code",
      "metadata": {
        "id": "41PQ5q8jwH05"
      },
      "source": [
        "# carregando uma planilha\n",
        "from openpyxl import load_workbook\n",
        "\n",
        "workbook = load_workbook(filename='controle_da_empresa.xlsx')\n",
        "\n",
        "# verificando as abas\n",
        "sheet = workbook['Vendas']"
      ],
      "execution_count": null,
      "outputs": []
    },
    {
      "cell_type": "markdown",
      "metadata": {
        "id": "dwTE9TOsJDoX"
      },
      "source": [
        "## Acessando as Células\n",
        "Para acessar as células de uma planilha, vamos fazer como fizemos no notebook anterior, passando a célula que desejamos utilizar como parâmetro."
      ]
    },
    {
      "cell_type": "code",
      "metadata": {
        "id": "mDXrGoSBwrjn",
        "colab": {
          "base_uri": "https://localhost:8080/",
          "height": 53
        },
        "outputId": "cfa6c21d-2a53-4672-b54d-d024911ffd62"
      },
      "source": [
        "# acessando um intervalo\n",
        "sheet['A1:C2']"
      ],
      "execution_count": null,
      "outputs": [
        {
          "output_type": "execute_result",
          "data": {
            "text/plain": [
              "((<Cell 'Vendas'.A1>, <Cell 'Vendas'.B1>, <Cell 'Vendas'.C1>),\n",
              " (<Cell 'Vendas'.A2>, <Cell 'Vendas'.B2>, <Cell 'Vendas'.C2>))"
            ]
          },
          "metadata": {
            "tags": []
          },
          "execution_count": 10
        }
      ]
    },
    {
      "cell_type": "markdown",
      "metadata": {
        "id": "LJ_Q3dhvJUUs"
      },
      "source": [
        "Caso não passemos a linha, ele retorna a coluna inteira.\n",
        "\n",
        "\n"
      ]
    },
    {
      "cell_type": "code",
      "metadata": {
        "id": "3Q-w6qy3w2-Y",
        "colab": {
          "base_uri": "https://localhost:8080/",
          "height": 1000
        },
        "outputId": "c6bade4a-030d-4129-fff8-d696d8f1c4be"
      },
      "source": [
        "# acessando uma coluna\n",
        "sheet['A']"
      ],
      "execution_count": null,
      "outputs": [
        {
          "output_type": "execute_result",
          "data": {
            "text/plain": [
              "(<Cell 'Vendas'.A1>,\n",
              " <Cell 'Vendas'.A2>,\n",
              " <Cell 'Vendas'.A3>,\n",
              " <Cell 'Vendas'.A4>,\n",
              " <Cell 'Vendas'.A5>,\n",
              " <Cell 'Vendas'.A6>,\n",
              " <Cell 'Vendas'.A7>,\n",
              " <Cell 'Vendas'.A8>,\n",
              " <Cell 'Vendas'.A9>,\n",
              " <Cell 'Vendas'.A10>,\n",
              " <Cell 'Vendas'.A11>,\n",
              " <Cell 'Vendas'.A12>,\n",
              " <Cell 'Vendas'.A13>,\n",
              " <Cell 'Vendas'.A14>,\n",
              " <Cell 'Vendas'.A15>,\n",
              " <Cell 'Vendas'.A16>,\n",
              " <Cell 'Vendas'.A17>,\n",
              " <Cell 'Vendas'.A18>,\n",
              " <Cell 'Vendas'.A19>,\n",
              " <Cell 'Vendas'.A20>,\n",
              " <Cell 'Vendas'.A21>,\n",
              " <Cell 'Vendas'.A22>,\n",
              " <Cell 'Vendas'.A23>,\n",
              " <Cell 'Vendas'.A24>,\n",
              " <Cell 'Vendas'.A25>,\n",
              " <Cell 'Vendas'.A26>,\n",
              " <Cell 'Vendas'.A27>,\n",
              " <Cell 'Vendas'.A28>,\n",
              " <Cell 'Vendas'.A29>,\n",
              " <Cell 'Vendas'.A30>,\n",
              " <Cell 'Vendas'.A31>,\n",
              " <Cell 'Vendas'.A32>,\n",
              " <Cell 'Vendas'.A33>,\n",
              " <Cell 'Vendas'.A34>,\n",
              " <Cell 'Vendas'.A35>,\n",
              " <Cell 'Vendas'.A36>,\n",
              " <Cell 'Vendas'.A37>,\n",
              " <Cell 'Vendas'.A38>,\n",
              " <Cell 'Vendas'.A39>,\n",
              " <Cell 'Vendas'.A40>,\n",
              " <Cell 'Vendas'.A41>,\n",
              " <Cell 'Vendas'.A42>,\n",
              " <Cell 'Vendas'.A43>,\n",
              " <Cell 'Vendas'.A44>,\n",
              " <Cell 'Vendas'.A45>,\n",
              " <Cell 'Vendas'.A46>,\n",
              " <Cell 'Vendas'.A47>,\n",
              " <Cell 'Vendas'.A48>,\n",
              " <Cell 'Vendas'.A49>,\n",
              " <Cell 'Vendas'.A50>,\n",
              " <Cell 'Vendas'.A51>,\n",
              " <Cell 'Vendas'.A52>,\n",
              " <Cell 'Vendas'.A53>,\n",
              " <Cell 'Vendas'.A54>,\n",
              " <Cell 'Vendas'.A55>,\n",
              " <Cell 'Vendas'.A56>,\n",
              " <Cell 'Vendas'.A57>,\n",
              " <Cell 'Vendas'.A58>,\n",
              " <Cell 'Vendas'.A59>,\n",
              " <Cell 'Vendas'.A60>,\n",
              " <Cell 'Vendas'.A61>,\n",
              " <Cell 'Vendas'.A62>,\n",
              " <Cell 'Vendas'.A63>,\n",
              " <Cell 'Vendas'.A64>,\n",
              " <Cell 'Vendas'.A65>,\n",
              " <Cell 'Vendas'.A66>,\n",
              " <Cell 'Vendas'.A67>,\n",
              " <Cell 'Vendas'.A68>,\n",
              " <Cell 'Vendas'.A69>,\n",
              " <Cell 'Vendas'.A70>,\n",
              " <Cell 'Vendas'.A71>,\n",
              " <Cell 'Vendas'.A72>,\n",
              " <Cell 'Vendas'.A73>,\n",
              " <Cell 'Vendas'.A74>,\n",
              " <Cell 'Vendas'.A75>,\n",
              " <Cell 'Vendas'.A76>,\n",
              " <Cell 'Vendas'.A77>,\n",
              " <Cell 'Vendas'.A78>,\n",
              " <Cell 'Vendas'.A79>,\n",
              " <Cell 'Vendas'.A80>,\n",
              " <Cell 'Vendas'.A81>,\n",
              " <Cell 'Vendas'.A82>,\n",
              " <Cell 'Vendas'.A83>,\n",
              " <Cell 'Vendas'.A84>,\n",
              " <Cell 'Vendas'.A85>,\n",
              " <Cell 'Vendas'.A86>,\n",
              " <Cell 'Vendas'.A87>,\n",
              " <Cell 'Vendas'.A88>,\n",
              " <Cell 'Vendas'.A89>,\n",
              " <Cell 'Vendas'.A90>,\n",
              " <Cell 'Vendas'.A91>)"
            ]
          },
          "metadata": {
            "tags": []
          },
          "execution_count": 11
        }
      ]
    },
    {
      "cell_type": "markdown",
      "metadata": {
        "id": "-VhfHN0BJbrb"
      },
      "source": [
        "Da mesma forma, podemos passar apenas a linha, e temos como resultado todas as colunas para aquela linha."
      ]
    },
    {
      "cell_type": "code",
      "metadata": {
        "id": "Qks98w4XxHD-",
        "colab": {
          "base_uri": "https://localhost:8080/",
          "height": 125
        },
        "outputId": "b9740b10-4ab8-44be-8bce-35a0eb4fa3b4"
      },
      "source": [
        "# acessando uma linha\n",
        "sheet[1]"
      ],
      "execution_count": null,
      "outputs": [
        {
          "output_type": "execute_result",
          "data": {
            "text/plain": [
              "(<Cell 'Vendas'.A1>,\n",
              " <Cell 'Vendas'.B1>,\n",
              " <Cell 'Vendas'.C1>,\n",
              " <Cell 'Vendas'.D1>,\n",
              " <Cell 'Vendas'.E1>,\n",
              " <Cell 'Vendas'.F1>)"
            ]
          },
          "metadata": {
            "tags": []
          },
          "execution_count": 15
        }
      ]
    },
    {
      "cell_type": "markdown",
      "metadata": {
        "id": "CDGryhTLJk-B"
      },
      "source": [
        "## Iterando Sobre os Dados\n",
        "\n",
        "Uma forma mais efetiva de buscarmos determinado intervalo é utilizando uma estrutura de repetição para iterar sobre os dados e nos retornar as células que desejamos.\n",
        "\n",
        "Para isso, vamos criar um loop for para utilizar o método `iter_rows`, para iterar pelas linhas e retornar as células.\n",
        "\n",
        "Aqui, podemos passar parâmetros para definir em que linhas e colunas será feita a iteração.\n",
        "\n",
        "Os valores min indicam onde começa a iteração, e max, onde termina."
      ]
    },
    {
      "cell_type": "code",
      "metadata": {
        "id": "EJ3EZcmUBMuZ",
        "colab": {
          "base_uri": "https://localhost:8080/",
          "height": 35
        },
        "outputId": "da22d808-02a9-4383-9fd7-8efaa914d099"
      },
      "source": [
        "sheet.iter_rows()"
      ],
      "execution_count": null,
      "outputs": [
        {
          "output_type": "execute_result",
          "data": {
            "text/plain": [
              "<Worksheet \"Vendas\">"
            ]
          },
          "metadata": {
            "tags": []
          },
          "execution_count": 16
        }
      ]
    },
    {
      "cell_type": "code",
      "metadata": {
        "id": "ZZ2Tp_TQxVyy",
        "colab": {
          "base_uri": "https://localhost:8080/",
          "height": 53
        },
        "outputId": "e2367045-d47f-431e-9325-5b1465f769d6"
      },
      "source": [
        "# iterando sobre os dados\n",
        "for row in sheet.iter_rows(min_row=1,\n",
        "                           max_row=2,\n",
        "                           min_col=1,\n",
        "                           max_col=2):\n",
        "  print(row)"
      ],
      "execution_count": null,
      "outputs": [
        {
          "output_type": "stream",
          "text": [
            "(<Cell 'Vendas'.A1>, <Cell 'Vendas'.B1>)\n",
            "(<Cell 'Vendas'.A2>, <Cell 'Vendas'.B2>)\n"
          ],
          "name": "stdout"
        }
      ]
    },
    {
      "cell_type": "markdown",
      "metadata": {
        "id": "OIaSuqQAKBtr"
      },
      "source": [
        "Da mesma forma, é possível iterar sobre as colunas."
      ]
    },
    {
      "cell_type": "code",
      "metadata": {
        "id": "-N40pNlax3Vq",
        "colab": {
          "base_uri": "https://localhost:8080/",
          "height": 53
        },
        "outputId": "9bfadc29-9b5e-4253-9b7b-a09d545c6faf"
      },
      "source": [
        "# iterando sobre os dados\n",
        "for col in sheet.iter_cols(min_row=1,\n",
        "                           max_row=2,\n",
        "                           min_col=1,\n",
        "                           max_col=2):\n",
        "  print(col)"
      ],
      "execution_count": null,
      "outputs": [
        {
          "output_type": "stream",
          "text": [
            "(<Cell 'Vendas'.A1>, <Cell 'Vendas'.A2>)\n",
            "(<Cell 'Vendas'.B1>, <Cell 'Vendas'.B2>)\n"
          ],
          "name": "stdout"
        }
      ]
    },
    {
      "cell_type": "markdown",
      "metadata": {
        "id": "V2lnTIwnKE73"
      },
      "source": [
        "Até agora, estamos recebendo tuplas com informações sobre as células. Entretanto, na maioria dos casos, isso não será tão informativo. Nosso objeto de interesse é o valor contido em cada célula.\n",
        "\n",
        "Para coletar os valores que estão lá, passaremos o parâmetro `values_only` como True, para que ele nos retorne o valor contido nas células do intervalo que definimos para a iteração."
      ]
    },
    {
      "cell_type": "code",
      "metadata": {
        "id": "8XUo73jdyKK-",
        "colab": {
          "base_uri": "https://localhost:8080/",
          "height": 53
        },
        "outputId": "cc0f0954-627f-4eed-dee3-40455811b4c3"
      },
      "source": [
        "# iterando sobre os dados\n",
        "for value in sheet.iter_rows(min_row=1,\n",
        "                           max_row=2,\n",
        "                           min_col=1,\n",
        "                           max_col=2,\n",
        "                           values_only=True):\n",
        "  print(value)"
      ],
      "execution_count": null,
      "outputs": [
        {
          "output_type": "stream",
          "text": [
            "('Data da Venda', 'Item')\n",
            "(datetime.datetime(2020, 1, 2, 0, 0), 'Lente 50mm f/1.4')\n"
          ],
          "name": "stdout"
        }
      ]
    },
    {
      "cell_type": "markdown",
      "metadata": {
        "id": "rWbFH0GrLVrR"
      },
      "source": [
        "Caso esse seja o único parâmetro passado, a iteração será feita sobre toda a planilha, coletando os dados de todas as células."
      ]
    },
    {
      "cell_type": "code",
      "metadata": {
        "id": "wW8bIHflynWB",
        "colab": {
          "base_uri": "https://localhost:8080/",
          "height": 1000
        },
        "outputId": "696be8b8-966b-42d4-8fec-8f80faa8cd1d"
      },
      "source": [
        "# iterando pela planilha inteira\n",
        "for value in sheet.iter_rows(values_only=True):\n",
        "  print(value)"
      ],
      "execution_count": null,
      "outputs": [
        {
          "output_type": "stream",
          "text": [
            "('Data da Venda', 'Item', 'Quantidade', 'Vendedor', 'Preço Unitário', 'Total de Vendas')\n",
            "(datetime.datetime(2020, 1, 2, 0, 0), 'Lente 50mm f/1.4', 2, 'Carlos', 1649, 3298)\n",
            "(datetime.datetime(2020, 1, 2, 0, 0), 'Filtro ND 5 Stop', 2, 'Raquel', 1220, 2440)\n",
            "(datetime.datetime(2020, 1, 3, 0, 0), 'Filtro ND 5 Stop', 2, 'Raquel', 1220, 2440)\n",
            "(datetime.datetime(2020, 1, 3, 0, 0), 'Lente 16-35mm f/2.8', 2, 'Carlos', 8997, 17994)\n",
            "(datetime.datetime(2020, 1, 4, 0, 0), 'Lente 16-35mm f/2.8', 2, 'Fernanda', 8997, 17994)\n",
            "(datetime.datetime(2020, 1, 4, 0, 0), 'Filtro ND 3 Stop', 1, 'Raquel', 1220, 1220)\n",
            "(datetime.datetime(2020, 1, 4, 0, 0), 'Lente 16-35mm f/2.8', 2, 'Carlos', 8997, 17994)\n",
            "(datetime.datetime(2020, 1, 4, 0, 0), 'DJI Ronin-S', 2, 'Theo', 5790, 11580)\n",
            "(datetime.datetime(2020, 1, 4, 0, 0), 'Lente 16-35mm f/2.8', 2, 'Carlos', 8997, 17994)\n",
            "(datetime.datetime(2020, 1, 5, 0, 0), 'Lente 85mm f/1.4', 2, 'Raquel', 9989, 19978)\n",
            "(datetime.datetime(2020, 1, 5, 0, 0), 'DJI Ronin-S', 2, 'Theo', 5790, 11580)\n",
            "(datetime.datetime(2020, 1, 5, 0, 0), 'DJI Ronin-S', 2, 'Fernanda', 5790, 11580)\n",
            "(datetime.datetime(2020, 1, 6, 0, 0), 'Filtro ND 5 Stop', 1, 'Carlos', 1220, 1220)\n",
            "(datetime.datetime(2020, 1, 7, 0, 0), 'Lente 85mm f/1.4', 2, 'Theo', 9989, 19978)\n",
            "(datetime.datetime(2020, 1, 7, 0, 0), 'Filtro ND 3 Stop', 1, 'Raquel', 1220, 1220)\n",
            "(datetime.datetime(2020, 1, 9, 0, 0), 'Canon 6D Mark II', 1, 'Fernanda', 8500, 8500)\n",
            "(datetime.datetime(2020, 1, 10, 0, 0), 'DJI Mavic Air 2', 2, 'Theo', 13580, 27160)\n",
            "(datetime.datetime(2020, 1, 10, 0, 0), 'Filtro ND 5 Stop', 2, 'Raquel', 1220, 2440)\n",
            "(datetime.datetime(2020, 1, 10, 0, 0), 'Filtro ND 3 Stop', 2, 'Theo', 1220, 2440)\n",
            "(datetime.datetime(2020, 1, 10, 0, 0), 'Lente 16-35mm f/2.8', 1, 'Raquel', 8997, 8997)\n",
            "(datetime.datetime(2020, 1, 10, 0, 0), 'DJI Mavic Air 2', 2, 'Raquel', 13580, 27160)\n",
            "(datetime.datetime(2020, 1, 12, 0, 0), 'Lente 50mm f/1.4', 2, 'Fernanda', 1649, 3298)\n",
            "(datetime.datetime(2020, 1, 12, 0, 0), 'DJI Mavic Air 2', 1, 'Carlos', 13580, 13580)\n",
            "(datetime.datetime(2020, 1, 12, 0, 0), 'Filtro ND 3 Stop', 1, 'Carlos', 1220, 1220)\n",
            "(datetime.datetime(2020, 1, 12, 0, 0), 'Filtro ND 5 Stop', 1, 'Fernanda', 1220, 1220)\n",
            "(datetime.datetime(2020, 1, 13, 0, 0), 'Lente 50mm f/1.4', 1, 'Fernanda', 1649, 1649)\n",
            "(datetime.datetime(2020, 1, 13, 0, 0), 'Canon 5D Mark III', 2, 'Fernanda', 13650, 27300)\n",
            "(datetime.datetime(2020, 1, 13, 0, 0), 'Canon 5D Mark III', 2, 'Fernanda', 13650, 27300)\n",
            "(datetime.datetime(2020, 1, 13, 0, 0), 'Lente 50mm f/1.4', 1, 'Carlos', 1649, 1649)\n",
            "(datetime.datetime(2020, 1, 13, 0, 0), 'DJI Ronin-S', 2, 'Carlos', 5790, 11580)\n",
            "(datetime.datetime(2020, 1, 14, 0, 0), 'Lente 16-35mm f/2.8', 2, 'Carlos', 8997, 17994)\n",
            "(datetime.datetime(2020, 1, 14, 0, 0), 'Filtro ND 5 Stop', 2, 'Theo', 1220, 2440)\n",
            "(datetime.datetime(2020, 1, 15, 0, 0), 'Lente 50mm f/1.4', 2, 'Raquel', 1649, 3298)\n",
            "(datetime.datetime(2020, 1, 15, 0, 0), 'DJI Ronin-S', 1, 'Raquel', 5790, 5790)\n",
            "(datetime.datetime(2020, 1, 15, 0, 0), 'Filtro ND 3 Stop', 2, 'Theo', 1220, 2440)\n",
            "(datetime.datetime(2020, 1, 16, 0, 0), 'Filtro ND 3 Stop', 2, 'Raquel', 1220, 2440)\n",
            "(datetime.datetime(2020, 1, 16, 0, 0), 'DJI Mavic Air 2', 2, 'Fernanda', 13580, 27160)\n",
            "(datetime.datetime(2020, 1, 16, 0, 0), 'Lente 85mm f/1.4', 1, 'Carlos', 9989, 9989)\n",
            "(datetime.datetime(2020, 1, 16, 0, 0), 'Filtro ND 5 Stop', 2, 'Carlos', 1220, 2440)\n",
            "(datetime.datetime(2020, 1, 16, 0, 0), 'Filtro ND 2 Stop', 2, 'Fernanda', 1220, 2440)\n",
            "(datetime.datetime(2020, 1, 16, 0, 0), 'Lente 50mm f/1.4', 2, 'Raquel', 1649, 3298)\n",
            "(datetime.datetime(2020, 1, 19, 0, 0), 'Filtro ND 5 Stop', 1, 'Raquel', 1220, 1220)\n",
            "(datetime.datetime(2020, 1, 19, 0, 0), 'Lente 16-35mm f/2.8', 1, 'Raquel', 8997, 8997)\n",
            "(datetime.datetime(2020, 1, 20, 0, 0), 'Canon 5D Mark III', 1, 'Carlos', 13650, 13650)\n",
            "(datetime.datetime(2020, 1, 20, 0, 0), 'DJI Mavic Air 2', 2, 'Theo', 13580, 27160)\n",
            "(datetime.datetime(2020, 1, 20, 0, 0), 'Canon 5D Mark III', 1, 'Raquel', 13650, 13650)\n",
            "(datetime.datetime(2020, 1, 20, 0, 0), 'Lente 85mm f/1.4', 2, 'Raquel', 9989, 19978)\n",
            "(datetime.datetime(2020, 1, 21, 0, 0), 'Filtro ND 3 Stop', 2, 'Carlos', 1220, 2440)\n",
            "(datetime.datetime(2020, 1, 21, 0, 0), 'Canon 6D Mark II', 2, 'Theo', 8500, 17000)\n",
            "(datetime.datetime(2020, 1, 21, 0, 0), 'Lente 16-35mm f/2.8', 2, 'Fernanda', 8997, 17994)\n",
            "(datetime.datetime(2020, 1, 21, 0, 0), 'DJI Ronin-S', 1, 'Carlos', 5790, 5790)\n",
            "(datetime.datetime(2020, 1, 21, 0, 0), 'Filtro ND 3 Stop', 2, 'Raquel', 1220, 2440)\n",
            "(datetime.datetime(2020, 1, 23, 0, 0), 'Canon 6D Mark II', 2, 'Carlos', 8500, 17000)\n",
            "(datetime.datetime(2020, 1, 23, 0, 0), 'DJI Mavic Air 2', 1, 'Carlos', 13580, 13580)\n",
            "(datetime.datetime(2020, 1, 23, 0, 0), 'Filtro ND 5 Stop', 2, 'Fernanda', 1220, 2440)\n",
            "(datetime.datetime(2020, 1, 23, 0, 0), 'Lente 50mm f/1.4', 1, 'Raquel', 1649, 1649)\n",
            "(datetime.datetime(2020, 1, 23, 0, 0), 'Filtro ND 3 Stop', 1, 'Carlos', 1220, 1220)\n",
            "(datetime.datetime(2020, 1, 23, 0, 0), 'Lente 16-35mm f/2.8', 1, 'Fernanda', 8997, 8997)\n",
            "(datetime.datetime(2020, 1, 23, 0, 0), 'Canon 5D Mark III', 2, 'Theo', 13650, 27300)\n",
            "(datetime.datetime(2020, 1, 24, 0, 0), 'Filtro ND 5 Stop', 1, 'Carlos', 1220, 1220)\n",
            "(datetime.datetime(2020, 1, 24, 0, 0), 'Filtro ND 2 Stop', 2, 'Raquel', 1220, 2440)\n",
            "(datetime.datetime(2020, 1, 24, 0, 0), 'Lente 50mm f/1.4', 1, 'Carlos', 1649, 1649)\n",
            "(datetime.datetime(2020, 1, 25, 0, 0), 'Lente 16-35mm f/2.8', 1, 'Raquel', 8997, 8997)\n",
            "(datetime.datetime(2020, 1, 25, 0, 0), 'Filtro ND 5 Stop', 1, 'Fernanda', 1220, 1220)\n",
            "(datetime.datetime(2020, 1, 25, 0, 0), 'Lente 16-35mm f/2.8', 1, 'Theo', 8997, 8997)\n",
            "(datetime.datetime(2020, 1, 25, 0, 0), 'Lente 50mm f/1.4', 1, 'Raquel', 1649, 1649)\n",
            "(datetime.datetime(2020, 1, 25, 0, 0), 'Lente 85mm f/1.4', 2, 'Theo', 9989, 19978)\n",
            "(datetime.datetime(2020, 1, 26, 0, 0), 'Filtro ND 2 Stop', 1, 'Theo', 1220, 1220)\n",
            "(datetime.datetime(2020, 1, 26, 0, 0), 'Canon 5D Mark III', 1, 'Raquel', 13650, 13650)\n",
            "(datetime.datetime(2020, 1, 26, 0, 0), 'Canon 6D Mark II', 1, 'Carlos', 8500, 8500)\n",
            "(datetime.datetime(2020, 1, 26, 0, 0), 'Lente 50mm f/1.4', 1, 'Theo', 1649, 1649)\n",
            "(datetime.datetime(2020, 1, 27, 0, 0), 'Lente 85mm f/1.4', 1, 'Raquel', 9989, 9989)\n",
            "(datetime.datetime(2020, 1, 27, 0, 0), 'Canon 6D Mark II', 2, 'Fernanda', 8500, 17000)\n",
            "(datetime.datetime(2020, 1, 27, 0, 0), 'Filtro ND 2 Stop', 1, 'Carlos', 1220, 1220)\n",
            "(datetime.datetime(2020, 1, 28, 0, 0), 'Canon 5D Mark III', 1, 'Fernanda', 13650, 13650)\n",
            "(datetime.datetime(2020, 1, 28, 0, 0), 'Canon 6D Mark II', 1, 'Theo', 8500, 8500)\n",
            "(datetime.datetime(2020, 1, 28, 0, 0), 'DJI Mavic Air 2', 2, 'Theo', 13580, 27160)\n",
            "(datetime.datetime(2020, 1, 28, 0, 0), 'Canon 6D Mark II', 1, 'Carlos', 8500, 8500)\n",
            "(datetime.datetime(2020, 1, 28, 0, 0), 'Filtro ND 2 Stop', 1, 'Raquel', 1220, 1220)\n",
            "(datetime.datetime(2020, 1, 28, 0, 0), 'Canon 5D Mark III', 2, 'Theo', 13650, 27300)\n",
            "(datetime.datetime(2020, 1, 28, 0, 0), 'DJI Mavic Air 2', 1, 'Carlos', 13580, 13580)\n",
            "(datetime.datetime(2020, 1, 28, 0, 0), 'Filtro ND 5 Stop', 2, 'Raquel', 1220, 2440)\n",
            "(datetime.datetime(2020, 1, 28, 0, 0), 'Filtro ND 3 Stop', 1, 'Raquel', 1220, 1220)\n",
            "(datetime.datetime(2020, 1, 29, 0, 0), 'DJI Ronin-S', 2, 'Fernanda', 5790, 11580)\n",
            "(datetime.datetime(2020, 1, 29, 0, 0), 'Canon 6D Mark II', 1, 'Theo', 8500, 8500)\n",
            "(datetime.datetime(2020, 1, 29, 0, 0), 'Filtro ND 5 Stop', 2, 'Theo', 1220, 2440)\n",
            "(datetime.datetime(2020, 1, 29, 0, 0), 'Lente 16-35mm f/2.8', 2, 'Theo', 8997, 17994)\n",
            "(datetime.datetime(2020, 1, 29, 0, 0), 'Filtro ND 2 Stop', 1, 'Fernanda', 1220, 1220)\n",
            "(datetime.datetime(2020, 1, 30, 0, 0), 'Filtro ND 3 Stop', 2, 'Fernanda', 1220, 2440)\n",
            "(datetime.datetime(2020, 1, 30, 0, 0), 'Filtro ND 5 Stop', 2, 'Raquel', 1220, 2440)\n"
          ],
          "name": "stdout"
        }
      ]
    },
    {
      "cell_type": "code",
      "metadata": {
        "id": "CjqGrGNm0WgT"
      },
      "source": [
        ""
      ],
      "execution_count": null,
      "outputs": []
    }
  ]
}