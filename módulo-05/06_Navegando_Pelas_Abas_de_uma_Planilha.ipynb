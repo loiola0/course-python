{
  "nbformat": 4,
  "nbformat_minor": 0,
  "metadata": {
    "colab": {
      "name": "06 - Navegando Pelas Abas de uma Planilha",
      "provenance": [],
      "collapsed_sections": []
    },
    "kernelspec": {
      "name": "python3",
      "display_name": "Python 3"
    }
  },
  "cells": [
    {
      "cell_type": "markdown",
      "metadata": {
        "id": "1lHKx8PEZbVU"
      },
      "source": [
        "<img alt=\"Colaboratory logo\" width=\"15%\" src=\"https://raw.githubusercontent.com/carlosfab/escola-data-science/master/img/novo_logo_bg_claro.png\">\n",
        "\n",
        "#### **Python do Zero**\n",
        "*by [sigmoidal.ai](https://sigmoidal.ai)*\n",
        "\n",
        "---\n",
        "\n",
        "## Navegando Pelas Abas de uma Planilha\n",
        "\n",
        "Seguindo adiante com nossa manipulação de arquivos xlsx, precisamos aprender com efetividade como acessar e navegar pelas abas de uma planilha.\n",
        "\n",
        "<center><img width=\"50%\" src=\"https://images.unsplash.com/photo-1555949963-ff9fe0c870eb?ixlib=rb-1.2.1&ixid=eyJhcHBfaWQiOjEyMDd9&auto=format&fit=crop&w=750&q=80\"></center>\n",
        "\n",
        "Uma das grandes vantagens desse formato de arquivo é a flexibilidade e facilidade que trabalhar com abas permite. Trabalhando nesses arquivos com Python não deveria ser diferente.\n",
        "\n",
        "Por isso, vamos ver como utilizar na prática esses recursos com efetividade.\n",
        "\n",
        "Como sempre, lembramos de fazer o upload dos arqquivos utilizados e a atualização do pacote."
      ]
    },
    {
      "cell_type": "code",
      "metadata": {
        "id": "rnwkG3r0JQ9C"
      },
      "source": [
        "# atualizando a lib\n",
        "!pip install -U openpyxl -q"
      ],
      "execution_count": null,
      "outputs": []
    },
    {
      "cell_type": "markdown",
      "metadata": {
        "id": "NiU8QUwEaQ7r"
      },
      "source": [
        "Vamos carregar os dados como temos feito em todos os notebooks anteriores. Foco, dessa vez, para o método `sheetnames`, que nos mostra o nome das abas pelas quais podemos navegar nesse arquivo."
      ]
    },
    {
      "cell_type": "code",
      "metadata": {
        "id": "XyVhUw3RJXTu"
      },
      "source": [
        "# carregando uma planilha\n",
        "from openpyxl import load_workbook\n",
        "\n",
        "workbook = load_workbook(filename='controle_da_empresa.xlsx')"
      ],
      "execution_count": null,
      "outputs": []
    },
    {
      "cell_type": "code",
      "metadata": {
        "id": "dbtvBtN0a0Zb",
        "colab": {
          "base_uri": "https://localhost:8080/",
          "height": 35
        },
        "outputId": "680a1af8-1638-4c62-f797-c4fd6c4d5ed4"
      },
      "source": [
        "# verificando as abas\n",
        "workbook.sheetnames"
      ],
      "execution_count": null,
      "outputs": [
        {
          "output_type": "execute_result",
          "data": {
            "text/plain": [
              "['Estoque', 'Vendas', 'Funcionários']"
            ]
          },
          "metadata": {
            "tags": []
          },
          "execution_count": 14
        }
      ]
    },
    {
      "cell_type": "markdown",
      "metadata": {
        "id": "aY8v7Y2XanYk"
      },
      "source": [
        "## Escolhendo uma Aba\n",
        "\n",
        "Para carregar uma aba específica, vamos chamar o nome da aba dentro de aspas, simples ou duplas, dentro de colchetes, ao chamar o objeto workbook. É ideal que salvemos esse objeto dentro de uma variável, para facilitar o acesso no futuro."
      ]
    },
    {
      "cell_type": "code",
      "metadata": {
        "id": "uaHevivQJgUm"
      },
      "source": [
        "# carregando uma aba específica\n",
        "sheet = workbook['Vendas']"
      ],
      "execution_count": null,
      "outputs": []
    },
    {
      "cell_type": "markdown",
      "metadata": {
        "id": "kDEdTu2Ea0Yu"
      },
      "source": [
        "## Renomeando uma Aba\n",
        "Uma vez carregada, podemos modificar o nome da aba, através do método `title`."
      ]
    },
    {
      "cell_type": "code",
      "metadata": {
        "id": "ElfHiwuLJy_c",
        "colab": {
          "base_uri": "https://localhost:8080/",
          "height": 35
        },
        "outputId": "e319a09e-d60b-4210-a682-67e1caaade81"
      },
      "source": [
        "# modificar o nome da aba\n",
        "sheet.title = 'VendasVendas'\n",
        "print(sheet.title)"
      ],
      "execution_count": null,
      "outputs": [
        {
          "output_type": "stream",
          "text": [
            "VendasVendas\n"
          ],
          "name": "stdout"
        }
      ]
    },
    {
      "cell_type": "markdown",
      "metadata": {
        "id": "EoAu8_FCbAJq"
      },
      "source": [
        "## Criando Novas Abas\n",
        "Também é possível criar uma nova aba, através do método `create_sheet`.\n",
        "\n",
        "Abaixo, podemos conferir que o nome da aba Vendas foi modificado com sucesso, e podemos ver que a aba Nova Aba também foi criada sem problemas."
      ]
    },
    {
      "cell_type": "code",
      "metadata": {
        "id": "6Lon6TBPJ9pj",
        "colab": {
          "base_uri": "https://localhost:8080/",
          "height": 35
        },
        "outputId": "3d799db5-11b7-486c-82da-84b02aa7a5e0"
      },
      "source": [
        "# criando uma aba nova\n",
        "new_sheet = workbook.create_sheet('Nova Aba')\n",
        "workbook.sheetnames"
      ],
      "execution_count": null,
      "outputs": [
        {
          "output_type": "execute_result",
          "data": {
            "text/plain": [
              "['Estoque', 'VendasVendas', 'Funcionários', 'Nova Aba']"
            ]
          },
          "metadata": {
            "tags": []
          },
          "execution_count": 22
        }
      ]
    },
    {
      "cell_type": "markdown",
      "metadata": {
        "id": "ytOPxS0ubRX1"
      },
      "source": [
        "Quando criamos uma nova aba, por padrão, ela toma a últimia posição entre as abas existentes. Entretanto, possível modificar isso, passando como argumento um `int` que indica a posição que desejamos que ela assuma.\n",
        "\n",
        "Nesse caso, a indexação é feita pelo Python, por isso, o index 0 é a primeira posição."
      ]
    },
    {
      "cell_type": "code",
      "metadata": {
        "id": "EBoh5D26KXV3",
        "colab": {
          "base_uri": "https://localhost:8080/",
          "height": 35
        },
        "outputId": "1c30f870-d878-4a40-8423-64e2a107774b"
      },
      "source": [
        "# ao criar uma nova aba, é possível escolher a posição dela\n",
        "nova_aba = workbook.create_sheet('Primeira Aba', 0)\n",
        "workbook.sheetnames"
      ],
      "execution_count": null,
      "outputs": [
        {
          "output_type": "execute_result",
          "data": {
            "text/plain": [
              "['Primeira Aba', 'Estoque', 'VendasVendas', 'Funcionários', 'Nova Aba']"
            ]
          },
          "metadata": {
            "tags": []
          },
          "execution_count": 23
        }
      ]
    },
    {
      "cell_type": "markdown",
      "metadata": {
        "id": "SFHhZEOZbmTh"
      },
      "source": [
        "## Removendo Abas\n",
        "\n",
        "Da mesma forma que podemos criar, podemos também remover abas. Isso é feito facilmente através do método `remove`, passando como parâmetro a aba a ser excluída."
      ]
    },
    {
      "cell_type": "code",
      "metadata": {
        "id": "Y2LeUL-gKpO8",
        "colab": {
          "base_uri": "https://localhost:8080/",
          "height": 35
        },
        "outputId": "54c589ea-8f37-4456-9cd0-cd1efaec1808"
      },
      "source": [
        "# removendo uma aba\n",
        "workbook.remove(nova_aba)\n",
        "workbook.remove(new_sheet)\n",
        "workbook.sheetnames"
      ],
      "execution_count": null,
      "outputs": [
        {
          "output_type": "execute_result",
          "data": {
            "text/plain": [
              "['Estoque', 'VendasVendas', 'Funcionários']"
            ]
          },
          "metadata": {
            "tags": []
          },
          "execution_count": 24
        }
      ]
    },
    {
      "cell_type": "markdown",
      "metadata": {
        "id": "_y48InOsb7Md"
      },
      "source": [
        "## Copiando Abas\n",
        "\n",
        "Por fim, podemos também criar cópias de abas existentes, utilizando o método `copy_worksheet`."
      ]
    },
    {
      "cell_type": "code",
      "metadata": {
        "id": "FCS-Q_D0K4MF",
        "colab": {
          "base_uri": "https://localhost:8080/",
          "height": 35
        },
        "outputId": "f53da48f-c7f5-478a-e941-5ab345030e89"
      },
      "source": [
        "# copiando uma aba\n",
        "workbook.copy_worksheet(sheet)\n",
        "workbook.sheetnames"
      ],
      "execution_count": null,
      "outputs": [
        {
          "output_type": "execute_result",
          "data": {
            "text/plain": [
              "['Estoque', 'VendasVendas', 'Funcionários', 'VendasVendas Copy']"
            ]
          },
          "metadata": {
            "tags": []
          },
          "execution_count": 25
        }
      ]
    },
    {
      "cell_type": "code",
      "metadata": {
        "id": "RCCiadUyL9CZ"
      },
      "source": [
        ""
      ],
      "execution_count": null,
      "outputs": []
    }
  ]
}