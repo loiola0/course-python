{
  "nbformat": 4,
  "nbformat_minor": 0,
  "metadata": {
    "colab": {
      "name": "01 - Carregando uma Planilha",
      "provenance": [],
      "collapsed_sections": []
    },
    "kernelspec": {
      "name": "python3",
      "display_name": "Python 3"
    }
  },
  "cells": [
    {
      "cell_type": "markdown",
      "metadata": {
        "id": "KBpai48fv9gz"
      },
      "source": [
        "<img alt=\"Colaboratory logo\" width=\"15%\" src=\"https://raw.githubusercontent.com/carlosfab/escola-data-science/master/img/novo_logo_bg_claro.png\">\n",
        "\n",
        "#### **Python do Zero**\n",
        "*by [sigmoidal.ai](https://sigmoidal.ai)*\n",
        "\n",
        "---\n",
        "\n",
        "## Carregando uma Planilha\n",
        "\n",
        "A biblioteca `openpyxl` permite que seja feita, com facilidade, a manipulação de arquivos em formato .xlsx, do Microsoft Excel por meio do Python. Essa é uma habilidade importantíssima devido ao amplo uso da ferramenta no ambiente profissional.\n",
        "\n",
        "\n",
        "<center><img width=\"50%\" src=\"https://image.freepik.com/free-photo/hacking-concept_23-2148165936.jpg\"></center>\n",
        "\n",
        "Vamos ver como ela funciona na prática.\n",
        "\n",
        "O openpyxl vem por padrão no Colab, mas sua versão desatualizada não será capaz de fazer tudo o que precisamos. Por isso, o primeiro passo sempre que abrir um notebook onde o openpyxl será necessário é rodar o comando abaixo, para atualizar o pacote no notebook."
      ]
    },
    {
      "cell_type": "code",
      "metadata": {
        "id": "bGMoE_gjm4t5"
      },
      "source": [
        "# atualizando o pacote\n",
        "!pip install -U openpyxl -q"
      ],
      "execution_count": null,
      "outputs": []
    },
    {
      "cell_type": "markdown",
      "metadata": {
        "id": "iWG1rrb26cFl"
      },
      "source": [
        "## Criando uma Planilha\n",
        "\n",
        "Aqui, vamos entender como funciona a nomenclatura utilizada pelo pacote. A planilha, e aqui leia-se o arquivo xlsx é chamado de `workbook`. Por tanto, vamos criar um objeto do tipo Workbook, e associá-lo à variável workbook.\n",
        "\n",
        "Dentro de um workbook, podemos ter diferentes *sheets*. Apesar da tradução livre para sheet ser planilha, aqui, vamos trabalhar as **abas** da planilha. \n",
        "\n",
        "Sempre precisamos definir qual a aba que será ativada e utilizada. Passando somente o padrão `active`, ele abrirá a primeira aba, aquela que aparece quando abrimos o arquivo. Vamos ver mais pra frente, como fazer para trabalhar com planilhas com variadas abas"
      ]
    },
    {
      "cell_type": "code",
      "metadata": {
        "id": "PgBQkKtknIXl"
      },
      "source": [
        "# importando a lib\n",
        "from openpyxl import Workbook\n",
        "\n",
        "# criando o workbook/ planilha\n",
        "workbook = Workbook()\n",
        "\n",
        "# selecionando a aba\n",
        "sheet = workbook.active"
      ],
      "execution_count": null,
      "outputs": []
    },
    {
      "cell_type": "markdown",
      "metadata": {
        "id": "9wy8cPjL7lMq"
      },
      "source": [
        "## Escrevendo na Planilha\n",
        "Agora que estamos dentro da aba, dentro da planilha, podemos acessar as células, e associar valores a elas."
      ]
    },
    {
      "cell_type": "code",
      "metadata": {
        "id": "HLC9Z-jf7aa5"
      },
      "source": [
        "# acessando as células A1 e B1 e associando valores a elas\n",
        "sheet['A1'] = 'hello'\n",
        "sheet['B1'] = 'world'\n",
        "\n",
        "# para salvar as alterações, utilizar o comando abaixo\n",
        "workbook.save(filename='helloworld.xlsx')"
      ],
      "execution_count": null,
      "outputs": []
    },
    {
      "cell_type": "markdown",
      "metadata": {
        "id": "OMQBayzl77L9"
      },
      "source": [
        "## Carregando uma Planilha\n",
        "\n",
        "Além de criar planilhas, também podemos acessar planilhas criadas previamente. Como estamos lidando com o Google Colab aqui, vamos fazer o upload da planilha, que foi disponibilizada no material de apoio dessa aula. É a mesma que utilizamos em aulas anteriores, de controle da empresa.\n",
        "\n",
        "Agora, vamos utilizar um outro módulo da lib openpyxl, que se chama `load_workbook`. Sua função, como o nome sugere, é carregar planilhas."
      ]
    },
    {
      "cell_type": "code",
      "metadata": {
        "id": "vQTslL3soQ7b",
        "colab": {
          "base_uri": "https://localhost:8080/",
          "height": 35
        },
        "outputId": "9cdd94a3-9b88-4166-be33-7974a71864cc"
      },
      "source": [
        "# carregando uma planilha\n",
        "from openpyxl import load_workbook\n",
        "\n",
        "# carregando o arquivo\n",
        "workbook = load_workbook(filename='controle_da_empresa.xlsx')\n",
        "\n",
        "# verificando as abas\n",
        "workbook.sheetnames"
      ],
      "execution_count": null,
      "outputs": [
        {
          "output_type": "execute_result",
          "data": {
            "text/plain": [
              "['Estoque', 'Vendas', 'Funcionários']"
            ]
          },
          "metadata": {
            "tags": []
          },
          "execution_count": 12
        }
      ]
    },
    {
      "cell_type": "markdown",
      "metadata": {
        "id": "lnbdDthx8yXf"
      },
      "source": [
        "Essa planilha conta com 3 abas diferentes. Por isso, o mais interessante é que utilizemos o comando abaixo, para selecionar a planilha específica que desejamos utilizar."
      ]
    },
    {
      "cell_type": "code",
      "metadata": {
        "id": "6KJU83DlpZG8",
        "colab": {
          "base_uri": "https://localhost:8080/",
          "height": 35
        },
        "outputId": "77aad27e-051e-4e9d-e53f-e21623ce028a"
      },
      "source": [
        "# selecionando a aba ativa\n",
        "sheet = workbook['Vendas']\n",
        "\n",
        "# verificando a aba aberta\n",
        "sheet.title"
      ],
      "execution_count": null,
      "outputs": [
        {
          "output_type": "execute_result",
          "data": {
            "application/vnd.google.colaboratory.intrinsic+json": {
              "type": "string"
            },
            "text/plain": [
              "'Vendas'"
            ]
          },
          "metadata": {
            "tags": []
          },
          "execution_count": 14
        }
      ]
    },
    {
      "cell_type": "markdown",
      "metadata": {
        "id": "KMOKBIFc9Wpe"
      },
      "source": [
        "## Acessando as Células\n",
        "Para acessar uma célula, basta usar o comando abaixo. Lembre-se de passar o método .value, para que a consulta retorne o valor inserido dentro da célula."
      ]
    },
    {
      "cell_type": "code",
      "metadata": {
        "id": "O3rVhPqXp0q0",
        "colab": {
          "base_uri": "https://localhost:8080/",
          "height": 35
        },
        "outputId": "f835425e-2bf5-4162-809e-e2a756a94db6"
      },
      "source": [
        "# acesando as células\n",
        "sheet['F10'].value"
      ],
      "execution_count": null,
      "outputs": [
        {
          "output_type": "execute_result",
          "data": {
            "text/plain": [
              "17994"
            ]
          },
          "metadata": {
            "tags": []
          },
          "execution_count": 15
        }
      ]
    },
    {
      "cell_type": "markdown",
      "metadata": {
        "id": "Rv07pL179qjW"
      },
      "source": [
        "Também é possível acessar o conteúdo por meio do método cell, passando o número da coluna e da linha.\n",
        "\n",
        "Atenção para o index do excel que começa em 1, diferente do Python que começa em 0.\n"
      ]
    },
    {
      "cell_type": "code",
      "metadata": {
        "id": "mlq3t1c8qF-M"
      },
      "source": [
        "# acessando as células\n",
        "sheet.cell(row=10, column=6).value"
      ],
      "execution_count": null,
      "outputs": []
    },
    {
      "cell_type": "markdown",
      "metadata": {
        "id": "jBpImk_yss5k"
      },
      "source": [
        "Atenção também para alguns argumentos que a função load_workbook recebe.\n",
        "\n",
        "* `read_only` tem por padrão `False`, o que nos possibilita manipular os dados.\n",
        "\n",
        "* `data_only` também recebe por padrão o argumento `False`. Caso seja passado `True`, qualquer célula que tenha fórmula, transmitirá somente o valor resultante da ação executada pela fórmula, sem aparesentar a mesma."
      ]
    },
    {
      "cell_type": "code",
      "metadata": {
        "id": "zz3eNOaxqyv5"
      },
      "source": [
        "# adicione os parênteses e verifique a doc string para ver os argumentos\n",
        "workbook2 = load_workbook(read_only=True, data_only=True)"
      ],
      "execution_count": null,
      "outputs": []
    },
    {
      "cell_type": "code",
      "metadata": {
        "id": "CZdSsTOcuwpl"
      },
      "source": [
        ""
      ],
      "execution_count": null,
      "outputs": []
    }
  ]
}