{
  "nbformat": 4,
  "nbformat_minor": 0,
  "metadata": {
    "colab": {
      "name": "atualizando a lib.ipynb",
      "provenance": []
    },
    "kernelspec": {
      "name": "python3",
      "display_name": "Python 3"
    }
  },
  "cells": [
    {
      "cell_type": "code",
      "metadata": {
        "colab": {
          "base_uri": "https://localhost:8080/"
        },
        "id": "qkUBPCLDhrs-",
        "outputId": "cbcd7cbb-8221-460a-8a63-12432b31d1a5"
      },
      "source": [
        "#atualizando a lib\n",
        "!pip install -U openpyxl -q"
      ],
      "execution_count": 1,
      "outputs": [
        {
          "output_type": "stream",
          "text": [
            "\u001b[?25l\r\u001b[K     |█▍                              | 10kB 18.2MB/s eta 0:00:01\r\u001b[K     |██▊                             | 20kB 23.3MB/s eta 0:00:01\r\u001b[K     |████                            | 30kB 7.7MB/s eta 0:00:01\r\u001b[K     |█████▍                          | 40kB 8.8MB/s eta 0:00:01\r\u001b[K     |██████▊                         | 51kB 4.1MB/s eta 0:00:01\r\u001b[K     |████████                        | 61kB 4.8MB/s eta 0:00:01\r\u001b[K     |█████████▌                      | 71kB 5.5MB/s eta 0:00:01\r\u001b[K     |██████████▉                     | 81kB 5.6MB/s eta 0:00:01\r\u001b[K     |████████████▏                   | 92kB 5.6MB/s eta 0:00:01\r\u001b[K     |█████████████▌                  | 102kB 6.0MB/s eta 0:00:01\r\u001b[K     |██████████████▉                 | 112kB 6.0MB/s eta 0:00:01\r\u001b[K     |████████████████▏               | 122kB 6.0MB/s eta 0:00:01\r\u001b[K     |█████████████████▌              | 133kB 6.0MB/s eta 0:00:01\r\u001b[K     |███████████████████             | 143kB 6.0MB/s eta 0:00:01\r\u001b[K     |████████████████████▎           | 153kB 6.0MB/s eta 0:00:01\r\u001b[K     |█████████████████████▋          | 163kB 6.0MB/s eta 0:00:01\r\u001b[K     |███████████████████████         | 174kB 6.0MB/s eta 0:00:01\r\u001b[K     |████████████████████████▎       | 184kB 6.0MB/s eta 0:00:01\r\u001b[K     |█████████████████████████▋      | 194kB 6.0MB/s eta 0:00:01\r\u001b[K     |███████████████████████████     | 204kB 6.0MB/s eta 0:00:01\r\u001b[K     |████████████████████████████▍   | 215kB 6.0MB/s eta 0:00:01\r\u001b[K     |█████████████████████████████▊  | 225kB 6.0MB/s eta 0:00:01\r\u001b[K     |███████████████████████████████ | 235kB 6.0MB/s eta 0:00:01\r\u001b[K     |████████████████████████████████| 245kB 6.0MB/s \n",
            "\u001b[?25h"
          ],
          "name": "stdout"
        }
      ]
    },
    {
      "cell_type": "code",
      "metadata": {
        "colab": {
          "base_uri": "https://localhost:8080/"
        },
        "id": "Jf11BUuTh0id",
        "outputId": "3a736083-ab0b-4e47-f55c-21fd0d51b96f"
      },
      "source": [
        "#carregando a planilha\n",
        "from openpyxl import load_workbook\n",
        "from openpyxl.drawing.image import Image\n",
        "\n",
        "#carregando arquivo\n",
        "workbook = load_workbook(filename=\"controle_da_empresa.xlsx\")\n",
        "\n",
        "#verificando as abas\n",
        "workbook.sheetnames"
      ],
      "execution_count": 3,
      "outputs": [
        {
          "output_type": "execute_result",
          "data": {
            "text/plain": [
              "['Estoque', 'Vendas', 'Funcionários']"
            ]
          },
          "metadata": {
            "tags": []
          },
          "execution_count": 3
        }
      ]
    },
    {
      "cell_type": "code",
      "metadata": {
        "id": "k8CvRra1ibwc"
      },
      "source": [
        "sheet = workbook['Estoque']"
      ],
      "execution_count": 4,
      "outputs": []
    },
    {
      "cell_type": "code",
      "metadata": {
        "id": "NXLbbz4pifkh"
      },
      "source": [
        "#carregando image\n",
        "logo = Image(\"logo_color.png\")\n",
        "\n",
        "#modificando a altura\n",
        "logo.height = 150\n",
        "\n",
        "#modificando a largura\n",
        "#logo.width = 300"
      ],
      "execution_count": 5,
      "outputs": []
    },
    {
      "cell_type": "markdown",
      "metadata": {
        "id": "2FtIxCxpjsDJ"
      },
      "source": [
        "**Adicionando Imagem**"
      ]
    },
    {
      "cell_type": "code",
      "metadata": {
        "id": "s2XvA2v1jpqS"
      },
      "source": [
        "sheet.add_image(logo,'D12')\n",
        "workbook.save(\"controle_img.xlsx\")"
      ],
      "execution_count": 6,
      "outputs": []
    }
  ]
}