{
  "nbformat": 4,
  "nbformat_minor": 0,
  "metadata": {
    "colab": {
      "name": "aula01mod05.ipynb",
      "provenance": []
    },
    "kernelspec": {
      "name": "python3",
      "display_name": "Python 3"
    }
  },
  "cells": [
    {
      "cell_type": "code",
      "metadata": {
        "id": "pgvL94L11eOL"
      },
      "source": [
        "#atualizando o pacote openpyxl para manipular arquivos xlsx\n",
        "!pip install -U openpyxl -q"
      ],
      "execution_count": null,
      "outputs": []
    },
    {
      "cell_type": "code",
      "metadata": {
        "id": "bQzWqUyU2iW1"
      },
      "source": [
        "#importando a lib\n",
        "from openpyxl import Workbook\n",
        "\n",
        "#criando o workbook/planilha\n",
        "workbook = Workbook()\n",
        "\n",
        "#selecionando a aba\n",
        "sheet = workbook.active\n"
      ],
      "execution_count": 2,
      "outputs": []
    },
    {
      "cell_type": "code",
      "metadata": {
        "id": "gGRrNTLz3A7l"
      },
      "source": [
        "#acessando as células A1 e B1 e associando valores a elas\n",
        "sheet['A1'] = 'Hello'\n",
        "sheet['B1'] = 'Jesus'\n",
        "\n",
        "#para salvar as alterações, use o comando abaixo\n",
        "workbook.save(filename='helloJesus.xlsx')"
      ],
      "execution_count": 4,
      "outputs": []
    },
    {
      "cell_type": "markdown",
      "metadata": {
        "id": "hw4j9dYl4t3W"
      },
      "source": [
        "**CARREGANDO UMA PLANILHA**"
      ]
    },
    {
      "cell_type": "code",
      "metadata": {
        "colab": {
          "base_uri": "https://localhost:8080/"
        },
        "id": "qA-hrvY54sbQ",
        "outputId": "e8749bd3-4f2e-4222-a075-c4f1514fd40c"
      },
      "source": [
        "#carregando uma planilha\n",
        "from openpyxl import load_workbook\n",
        "\n",
        "#carregando o arquivo\n",
        "workbook = load_workbook(filename=\"controle_da_empresa.xlsx\")\n",
        "\n",
        "#verificando as abas\n",
        "workbook.sheetnames"
      ],
      "execution_count": 5,
      "outputs": [
        {
          "output_type": "execute_result",
          "data": {
            "text/plain": [
              "['Estoque', 'Vendas', 'Funcionários']"
            ]
          },
          "metadata": {
            "tags": []
          },
          "execution_count": 5
        }
      ]
    },
    {
      "cell_type": "code",
      "metadata": {
        "colab": {
          "base_uri": "https://localhost:8080/",
          "height": 35
        },
        "id": "xcA3_jNN6nfH",
        "outputId": "ef992c0f-7ea4-42a0-fd62-f80210fbb5e0"
      },
      "source": [
        "#selecionando a aba ativa\n",
        "sheet = workbook['Vendas']\n",
        "\n",
        "sheet.title"
      ],
      "execution_count": 6,
      "outputs": [
        {
          "output_type": "execute_result",
          "data": {
            "application/vnd.google.colaboratory.intrinsic+json": {
              "type": "string"
            },
            "text/plain": [
              "'Vendas'"
            ]
          },
          "metadata": {
            "tags": []
          },
          "execution_count": 6
        }
      ]
    },
    {
      "cell_type": "code",
      "metadata": {
        "colab": {
          "base_uri": "https://localhost:8080/"
        },
        "id": "WoVaDTOo6xAl",
        "outputId": "2b6c95cb-a286-42e7-88e0-151f11d3908a"
      },
      "source": [
        "#acessando célula\n",
        "sheet['F18'].value"
      ],
      "execution_count": 7,
      "outputs": [
        {
          "output_type": "execute_result",
          "data": {
            "text/plain": [
              "27160"
            ]
          },
          "metadata": {
            "tags": []
          },
          "execution_count": 7
        }
      ]
    },
    {
      "cell_type": "code",
      "metadata": {
        "colab": {
          "base_uri": "https://localhost:8080/"
        },
        "id": "LMTXKk6n7jHS",
        "outputId": "ccf1d7ff-d7c0-45b9-ecf0-2e5332e61132"
      },
      "source": [
        "#acessando célula\n",
        "sheet.cell(row=18, column=6).value"
      ],
      "execution_count": 9,
      "outputs": [
        {
          "output_type": "execute_result",
          "data": {
            "text/plain": [
              "27160"
            ]
          },
          "metadata": {
            "tags": []
          },
          "execution_count": 9
        }
      ]
    }
  ]
}