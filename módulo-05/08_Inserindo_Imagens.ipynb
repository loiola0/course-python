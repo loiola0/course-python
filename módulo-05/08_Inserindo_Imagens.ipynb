{
  "nbformat": 4,
  "nbformat_minor": 0,
  "metadata": {
    "colab": {
      "name": "08 - Inserindo Imagens",
      "provenance": [],
      "collapsed_sections": []
    },
    "kernelspec": {
      "name": "python3",
      "display_name": "Python 3"
    }
  },
  "cells": [
    {
      "cell_type": "markdown",
      "metadata": {
        "id": "IdgqGG-NivCa"
      },
      "source": [
        "<img alt=\"Colaboratory logo\" width=\"15%\" src=\"https://raw.githubusercontent.com/carlosfab/escola-data-science/master/img/novo_logo_bg_claro.png\">\n",
        "\n",
        "#### **Python do Zero**\n",
        "*by [sigmoidal.ai](https://sigmoidal.ai)*\n",
        "\n",
        "---\n",
        "\n",
        "# Inserindo Imagens\n",
        "Imagens são excelentes auxiliares no que tange o estilo e a visualização de arquivos. Desde uma simples logo, a elementos mais elaborados que podem compor a planilha, saber como inserir imagens em planilhas pode ser bastante útil.\n",
        "\n",
        "\n",
        "<center><img width=\"50%\" src=\"https://images.unsplash.com/photo-1533794318766-897f4d50cb39?ixlib=rb-1.2.1&ixid=eyJhcHBfaWQiOjEyMDd9&auto=format&fit=crop&w=750&q=80\"></center>\n",
        "\n",
        "Lembre-se sempre da atualização da lib, e do upload dos arquivos. Para esse caso específico, precisamos também da imagem, que nesse caso é o logo do Sigmoidal.\n",
        "\n",
        "Todos os arquivos necessários para essa aula podem ser baixados na página da aula."
      ]
    },
    {
      "cell_type": "code",
      "metadata": {
        "id": "Og5kIJNRfqMN"
      },
      "source": [
        "# atualizando a lib\n",
        "!pip install -U openpyxl -q"
      ],
      "execution_count": null,
      "outputs": []
    },
    {
      "cell_type": "markdown",
      "metadata": {
        "id": "Tgu4HzIkka_5"
      },
      "source": [
        "## Carregando os Dados\n",
        "\n",
        "Mais uma vez, vamos carregar e trabalhar com a aba Vendas da nossa velha conhecida, a planilha de controle da empresa."
      ]
    },
    {
      "cell_type": "code",
      "metadata": {
        "id": "K2BwXOIfgJcA",
        "colab": {
          "base_uri": "https://localhost:8080/",
          "height": 35
        },
        "outputId": "58a83a3e-5ed7-41ec-df72-0dcba1f24afa"
      },
      "source": [
        "# carregando uma planilha\n",
        "from openpyxl import load_workbook\n",
        "from openpyxl.drawing.image import Image\n",
        "\n",
        "workbook = load_workbook(filename='controle_da_empresa.xlsx')\n",
        "\n",
        "# verificando as abas\n",
        "workbook.sheetnames"
      ],
      "execution_count": null,
      "outputs": [
        {
          "output_type": "execute_result",
          "data": {
            "text/plain": [
              "['Estoque', 'Vendas', 'Funcionários']"
            ]
          },
          "metadata": {
            "tags": []
          },
          "execution_count": 7
        }
      ]
    },
    {
      "cell_type": "code",
      "metadata": {
        "id": "q_7HxuzBguj5"
      },
      "source": [
        "# carregando uma aba específica\n",
        "sheet = workbook['Estoque']"
      ],
      "execution_count": null,
      "outputs": []
    },
    {
      "cell_type": "markdown",
      "metadata": {
        "id": "RsBe2eUNjk_5"
      },
      "source": [
        "## Carregando a Imagem\n",
        "\n",
        "Aqui, utilizaremos o módulo `Image` que carregamos anteriormente para ler nossa imagem.\n",
        "\n",
        "Também vamos ajustar o tamanho da imagem, para que ela não ocupe espaço demais em nossa planilha.\n",
        "\n",
        "Você pode sempre ajustar a posição e tamanho dela para ficar de acordo com a necessidade da sua planilha."
      ]
    },
    {
      "cell_type": "code",
      "metadata": {
        "id": "luFRYqe5gxRO"
      },
      "source": [
        "# carregando a imagem\n",
        "logo = Image('logo_sigmoidal.png')\n",
        "\n",
        "# modificando a altura\n",
        "logo.height = 150\n",
        "# modificando a largura\n",
        "logo.width = 150\n"
      ],
      "execution_count": null,
      "outputs": []
    },
    {
      "cell_type": "markdown",
      "metadata": {
        "id": "cyvc0GPBj4Tk"
      },
      "source": [
        "## Adicionando a Imagem\n",
        "Para adicionar a imagem, é simples: basta utilizar o método `add.image`, passando como parâmetro o caminho para a imagem, e a célula onde ela será alocada.\n",
        "\n",
        "Pense bem sobre a colocação da imagem, tendo como referência o canto superior esquerdo da imagem como ponto de início da mesma.\n",
        "\n",
        "Depois, basta salvar o arquivo da planilha e verificar as mudanças."
      ]
    },
    {
      "cell_type": "code",
      "metadata": {
        "id": "2TmPfoovhA8C"
      },
      "source": [
        "sheet.add_image(logo, 'D12')\n",
        "workbook.save(filename='controle_img.xlsx')"
      ],
      "execution_count": null,
      "outputs": []
    },
    {
      "cell_type": "code",
      "metadata": {
        "id": "3UGZXojhiFkJ"
      },
      "source": [
        ""
      ],
      "execution_count": null,
      "outputs": []
    }
  ]
}