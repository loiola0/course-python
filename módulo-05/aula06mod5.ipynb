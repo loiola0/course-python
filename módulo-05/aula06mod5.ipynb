{
  "nbformat": 4,
  "nbformat_minor": 0,
  "metadata": {
    "colab": {
      "name": "aula06mod5.ipynb",
      "provenance": []
    },
    "kernelspec": {
      "name": "python3",
      "display_name": "Python 3"
    }
  },
  "cells": [
    {
      "cell_type": "code",
      "metadata": {
        "colab": {
          "base_uri": "https://localhost:8080/"
        },
        "id": "yad76c3awt2k",
        "outputId": "1c70bae5-c4c3-48b1-b8d1-90d0529e6497"
      },
      "source": [
        "#atualizando a lib openpyxl\n",
        "!pip install -U openpyxl -q"
      ],
      "execution_count": 1,
      "outputs": [
        {
          "output_type": "stream",
          "text": [
            "\u001b[?25l\r\u001b[K     |█▍                              | 10kB 21.5MB/s eta 0:00:01\r\u001b[K     |██▊                             | 20kB 25.5MB/s eta 0:00:01\r\u001b[K     |████                            | 30kB 11.2MB/s eta 0:00:01\r\u001b[K     |█████▍                          | 40kB 9.0MB/s eta 0:00:01\r\u001b[K     |██████▊                         | 51kB 4.6MB/s eta 0:00:01\r\u001b[K     |████████                        | 61kB 5.1MB/s eta 0:00:01\r\u001b[K     |█████████▌                      | 71kB 5.1MB/s eta 0:00:01\r\u001b[K     |██████████▉                     | 81kB 5.6MB/s eta 0:00:01\r\u001b[K     |████████████▏                   | 92kB 5.8MB/s eta 0:00:01\r\u001b[K     |█████████████▌                  | 102kB 6.1MB/s eta 0:00:01\r\u001b[K     |██████████████▉                 | 112kB 6.1MB/s eta 0:00:01\r\u001b[K     |████████████████▏               | 122kB 6.1MB/s eta 0:00:01\r\u001b[K     |█████████████████▌              | 133kB 6.1MB/s eta 0:00:01\r\u001b[K     |███████████████████             | 143kB 6.1MB/s eta 0:00:01\r\u001b[K     |████████████████████▎           | 153kB 6.1MB/s eta 0:00:01\r\u001b[K     |█████████████████████▋          | 163kB 6.1MB/s eta 0:00:01\r\u001b[K     |███████████████████████         | 174kB 6.1MB/s eta 0:00:01\r\u001b[K     |████████████████████████▎       | 184kB 6.1MB/s eta 0:00:01\r\u001b[K     |█████████████████████████▋      | 194kB 6.1MB/s eta 0:00:01\r\u001b[K     |███████████████████████████     | 204kB 6.1MB/s eta 0:00:01\r\u001b[K     |████████████████████████████▍   | 215kB 6.1MB/s eta 0:00:01\r\u001b[K     |█████████████████████████████▊  | 225kB 6.1MB/s eta 0:00:01\r\u001b[K     |███████████████████████████████ | 235kB 6.1MB/s eta 0:00:01\r\u001b[K     |████████████████████████████████| 245kB 6.1MB/s \n",
            "\u001b[?25h"
          ],
          "name": "stdout"
        }
      ]
    },
    {
      "cell_type": "code",
      "metadata": {
        "colab": {
          "base_uri": "https://localhost:8080/"
        },
        "id": "CjsyBPHZw0q4",
        "outputId": "82aebe7f-2f08-4b46-9ab5-2e99c7dd71d4"
      },
      "source": [
        "#carregando planilha\n",
        "from openpyxl import load_workbook\n",
        "\n",
        "#carregando arquivo\n",
        "workbook = load_workbook(filename=\"controle_da_empresa.xlsx\")\n",
        "\n",
        "#verificando as abas\n",
        "workbook.sheetnames\n"
      ],
      "execution_count": 3,
      "outputs": [
        {
          "output_type": "execute_result",
          "data": {
            "text/plain": [
              "['Estoque', 'Vendas', 'Funcionários']"
            ]
          },
          "metadata": {
            "tags": []
          },
          "execution_count": 3
        }
      ]
    },
    {
      "cell_type": "code",
      "metadata": {
        "id": "aX1_BMMdxVwW"
      },
      "source": [
        "#escolhendo aba específica \n",
        "sheet = workbook['Vendas']"
      ],
      "execution_count": 4,
      "outputs": []
    },
    {
      "cell_type": "code",
      "metadata": {
        "colab": {
          "base_uri": "https://localhost:8080/",
          "height": 35
        },
        "id": "fgv_6a0SykBE",
        "outputId": "37f163e3-864f-4bf3-d7b5-f6c2787e8004"
      },
      "source": [
        "#modificando o nome da aba\n",
        "sheet.title = \"VendasVendas\"\n",
        "sheet.title"
      ],
      "execution_count": 5,
      "outputs": [
        {
          "output_type": "execute_result",
          "data": {
            "application/vnd.google.colaboratory.intrinsic+json": {
              "type": "string"
            },
            "text/plain": [
              "'VendasVendas'"
            ]
          },
          "metadata": {
            "tags": []
          },
          "execution_count": 5
        }
      ]
    },
    {
      "cell_type": "code",
      "metadata": {
        "colab": {
          "base_uri": "https://localhost:8080/"
        },
        "id": "qNILz31cy4ua",
        "outputId": "2be3fe0c-f66d-46a1-8b62-6b8c1dce68b0"
      },
      "source": [
        "#criando uma nova aba\n",
        "new_sheet = workbook.create_sheet('Nova Aba')\n",
        "workbook.sheetnames"
      ],
      "execution_count": 6,
      "outputs": [
        {
          "output_type": "execute_result",
          "data": {
            "text/plain": [
              "['Estoque', 'VendasVendas', 'Funcionários', 'Nova Aba']"
            ]
          },
          "metadata": {
            "tags": []
          },
          "execution_count": 6
        }
      ]
    },
    {
      "cell_type": "code",
      "metadata": {
        "colab": {
          "base_uri": "https://localhost:8080/"
        },
        "id": "NINFP55yzNTZ",
        "outputId": "283a753b-ea41-42c2-b6d1-a5d5a844ffb6"
      },
      "source": [
        "#criando nova aba e escolhendo a posição\n",
        "nova_aba = workbook.create_sheet(\"Primeira Aba\",0)\n",
        "workbook.sheetnames"
      ],
      "execution_count": 7,
      "outputs": [
        {
          "output_type": "execute_result",
          "data": {
            "text/plain": [
              "['Primeira Aba', 'Estoque', 'VendasVendas', 'Funcionários', 'Nova Aba']"
            ]
          },
          "metadata": {
            "tags": []
          },
          "execution_count": 7
        }
      ]
    },
    {
      "cell_type": "code",
      "metadata": {
        "colab": {
          "base_uri": "https://localhost:8080/"
        },
        "id": "hPlG_opF0ELg",
        "outputId": "c74a1f21-1feb-4ba5-9823-fca1dd9e4f9d"
      },
      "source": [
        "#removendo abas\n",
        "workbook.remove(new_sheet)\n",
        "workbook.remove(nova_aba)\n",
        "workbook.sheetnames"
      ],
      "execution_count": 8,
      "outputs": [
        {
          "output_type": "execute_result",
          "data": {
            "text/plain": [
              "['Estoque', 'VendasVendas', 'Funcionários']"
            ]
          },
          "metadata": {
            "tags": []
          },
          "execution_count": 8
        }
      ]
    },
    {
      "cell_type": "code",
      "metadata": {
        "colab": {
          "base_uri": "https://localhost:8080/"
        },
        "id": "JK4czqqj0gPi",
        "outputId": "78cc5854-e8d5-4697-b3ee-7a78df093575"
      },
      "source": [
        "#copiando aba\n",
        "workbook.copy_worksheet(sheet)\n",
        "workbook.sheetnames"
      ],
      "execution_count": 9,
      "outputs": [
        {
          "output_type": "execute_result",
          "data": {
            "text/plain": [
              "['Estoque', 'VendasVendas', 'Funcionários', 'VendasVendas Copy']"
            ]
          },
          "metadata": {
            "tags": []
          },
          "execution_count": 9
        }
      ]
    }
  ]
}