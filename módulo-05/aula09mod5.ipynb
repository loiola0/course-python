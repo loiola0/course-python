{
  "nbformat": 4,
  "nbformat_minor": 0,
  "metadata": {
    "colab": {
      "name": "aula09mod5.ipynb",
      "provenance": []
    },
    "kernelspec": {
      "name": "python3",
      "display_name": "Python 3"
    }
  },
  "cells": [
    {
      "cell_type": "code",
      "metadata": {
        "colab": {
          "base_uri": "https://localhost:8080/"
        },
        "id": "5SlGKi6qATjP",
        "outputId": "01280041-4559-4991-88be-4205fa75b2a0"
      },
      "source": [
        "#atualizando a lib\n",
        "!pip install -U openpyxl -q"
      ],
      "execution_count": 1,
      "outputs": [
        {
          "output_type": "stream",
          "text": [
            "\u001b[?25l\r\u001b[K     |█▍                              | 10kB 20.3MB/s eta 0:00:01\r\u001b[K     |██▊                             | 20kB 23.1MB/s eta 0:00:01\r\u001b[K     |████                            | 30kB 10.9MB/s eta 0:00:01\r\u001b[K     |█████▍                          | 40kB 9.4MB/s eta 0:00:01\r\u001b[K     |██████▊                         | 51kB 5.0MB/s eta 0:00:01\r\u001b[K     |████████                        | 61kB 5.6MB/s eta 0:00:01\r\u001b[K     |█████████▌                      | 71kB 5.6MB/s eta 0:00:01\r\u001b[K     |██████████▉                     | 81kB 5.9MB/s eta 0:00:01\r\u001b[K     |████████████▏                   | 92kB 6.4MB/s eta 0:00:01\r\u001b[K     |█████████████▌                  | 102kB 4.8MB/s eta 0:00:01\r\u001b[K     |██████████████▉                 | 112kB 4.8MB/s eta 0:00:01\r\u001b[K     |████████████████▏               | 122kB 4.8MB/s eta 0:00:01\r\u001b[K     |█████████████████▌              | 133kB 4.8MB/s eta 0:00:01\r\u001b[K     |███████████████████             | 143kB 4.8MB/s eta 0:00:01\r\u001b[K     |████████████████████▎           | 153kB 4.8MB/s eta 0:00:01\r\u001b[K     |█████████████████████▋          | 163kB 4.8MB/s eta 0:00:01\r\u001b[K     |███████████████████████         | 174kB 4.8MB/s eta 0:00:01\r\u001b[K     |████████████████████████▎       | 184kB 4.8MB/s eta 0:00:01\r\u001b[K     |█████████████████████████▋      | 194kB 4.8MB/s eta 0:00:01\r\u001b[K     |███████████████████████████     | 204kB 4.8MB/s eta 0:00:01\r\u001b[K     |████████████████████████████▍   | 215kB 4.8MB/s eta 0:00:01\r\u001b[K     |█████████████████████████████▊  | 225kB 4.8MB/s eta 0:00:01\r\u001b[K     |███████████████████████████████ | 235kB 4.8MB/s eta 0:00:01\r\u001b[K     |████████████████████████████████| 245kB 4.8MB/s \n",
            "\u001b[?25h"
          ],
          "name": "stdout"
        }
      ]
    },
    {
      "cell_type": "code",
      "metadata": {
        "colab": {
          "base_uri": "https://localhost:8080/"
        },
        "id": "ALn4vdrwAqVR",
        "outputId": "7e33b69d-bf02-4368-9b31-2ded9062c2b9"
      },
      "source": [
        "#carregando planilha\n",
        "from openpyxl import load_workbook,Workbook\n",
        "from openpyxl.chart import BarChart,LineChart,Reference\n",
        "\n",
        "#carregando o arquivo\n",
        "workbook = load_workbook(filename='controle_da_empresa.xlsx')\n",
        "\n",
        "#verificando abas\n",
        "workbook.sheetnames"
      ],
      "execution_count": 10,
      "outputs": [
        {
          "output_type": "execute_result",
          "data": {
            "text/plain": [
              "['Estoque', 'Vendas', 'Funcionários']"
            ]
          },
          "metadata": {
            "tags": []
          },
          "execution_count": 10
        }
      ]
    },
    {
      "cell_type": "code",
      "metadata": {
        "id": "ZsBtdUX6BjGs"
      },
      "source": [
        "sheet = workbook['Estoque']"
      ],
      "execution_count": 4,
      "outputs": []
    },
    {
      "cell_type": "code",
      "metadata": {
        "id": "QGPY_AVOCH61"
      },
      "source": [
        "#criando um objeto BarChart\n",
        "chart = BarChart()\n",
        "\n",
        "\n",
        "data =  'Estoque!$B$1:$C$11'\n",
        "\n",
        "#nomeando os eixos\n",
        "chart.x_axis.title = 'Itens'\n",
        "chart.y_axis.title = 'Estoque Mínimo'\n",
        "\n",
        "#adicionando os dados ao gráfico\n",
        "chart.add_data(data, titles_from_data=True)\n",
        "\n",
        "#adicionando o gráfico á planilha\n",
        "sheet.add_chart(chart,'H1')"
      ],
      "execution_count": 7,
      "outputs": []
    },
    {
      "cell_type": "code",
      "metadata": {
        "id": "Lo6v0epxE_gN"
      },
      "source": [
        "#salvando o arquivo com gráfico de barras\n",
        "workbook.save(filename='controle_da_empresa_chart.xlsx')"
      ],
      "execution_count": 8,
      "outputs": []
    },
    {
      "cell_type": "code",
      "metadata": {
        "id": "cUAQab34Fh6s"
      },
      "source": [
        "from openpyxl.chart.axis import DateAxis\n",
        "from datetime import date\n",
        "\n",
        "#criando uma planilha\n",
        "wb = Workbook()\n",
        "\n",
        "#acessando a aba\n",
        "ws = wb.active\n",
        "\n",
        "#criando os dados\n",
        "rows = [\n",
        "        ['Date','Batch 1','Batch 2','Batch 3'],\n",
        "        [date(2015,9,1),40,30,25],\n",
        "        [date(2015,9,2),40,25,30],\n",
        "        [date(2015,9,3),50,30,45],\n",
        "        [date(2015,9,4),30,25,40],\n",
        "        [date(2015,9,5),25,35,30],\n",
        "        [date(2015,9,6),20,40,35],\n",
        "]\n",
        "\n",
        "\n",
        "\n",
        "# inserindo os dados\n",
        "for row in rows:\n",
        "    ws.append(row)\n",
        "\n",
        "# criando o gráfico\n",
        "c1 = LineChart()\n",
        "c1.title = \"Line Chart\"\n",
        "c1.style = 13\n",
        "c1.y_axis.title = 'Tamanho'\n",
        "c1.x_axis.title = 'Número de testes'\n",
        "\n",
        "data = Reference(ws, min_col=2, min_row=1, max_col=4, max_row=7)\n",
        "\n",
        "# adicionando as referências\n",
        "c1.add_data(data, titles_from_data=True)\n",
        "\n",
        "# adicionando o gráfico à planilha\n",
        "ws.add_chart(c1, \"A10\")\n",
        "\n",
        "# salvando a planilha\n",
        "wb.save(filename='line_chart.xlsx')"
      ],
      "execution_count": 21,
      "outputs": []
    }
  ]
}