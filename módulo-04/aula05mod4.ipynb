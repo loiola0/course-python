{
  "nbformat": 4,
  "nbformat_minor": 0,
  "metadata": {
    "colab": {
      "name": "aula05mod4.ipynb",
      "provenance": []
    },
    "kernelspec": {
      "name": "python3",
      "display_name": "Python 3"
    }
  },
  "cells": [
    {
      "cell_type": "code",
      "metadata": {
        "id": "ILeZJvu-uXHH"
      },
      "source": [
        "#criando tupla\n",
        "teste = ()"
      ],
      "execution_count": 1,
      "outputs": []
    },
    {
      "cell_type": "code",
      "metadata": {
        "colab": {
          "base_uri": "https://localhost:8080/"
        },
        "id": "ltRj0Z83ujgm",
        "outputId": "9a5d5416-0350-441b-b92d-9a7bfc49c90c"
      },
      "source": [
        "crateus = (-5.19853,-40.669)\n",
        "print(crateus)"
      ],
      "execution_count": 3,
      "outputs": [
        {
          "output_type": "stream",
          "text": [
            "(-5.19853, -40.669)\n"
          ],
          "name": "stdout"
        }
      ]
    },
    {
      "cell_type": "code",
      "metadata": {
        "id": "T-UbiRmrwHyf"
      },
      "source": [
        "lat, lon = crateus"
      ],
      "execution_count": 4,
      "outputs": []
    },
    {
      "cell_type": "code",
      "metadata": {
        "colab": {
          "base_uri": "https://localhost:8080/"
        },
        "id": "GcH6JAJvwQcX",
        "outputId": "8bfa871e-f127-4a72-ea51-5eb6d562df80"
      },
      "source": [
        "print(\"Latitude de Crateús: \", lat)\n",
        "print(\"Longitude de Crateús: \",lon)\n",
        "print(\"Latidude de longitude\",lat,lon)"
      ],
      "execution_count": 6,
      "outputs": [
        {
          "output_type": "stream",
          "text": [
            "Latitude de Crateús:  -5.19853\n",
            "Longitude de Crateús:  -40.669\n",
            "Latidude de longitude -5.19853 -40.669\n"
          ],
          "name": "stdout"
        }
      ]
    }
  ]
}