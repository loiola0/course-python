{
  "nbformat": 4,
  "nbformat_minor": 0,
  "metadata": {
    "colab": {
      "name": "aula03mod4.ipynb",
      "provenance": []
    },
    "kernelspec": {
      "name": "python3",
      "display_name": "Python 3"
    }
  },
  "cells": [
    {
      "cell_type": "code",
      "metadata": {
        "colab": {
          "base_uri": "https://localhost:8080/"
        },
        "id": "Nj7teeCbCJwX",
        "outputId": "00318169-f151-4879-aa61-b5977008f74b"
      },
      "source": [
        "#criar uma lista\n",
        "lista_inicial = []\n",
        "print(lista_inicial)\n",
        "print(type(lista_inicial))"
      ],
      "execution_count": 2,
      "outputs": [
        {
          "output_type": "stream",
          "text": [
            "[]\n",
            "<class 'list'>\n"
          ],
          "name": "stdout"
        }
      ]
    },
    {
      "cell_type": "code",
      "metadata": {
        "colab": {
          "base_uri": "https://localhost:8080/"
        },
        "id": "I8iVQESrC6A1",
        "outputId": "12c7dd81-b22f-4807-b699-7d04f1356291"
      },
      "source": [
        "#criar uma lista com valores\n",
        "lista_inicial = [\"Victor\",\"Gabriel\",1.80,True]\n",
        "print(lista_inicial)"
      ],
      "execution_count": 3,
      "outputs": [
        {
          "output_type": "stream",
          "text": [
            "['Victor', 'Gabriel', 1.8, True]\n"
          ],
          "name": "stdout"
        }
      ]
    },
    {
      "cell_type": "code",
      "metadata": {
        "id": "DUyJ30aYEDf0"
      },
      "source": [
        "# gastos por trimestre\n",
        "cliente = [\"Eduarda\", \"Estudante\", 222.50, 433.80, 591.66, 124.20]"
      ],
      "execution_count": 6,
      "outputs": []
    },
    {
      "cell_type": "code",
      "metadata": {
        "colab": {
          "base_uri": "https://localhost:8080/"
        },
        "id": "vqHZiI8EEFAm",
        "outputId": "17af1eee-7a01-47c4-f7dd-42998e42de78"
      },
      "source": [
        "#acessar as últimas quatro colunas\n",
        "cliente[2:]"
      ],
      "execution_count": 9,
      "outputs": [
        {
          "output_type": "execute_result",
          "data": {
            "text/plain": [
              "[222.5, 433.8, 591.66, 124.2]"
            ]
          },
          "metadata": {
            "tags": []
          },
          "execution_count": 9
        }
      ]
    },
    {
      "cell_type": "code",
      "metadata": {
        "id": "6Yd3oU5nEj9W"
      },
      "source": [
        "# criar lista de convidados\n",
        "convidados = [\"Ricardo\", \"Aline\", \"Carlos\", \"Mathias\", \"Elaine\"]"
      ],
      "execution_count": 11,
      "outputs": []
    },
    {
      "cell_type": "code",
      "metadata": {
        "colab": {
          "base_uri": "https://localhost:8080/"
        },
        "id": "snuQMf7vEkne",
        "outputId": "d9dea0e8-310f-4f05-efab-8c7652628053"
      },
      "source": [
        "\"Elaine\" in convidados"
      ],
      "execution_count": 12,
      "outputs": [
        {
          "output_type": "execute_result",
          "data": {
            "text/plain": [
              "True"
            ]
          },
          "metadata": {
            "tags": []
          },
          "execution_count": 12
        }
      ]
    },
    {
      "cell_type": "code",
      "metadata": {
        "colab": {
          "base_uri": "https://localhost:8080/"
        },
        "id": "ZJJwL7FcEsdQ",
        "outputId": "e8e78c5e-c0d4-42ed-d0b2-73c9e91c7cc8"
      },
      "source": [
        "\"Bruno\" in convidados"
      ],
      "execution_count": 13,
      "outputs": [
        {
          "output_type": "execute_result",
          "data": {
            "text/plain": [
              "False"
            ]
          },
          "metadata": {
            "tags": []
          },
          "execution_count": 13
        }
      ]
    },
    {
      "cell_type": "code",
      "metadata": {
        "colab": {
          "base_uri": "https://localhost:8080/"
        },
        "id": "k0VtfP-1E0oa",
        "outputId": "470cdacd-4f90-48ba-84e0-f58469ed464c"
      },
      "source": [
        "\"Pablo\" not in convidados"
      ],
      "execution_count": 14,
      "outputs": [
        {
          "output_type": "execute_result",
          "data": {
            "text/plain": [
              "True"
            ]
          },
          "metadata": {
            "tags": []
          },
          "execution_count": 14
        }
      ]
    },
    {
      "cell_type": "code",
      "metadata": {
        "colab": {
          "base_uri": "https://localhost:8080/"
        },
        "id": "lWshThvYFFuT",
        "outputId": "cac64527-a68e-4048-da47-de22a628d5bf"
      },
      "source": [
        "# carteira de ações\n",
        "carteira = [\"BBAS3\", \"WEGE3\", \"ITSA4\"]\n",
        "print(carteira)"
      ],
      "execution_count": 17,
      "outputs": [
        {
          "output_type": "stream",
          "text": [
            "['BBAS3', 'WEGE3', 'ITSA4']\n"
          ],
          "name": "stdout"
        }
      ]
    },
    {
      "cell_type": "code",
      "metadata": {
        "colab": {
          "base_uri": "https://localhost:8080/"
        },
        "id": "tZqr8g0XFH0L",
        "outputId": "989a943c-ea33-45d9-f75d-058ee1332a23"
      },
      "source": [
        "carteira[2] = \"PETR4\"\n",
        "print(carteira)"
      ],
      "execution_count": 18,
      "outputs": [
        {
          "output_type": "stream",
          "text": [
            "['BBAS3', 'WEGE3', 'PETR4']\n"
          ],
          "name": "stdout"
        }
      ]
    },
    {
      "cell_type": "code",
      "metadata": {
        "colab": {
          "base_uri": "https://localhost:8080/"
        },
        "id": "pP7ZbprhFnOm",
        "outputId": "2d2f590e-3028-4b48-9bc1-e708b3a2d2b3"
      },
      "source": [
        "#Acrescentar um convidado a lista\n",
        "convidados.append(\"Victor\")\n",
        "print(convidados)"
      ],
      "execution_count": 19,
      "outputs": [
        {
          "output_type": "stream",
          "text": [
            "['Ricardo', 'Aline', 'Carlos', 'Mathias', 'Elaine', 'Victor']\n"
          ],
          "name": "stdout"
        }
      ]
    },
    {
      "cell_type": "code",
      "metadata": {
        "colab": {
          "base_uri": "https://localhost:8080/"
        },
        "id": "YFzakORnF281",
        "outputId": "9fd1028a-c128-4c22-c1c1-f6f4f141dec6"
      },
      "source": [
        "#apagar o primeiro convidado da lista\n",
        "convidados.pop(0)\n",
        "print(convidados)"
      ],
      "execution_count": 20,
      "outputs": [
        {
          "output_type": "stream",
          "text": [
            "['Aline', 'Carlos', 'Mathias', 'Elaine', 'Victor']\n"
          ],
          "name": "stdout"
        }
      ]
    },
    {
      "cell_type": "code",
      "metadata": {
        "colab": {
          "base_uri": "https://localhost:8080/"
        },
        "id": "rBsFWQXzGAU_",
        "outputId": "0a249309-b84d-4d2e-e076-d45ee7c7693f"
      },
      "source": [
        "#Excluir \"Carlos\" da lista de convidados\n",
        "convidados.remove(\"Carlos\")\n",
        "print(convidados)"
      ],
      "execution_count": 21,
      "outputs": [
        {
          "output_type": "stream",
          "text": [
            "['Aline', 'Mathias', 'Elaine', 'Victor']\n"
          ],
          "name": "stdout"
        }
      ]
    }
  ]
}