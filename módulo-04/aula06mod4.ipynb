{
  "nbformat": 4,
  "nbformat_minor": 0,
  "metadata": {
    "colab": {
      "name": "aula06mod4.ipynb",
      "provenance": []
    },
    "kernelspec": {
      "name": "python3",
      "display_name": "Python 3"
    }
  },
  "cells": [
    {
      "cell_type": "code",
      "metadata": {
        "colab": {
          "base_uri": "https://localhost:8080/"
        },
        "id": "Kv-7FWTeWTOX",
        "outputId": "cb80ea58-0857-4882-9e2d-0aa3a560b3d3"
      },
      "source": [
        "#associando idade\n",
        "victor = 20\n",
        "\n",
        "#criando condição\n",
        "if victor >=18:\n",
        "  print(\"Victor pode viajar sozinho!\")\n",
        "else:\n",
        "  print(\"Não pode viajar sozinho!\")"
      ],
      "execution_count": 3,
      "outputs": [
        {
          "output_type": "stream",
          "text": [
            "Victor pode viajar sozinho!\n"
          ],
          "name": "stdout"
        }
      ]
    },
    {
      "cell_type": "code",
      "metadata": {
        "colab": {
          "base_uri": "https://localhost:8080/"
        },
        "id": "6OVrC09uXyVv",
        "outputId": "602e3a55-f3ec-4799-fb5a-d0a962adc28d"
      },
      "source": [
        "#criando variáveis\n",
        "victor_idade = 20\n",
        "victor_habilitacao = False\n",
        "victor_pontos_cnh = 0\n",
        "\n",
        "\n",
        "#criando codição\n",
        "if victor_idade>=18 and victor_habilitacao and victor_pontos_cnh < 20:\n",
        "    print(\"Você pode digirir\")\n",
        "else:\n",
        "    print(\"Você não pode dirigir\")"
      ],
      "execution_count": 6,
      "outputs": [
        {
          "output_type": "stream",
          "text": [
            "Você não pode dirigir\n"
          ],
          "name": "stdout"
        }
      ]
    }
  ]
}