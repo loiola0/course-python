{
  "nbformat": 4,
  "nbformat_minor": 0,
  "metadata": {
    "colab": {
      "name": "PDZ -  Dicionários",
      "provenance": [],
      "collapsed_sections": []
    },
    "kernelspec": {
      "name": "python3",
      "display_name": "Python 3"
    }
  },
  "cells": [
    {
      "cell_type": "markdown",
      "metadata": {
        "id": "xkin5RCOr8Ds"
      },
      "source": [
        "<img alt=\"Colaboratory logo\" width=\"15%\" src=\"https://raw.githubusercontent.com/carlosfab/escola-data-science/master/img/novo_logo_bg_claro.png\">\n",
        "\n",
        "#### **Python do Zero**\n",
        "*by [sigmoidal.ai](https://sigmoidal.ai)*\n",
        "\n",
        "---\n",
        "\n",
        "# Dicionários\n",
        "\n",
        "Dicionários também são um tipo de dados que podem ser mudados. No entanto, diferentemente das listas, os dicionários fazem uma espécie de mapeamento entre \"Chaves\" e \"Valores\".\n",
        "\n",
        "<center><img width=\"65%\" src=\"https://developers.google.com/edu/python/images/dict.png\"></center>\n",
        "\n",
        "Vale ressaltar que as chaves dos dicionários podem ser não apenas de strings, mas de outros tipos, como inteiros.\n",
        "\n",
        "Para criar um dicionário, vamos usar as chaves `{}`."
      ]
    },
    {
      "cell_type": "code",
      "metadata": {
        "id": "bLMqp1UaxCkQ"
      },
      "source": [
        "# criando um dicionário vazio\n",
        "meu_dict = {}"
      ],
      "execution_count": null,
      "outputs": []
    },
    {
      "cell_type": "code",
      "metadata": {
        "id": "TIa-NF7HxHzL",
        "colab": {
          "base_uri": "https://localhost:8080/",
          "height": 35
        },
        "outputId": "f4dc2a7d-2335-49de-9e58-1fde6e3523e0"
      },
      "source": [
        "# verificando o tipo\n",
        "type(meu_dict)"
      ],
      "execution_count": null,
      "outputs": [
        {
          "output_type": "execute_result",
          "data": {
            "text/plain": [
              "dict"
            ]
          },
          "metadata": {
            "tags": []
          },
          "execution_count": 3
        }
      ]
    },
    {
      "cell_type": "code",
      "metadata": {
        "id": "WYU1oc2pxJJG"
      },
      "source": [
        "# criando um dicionário com itens\n",
        "exemplo = {\"Carlos\": 35, \"Theo\": 1, \"Fernanda\": 29}"
      ],
      "execution_count": null,
      "outputs": []
    },
    {
      "cell_type": "code",
      "metadata": {
        "id": "RYdhnPCndyAg",
        "colab": {
          "base_uri": "https://localhost:8080/",
          "height": 35
        },
        "outputId": "cab6ce31-5afc-476f-a452-0ff020eee91d"
      },
      "source": [
        "# verificando o dicionário\n",
        "exemplo"
      ],
      "execution_count": null,
      "outputs": [
        {
          "output_type": "execute_result",
          "data": {
            "text/plain": [
              "{'Carlos': 35, 'Fernanda': 29, 'Theo': 1}"
            ]
          },
          "metadata": {
            "tags": []
          },
          "execution_count": 6
        }
      ]
    },
    {
      "cell_type": "markdown",
      "metadata": {
        "id": "FeuEeMuFmeIe"
      },
      "source": [
        "Para acessar os valores por chave, chamamos o nome do dicionário, e colocamos entre colchetes o nome da chave entre aspas, simples ou duplas."
      ]
    },
    {
      "cell_type": "code",
      "metadata": {
        "id": "Tj4_SHeid66G",
        "colab": {
          "base_uri": "https://localhost:8080/",
          "height": 35
        },
        "outputId": "1f5539ca-c7ac-41b2-ec8a-7f85bc73c00f"
      },
      "source": [
        "# verificando as chaves\n",
        "exemplo.keys()"
      ],
      "execution_count": null,
      "outputs": [
        {
          "output_type": "execute_result",
          "data": {
            "text/plain": [
              "dict_keys(['Carlos', 'Theo', 'Fernanda'])"
            ]
          },
          "metadata": {
            "tags": []
          },
          "execution_count": 7
        }
      ]
    },
    {
      "cell_type": "code",
      "metadata": {
        "id": "ZNEwJIBXxYoi",
        "colab": {
          "base_uri": "https://localhost:8080/",
          "height": 35
        },
        "outputId": "75a3926b-d2c1-4c8b-b3dd-76864d713ee8"
      },
      "source": [
        "# acessando a idade do Theo\n",
        "exemplo[\"Theo\"]"
      ],
      "execution_count": null,
      "outputs": [
        {
          "output_type": "execute_result",
          "data": {
            "text/plain": [
              "1"
            ]
          },
          "metadata": {
            "tags": []
          },
          "execution_count": 9
        }
      ]
    },
    {
      "cell_type": "markdown",
      "metadata": {
        "id": "sy1mInismuxu"
      },
      "source": [
        "Para adicionar itens novo ao nosso Dicionário, chamamos o nome do dicionário, o nome da nova chave entre aspas dentro dos colchetes, e associamos um valor a essa chave."
      ]
    },
    {
      "cell_type": "code",
      "metadata": {
        "id": "aJS5qCYIeRHy",
        "colab": {
          "base_uri": "https://localhost:8080/",
          "height": 35
        },
        "outputId": "0d42c770-8456-4d89-d4d6-2781086c96f1"
      },
      "source": [
        "exemplo"
      ],
      "execution_count": null,
      "outputs": [
        {
          "output_type": "execute_result",
          "data": {
            "text/plain": [
              "{'Carlos': 35, 'Fernanda': 29, 'Theo': 1}"
            ]
          },
          "metadata": {
            "tags": []
          },
          "execution_count": 10
        }
      ]
    },
    {
      "cell_type": "code",
      "metadata": {
        "id": "jIS0XcvUxeDW",
        "colab": {
          "base_uri": "https://localhost:8080/",
          "height": 35
        },
        "outputId": "90078dc0-d4bf-4cc5-807d-173babc17a64"
      },
      "source": [
        "# adicionando itens\n",
        "exemplo[\"Raquel\"] = 1\n",
        "\n",
        "print(exemplo)"
      ],
      "execution_count": null,
      "outputs": [
        {
          "output_type": "stream",
          "text": [
            "{'Carlos': 35, 'Theo': 1, 'Fernanda': 29, 'Raquel': 1}\n"
          ],
          "name": "stdout"
        }
      ]
    },
    {
      "cell_type": "code",
      "metadata": {
        "id": "fbYUH5Z1eLXX",
        "colab": {
          "base_uri": "https://localhost:8080/",
          "height": 35
        },
        "outputId": "567cb591-3808-469c-e5d4-25310540695c"
      },
      "source": [
        "# acessando a idade do Raquel\n",
        "exemplo[\"Raquel\"]"
      ],
      "execution_count": null,
      "outputs": [
        {
          "output_type": "execute_result",
          "data": {
            "text/plain": [
              "1"
            ]
          },
          "metadata": {
            "tags": []
          },
          "execution_count": 15
        }
      ]
    },
    {
      "cell_type": "markdown",
      "metadata": {
        "id": "byuAwemCm_2h"
      },
      "source": [
        "Caso quisermos excluir a partir de uma chave, basta utilizar o método pop().\n",
        "\n",
        "> dicionário.pop(\"chave\")"
      ]
    },
    {
      "cell_type": "code",
      "metadata": {
        "id": "DeEipv4Px3a5",
        "colab": {
          "base_uri": "https://localhost:8080/",
          "height": 35
        },
        "outputId": "f0882fc6-b7e2-45d9-c2a4-58e25a0efa82"
      },
      "source": [
        "# excluindo itens\n",
        "exemplo.pop(\"Raquel\")\n",
        "\n",
        "print(exemplo)"
      ],
      "execution_count": null,
      "outputs": [
        {
          "output_type": "stream",
          "text": [
            "{'Carlos': 35, 'Theo': 1, 'Fernanda': 29}\n"
          ],
          "name": "stdout"
        }
      ]
    },
    {
      "cell_type": "markdown",
      "metadata": {
        "id": "Siss-kCJn2I1"
      },
      "source": [
        "Para alterar itens, o processo é igual ao da criação de chaves.\n",
        "\n",
        "Entretanto, usamos uma chave já existente, e indicamos um novo valor a ela."
      ]
    },
    {
      "cell_type": "code",
      "metadata": {
        "id": "vAiZYbr_yBLn",
        "colab": {
          "base_uri": "https://localhost:8080/",
          "height": 35
        },
        "outputId": "c3c3cc16-4438-45f7-cc21-5f164d33237e"
      },
      "source": [
        "# alterando item\n",
        "exemplo[\"Theo\"] = 2\n",
        "\n",
        "print(exemplo)"
      ],
      "execution_count": null,
      "outputs": [
        {
          "output_type": "stream",
          "text": [
            "{'Carlos': 35, 'Theo': 2, 'Fernanda': 29}\n"
          ],
          "name": "stdout"
        }
      ]
    },
    {
      "cell_type": "markdown",
      "metadata": {
        "id": "EQL6H-BDoefh"
      },
      "source": [
        "## Mais Alguns Detalhes Sobre Dicionários\n",
        "\n",
        "Precisamos nos atentar para alguns detalhes quando estamos lidando com dicionários.\n",
        "\n",
        "Um deles é que não podemos ter duas chaves com o mesmo nome. Nós já vimos que caso usemos o nome de um chave já existente e associarmos a ela valor diferente, ele irá atualizar a chave, e não duplicá-la.\n",
        "\n",
        "Enquanto isso, os valores não possuem restrições, podendo ser qualquer tipo de dados."
      ]
    },
    {
      "cell_type": "markdown",
      "metadata": {
        "id": "Y3aj6z2TpMCQ"
      },
      "source": [
        "## Funções *Built-in* \n",
        "Dicionários possuem algumas funções nativas. \n",
        "\n",
        "Acima, já vimos o pop() para excluir itens. Vamos ver algumas outras agora."
      ]
    },
    {
      "cell_type": "markdown",
      "metadata": {
        "id": "4NVFhmkXp0nv"
      },
      "source": [
        "### .get()\n",
        "A função `.get()` nos permite buscar o valor de uma determinada chave."
      ]
    },
    {
      "cell_type": "code",
      "metadata": {
        "id": "5mk2xm43fDId",
        "colab": {
          "base_uri": "https://localhost:8080/",
          "height": 35
        },
        "outputId": "c78b43dd-7936-4436-da14-bd030fb0cc50"
      },
      "source": [
        "exemplo[\"Theo\"]"
      ],
      "execution_count": null,
      "outputs": [
        {
          "output_type": "execute_result",
          "data": {
            "text/plain": [
              "2"
            ]
          },
          "metadata": {
            "tags": []
          },
          "execution_count": 23
        }
      ]
    },
    {
      "cell_type": "code",
      "metadata": {
        "id": "Lyj0fNLTyHdS",
        "colab": {
          "base_uri": "https://localhost:8080/",
          "height": 35
        },
        "outputId": "e9ce0115-d06a-4c7f-df58-c43275377736"
      },
      "source": [
        "# get()\n",
        "# exemplo[\"Theo\"]\n",
        "exemplo.get('Theo')"
      ],
      "execution_count": null,
      "outputs": [
        {
          "output_type": "execute_result",
          "data": {
            "text/plain": [
              "2"
            ]
          },
          "metadata": {
            "tags": []
          },
          "execution_count": 24
        }
      ]
    },
    {
      "cell_type": "markdown",
      "metadata": {
        "id": "IOSgW9ieqAU4"
      },
      "source": [
        "### .items()\n",
        "\n",
        "Esta função lista todas as chaves e items do nosso dicionário.\n"
      ]
    },
    {
      "cell_type": "code",
      "metadata": {
        "id": "JWLVTxwZqAAi",
        "colab": {
          "base_uri": "https://localhost:8080/",
          "height": 35
        },
        "outputId": "b0f607f6-c5d8-45ef-98f3-8f0f2f09a2be"
      },
      "source": [
        "# items()\n",
        "exemplo.items()"
      ],
      "execution_count": null,
      "outputs": [
        {
          "output_type": "execute_result",
          "data": {
            "text/plain": [
              "dict_items([('Carlos', 35), ('Theo', 2), ('Fernanda', 29)])"
            ]
          },
          "metadata": {
            "tags": []
          },
          "execution_count": 27
        }
      ]
    },
    {
      "cell_type": "markdown",
      "metadata": {
        "id": "mwAC2HyiqPIY"
      },
      "source": [
        "### .keys()\n",
        "Se na função anterior nós buscamos as chaves e valores, aqui vamos pegar apenas as chaves do nosso dicionário."
      ]
    },
    {
      "cell_type": "code",
      "metadata": {
        "id": "-MNhP4Iep9_O",
        "colab": {
          "base_uri": "https://localhost:8080/",
          "height": 35
        },
        "outputId": "7e66577a-25c1-43d4-990d-b1bcf640a0aa"
      },
      "source": [
        "# keys()\n",
        "exemplo.keys()"
      ],
      "execution_count": null,
      "outputs": [
        {
          "output_type": "execute_result",
          "data": {
            "text/plain": [
              "dict_keys(['Carlos', 'Theo', 'Fernanda'])"
            ]
          },
          "metadata": {
            "tags": []
          },
          "execution_count": 25
        }
      ]
    },
    {
      "cell_type": "markdown",
      "metadata": {
        "id": "BbLfyK9Eqgut"
      },
      "source": [
        "### .values()\n",
        "Esta função retorna os valores do nosso dicionário."
      ]
    },
    {
      "cell_type": "code",
      "metadata": {
        "id": "njXHJA27qe_R",
        "colab": {
          "base_uri": "https://localhost:8080/",
          "height": 35
        },
        "outputId": "12452e03-9f5e-43bc-9809-77d4acedec51"
      },
      "source": [
        "# values()\n",
        "exemplo.values()"
      ],
      "execution_count": null,
      "outputs": [
        {
          "output_type": "execute_result",
          "data": {
            "text/plain": [
              "dict_values([35, 2, 29])"
            ]
          },
          "metadata": {
            "tags": []
          },
          "execution_count": 26
        }
      ]
    },
    {
      "cell_type": "markdown",
      "metadata": {
        "id": "ReBLt9i2qt8c"
      },
      "source": [
        "### .pop() / .popitem()\n",
        "Acima, nós já vimos como usar o pop. Indicamos a chave que queremos retirar, e ela é retirada.\n",
        "\n",
        "Usando a função .popitem() nós excluímos a última chave do dicionário."
      ]
    },
    {
      "cell_type": "code",
      "metadata": {
        "id": "GYPNbw_OqpTf",
        "colab": {
          "base_uri": "https://localhost:8080/",
          "height": 54
        },
        "outputId": "7623f96b-f3d9-4cf7-9a69-b292421256bc"
      },
      "source": [
        "# popitem()\n",
        "print('Dicionário original: ',exemplo)\n",
        "exemplo.popitem()\n",
        "print('Dicionário após o popitem(): ',exemplo)"
      ],
      "execution_count": null,
      "outputs": [
        {
          "output_type": "stream",
          "text": [
            "Dicionário original:  {'Carlos': 35, 'Theo': 2, 'Fernanda': 29}\n",
            "Dicionário após o popitem():  {'Carlos': 35, 'Theo': 2}\n"
          ],
          "name": "stdout"
        }
      ]
    },
    {
      "cell_type": "markdown",
      "metadata": {
        "id": "xz2xbNchrN84"
      },
      "source": [
        "### .update()\n",
        "Essa função é usada para juntar dois dicionários.\n",
        "\n",
        "* Caso a chave não esteja presente no primeiro dicionário, ela será adicionada.\n",
        "* Caso a chave já exista no primeiro dicionário, ela terá seu valor substituído pelo valor da chave correspondente no segundo dicionário.\n",
        "\n",
        "Como podemos ver abaixo, criamos dois dicionários, e o resultado foi:\n",
        "* A chave `Snow` não existia no d1, e foi adicionada a ele.\n",
        "* A chave `Theo` teve seu valor atualizado de 1 para 2.\n",
        "* A chave `Fernanda` estava presente com o mesmo valor em ambos dicionários, e, portanto, não sofreu alteração."
      ]
    },
    {
      "cell_type": "code",
      "metadata": {
        "id": "tNv2hQc-rGCZ",
        "colab": {
          "base_uri": "https://localhost:8080/",
          "height": 72
        },
        "outputId": "a27b8300-3ca7-425b-fc29-23cf43ff94fb"
      },
      "source": [
        "# update()\n",
        "d1={'Carlos':35, 'Theo':1, 'Fernanda':29}\n",
        "print('Dicionário 1: ',d1)\n",
        "\n",
        "d2={'Snow':6, 'Theo':2, 'Fernanda':29}\n",
        "print('Dicionário 2: ',d2)\n",
        "\n",
        "d1.update(d2)\n",
        "print('Dicionário Final: ', d1)"
      ],
      "execution_count": null,
      "outputs": [
        {
          "output_type": "stream",
          "text": [
            "Dicionário 1:  {'Carlos': 35, 'Theo': 1, 'Fernanda': 29}\n",
            "Dicionário 2:  {'Snow': 6, 'Theo': 2, 'Fernanda': 29}\n",
            "Dicionário Final:  {'Carlos': 35, 'Theo': 2, 'Fernanda': 29, 'Snow': 6}\n"
          ],
          "name": "stdout"
        }
      ]
    },
    {
      "cell_type": "markdown",
      "metadata": {
        "id": "_DR6mjKLs1sd"
      },
      "source": [
        "### .clear()\n",
        "Por fim, para deixar um dicionário vazio, excluindo todas as suas chaves e valores, utilizamos esta função."
      ]
    },
    {
      "cell_type": "code",
      "metadata": {
        "id": "LjWNnWxBrvWS",
        "colab": {
          "base_uri": "https://localhost:8080/",
          "height": 35
        },
        "outputId": "2a2aceaa-af5e-4d79-8eb2-87095d86bd57"
      },
      "source": [
        "# clear()\n",
        "exemplo.clear()\n",
        "print(exemplo)"
      ],
      "execution_count": null,
      "outputs": [
        {
          "output_type": "execute_result",
          "data": {
            "text/plain": [
              "{}"
            ]
          },
          "metadata": {
            "tags": []
          },
          "execution_count": 30
        }
      ]
    },
    {
      "cell_type": "markdown",
      "metadata": {
        "id": "hPiZ8VEBtFq_"
      },
      "source": [
        "## Exercícios\n",
        "Agora que já conhecemos os Dicionários, suas propriedades e funções, vamos praticar!\n",
        "\n",
        "<center><img width=\"45%\" src=\"https://image.freepik.com/free-vector/programmer-s-workplace-writing-code-laptop_80328-238.jpg\"></center>"
      ]
    },
    {
      "cell_type": "markdown",
      "metadata": {
        "id": "FIKODpRjtNPc"
      },
      "source": [
        "### Exercício 1\n",
        "Crie um dicionário com os nomes e idades dos membros de sua família."
      ]
    },
    {
      "cell_type": "code",
      "metadata": {
        "id": "H3RUJm7yrv-o",
        "colab": {
          "base_uri": "https://localhost:8080/"
        },
        "outputId": "a08c8f7b-7425-4d9a-8b8d-b563650bcf30"
      },
      "source": [
        "# resposta\n",
        "familia = {\"Raimunda\":55,\"Antonio\":48,\"Victor\":20,\"Daniel\":19}\n",
        "print(familia)"
      ],
      "execution_count": 1,
      "outputs": [
        {
          "output_type": "stream",
          "text": [
            "{'Raimunda': 55, 'Antonio': 48, 'Victor': 20, 'Daniel': 19}\n"
          ],
          "name": "stdout"
        }
      ]
    },
    {
      "cell_type": "code",
      "metadata": {
        "id": "Rs-UcI7MtZ8P",
        "cellView": "form"
      },
      "source": [
        "#@title Solução\n",
        "d1={'Carlos':35, 'Theo':1, 'Fernanda':29}"
      ],
      "execution_count": null,
      "outputs": []
    },
    {
      "cell_type": "markdown",
      "metadata": {
        "id": "REgPkNnStgQt"
      },
      "source": [
        "### Exercício 2\n",
        "Exclua o segundo item do dicionário que você acabou de criar."
      ]
    },
    {
      "cell_type": "code",
      "metadata": {
        "id": "3Ri7VsSAtw2E",
        "colab": {
          "base_uri": "https://localhost:8080/"
        },
        "outputId": "d419951a-c105-48bd-c51b-1d26fe980a9f"
      },
      "source": [
        "# resposta\n",
        "familia.pop(\"Antonio\")\n",
        "print(familia)"
      ],
      "execution_count": 2,
      "outputs": [
        {
          "output_type": "stream",
          "text": [
            "{'Raimunda': 55, 'Victor': 20, 'Daniel': 19}\n"
          ],
          "name": "stdout"
        }
      ]
    },
    {
      "cell_type": "code",
      "metadata": {
        "id": "Lve-1tYyt1OK",
        "cellView": "form"
      },
      "source": [
        "#@title Solução\n",
        "d1.pop('Theo')\n",
        "d1"
      ],
      "execution_count": null,
      "outputs": []
    },
    {
      "cell_type": "markdown",
      "metadata": {
        "id": "ilIOX75MuEuJ"
      },
      "source": [
        "### Exercício 3\n",
        "Agora, inclua novamente o item excluído."
      ]
    },
    {
      "cell_type": "code",
      "metadata": {
        "id": "B8NN5LDqt5dJ",
        "colab": {
          "base_uri": "https://localhost:8080/"
        },
        "outputId": "3441146a-94e5-4c01-90db-1627e0b3800f"
      },
      "source": [
        "# resposta\n",
        "familia[\"Antonio\"] = 48\n",
        "print(familia)"
      ],
      "execution_count": 5,
      "outputs": [
        {
          "output_type": "stream",
          "text": [
            "{'Raimunda': 55, 'Victor': 20, 'Daniel': 19, 'Antonio': 48}\n"
          ],
          "name": "stdout"
        }
      ]
    },
    {
      "cell_type": "code",
      "metadata": {
        "id": "qdCcuj-GuJVU",
        "cellView": "form"
      },
      "source": [
        "#@title Solução\n",
        "d1['Theo'] = 2\n",
        "d1"
      ],
      "execution_count": null,
      "outputs": []
    },
    {
      "cell_type": "markdown",
      "metadata": {
        "id": "rst8OZY5uSO5"
      },
      "source": [
        "### Exercício 4\n",
        "Agora crie dois dicionários, contendo:\n",
        "* Frutas e seus respectivos preços\n",
        "* Verduras e seus respectivos preços"
      ]
    },
    {
      "cell_type": "code",
      "metadata": {
        "id": "I19bZBQzuN7i",
        "colab": {
          "base_uri": "https://localhost:8080/"
        },
        "outputId": "c27057eb-9d16-4406-ee7c-ed5675d1f208"
      },
      "source": [
        "# resposta\n",
        "frutas = {\"Maçã\":0.70,\"Uva\":1.20,\"Banana\":5}\n",
        "verduras = {\"Tomate\":3,\"Batata\":4.20,\"Cheiro-Verde\":1}\n",
        "print(frutas)\n",
        "print(verduras)"
      ],
      "execution_count": 8,
      "outputs": [
        {
          "output_type": "stream",
          "text": [
            "{'Maçã': 0.7, 'Uva': 1.2, 'Banana': 5}\n",
            "{'Tomate': 3, 'Batata': 4.2, 'Cheiro-Verde': 1}\n"
          ],
          "name": "stdout"
        }
      ]
    },
    {
      "cell_type": "code",
      "metadata": {
        "id": "8tv0JGrdukqm",
        "cellView": "form"
      },
      "source": [
        "#@title Solução\n",
        "frutas = {'Maçã:':2.00, 'Banana': 1.99, 'Abacaxi':4.99}\n",
        "verduras = {'Alface':1.99, 'Repolho':3.99, 'Couve':1.99}\n",
        "print('Frutas: ', frutas)\n",
        "print('Verduras: ', verduras)"
      ],
      "execution_count": null,
      "outputs": []
    },
    {
      "cell_type": "markdown",
      "metadata": {
        "id": "qO8lki2fyCYM"
      },
      "source": [
        "### Exercício 5\n",
        "Execute os seguintes comandos para manipular os dicionários de `frutas` e `verduras`."
      ]
    },
    {
      "cell_type": "code",
      "metadata": {
        "id": "BIIToyQbu-9p",
        "colab": {
          "base_uri": "https://localhost:8080/"
        },
        "outputId": "9e4a5f85-cdae-4de8-8584-98341f2fa949"
      },
      "source": [
        "# imprima as chaves do dicionário frutas\n",
        "print(frutas.keys())"
      ],
      "execution_count": 12,
      "outputs": [
        {
          "output_type": "stream",
          "text": [
            "dict_keys(['Maçã', 'Uva', 'Banana'])\n"
          ],
          "name": "stdout"
        }
      ]
    },
    {
      "cell_type": "code",
      "metadata": {
        "id": "vQkDuLuIyYU7",
        "cellView": "form"
      },
      "source": [
        "#@title Solução\n",
        "frutas.keys()"
      ],
      "execution_count": null,
      "outputs": []
    },
    {
      "cell_type": "code",
      "metadata": {
        "id": "AZKCgM9kyPPw",
        "colab": {
          "base_uri": "https://localhost:8080/"
        },
        "outputId": "379b6273-c47b-4019-d84a-dd3ef2ef61c7"
      },
      "source": [
        "# imprima os valores do dicionário verduras\n",
        "print(verduras.values())"
      ],
      "execution_count": 13,
      "outputs": [
        {
          "output_type": "stream",
          "text": [
            "dict_values([3, 4.2, 1])\n"
          ],
          "name": "stdout"
        }
      ]
    },
    {
      "cell_type": "code",
      "metadata": {
        "id": "R9xd4_nVybwh",
        "cellView": "form"
      },
      "source": [
        "#@title Solução\n",
        "verduras.values()"
      ],
      "execution_count": null,
      "outputs": []
    },
    {
      "cell_type": "code",
      "metadata": {
        "id": "JKWNSEyDyRnw",
        "colab": {
          "base_uri": "https://localhost:8080/"
        },
        "outputId": "d81bc036-4ef5-4714-fb57-4a15ef08f654"
      },
      "source": [
        "# junte os dois dicionários\n",
        "frutas.update(verduras)\n",
        "print(frutas)"
      ],
      "execution_count": 16,
      "outputs": [
        {
          "output_type": "stream",
          "text": [
            "{'Maçã': 0.7, 'Uva': 1.2, 'Banana': 5, 'Tomate': 3, 'Batata': 4.2, 'Cheiro-Verde': 1}\n"
          ],
          "name": "stdout"
        }
      ]
    },
    {
      "cell_type": "code",
      "metadata": {
        "id": "jNGEDfxBydDR",
        "cellView": "form"
      },
      "source": [
        "#@title Solução\n",
        "frutas.update(verduras)\n",
        "print(frutas)"
      ],
      "execution_count": null,
      "outputs": []
    },
    {
      "cell_type": "code",
      "metadata": {
        "id": "d1G1AgARyUUL",
        "colab": {
          "base_uri": "https://localhost:8080/"
        },
        "outputId": "6225f996-6ce1-45c3-f8ce-a510f8120145"
      },
      "source": [
        "# transforme o dicionário em vazio\n",
        "frutas.clear()\n",
        "print(frutas)"
      ],
      "execution_count": 18,
      "outputs": [
        {
          "output_type": "stream",
          "text": [
            "{}\n"
          ],
          "name": "stdout"
        }
      ]
    },
    {
      "cell_type": "code",
      "metadata": {
        "id": "n830mVs1yXHo",
        "cellView": "form"
      },
      "source": [
        "#@title Solução\n",
        "frutas.clear()\n",
        "frutas"
      ],
      "execution_count": null,
      "outputs": []
    }
  ]
}