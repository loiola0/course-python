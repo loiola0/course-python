{
  "nbformat": 4,
  "nbformat_minor": 0,
  "metadata": {
    "colab": {
      "name": "Lidando com Dados Duplicados",
      "provenance": [],
      "collapsed_sections": []
    },
    "kernelspec": {
      "name": "python3",
      "display_name": "Python 3"
    }
  },
  "cells": [
    {
      "cell_type": "markdown",
      "metadata": {
        "id": "yoq_58XWK1nc"
      },
      "source": [
        "<img alt=\"Colaboratory logo\" width=\"15%\" src=\"https://raw.githubusercontent.com/carlosfab/escola-data-science/master/img/novo_logo_bg_claro.png\">\n",
        "\n",
        "#### **Python do Zero**\n",
        "*by [sigmoidal.ai](https://sigmoidal.ai)*\n",
        "\n",
        "---\n",
        "\n",
        "# Lidando com Dados Duplicados\n",
        "\n",
        "Duplicidade de entradas pode ser um grande problema. Além de ocuparem mais espaço, e necessitar de mais poder computacional para serem processados, a duplicidade de informação não nos dá mais informação. Na verdade, é mais comum levar à desinformação, e podendo custar muito caro a depdender de onde ela está inserida.\n",
        "\n",
        "<center><img width=\"45%\" src=\"https://image.freepik.com/free-vector/photocopy-concept-illustration_114360-1169.jpg\"></center>\n",
        "\n",
        "Mais uma vez usando o Pandas, vamos aprender a lidar com dados duplicados, desde sua identificação até sua correção, a fim de obtermos o melhor dos nossos dados.\n"
      ]
    },
    {
      "cell_type": "code",
      "metadata": {
        "id": "YjdmifReKwu4"
      },
      "source": [
        "# importando o pandas\n",
        "import pandas as pd\n",
        "\n",
        "df = pd.read_excel('https://www.dropbox.com/s/v0x8mbaygdqubli/contas_a_pagar.xlsx?dl=1')"
      ],
      "execution_count": null,
      "outputs": []
    },
    {
      "cell_type": "code",
      "metadata": {
        "id": "xOtSQOz6PPGK",
        "colab": {
          "base_uri": "https://localhost:8080/",
          "height": 328
        },
        "outputId": "9b25f7b0-7832-4815-e2d0-07a2bbb5f6da"
      },
      "source": [
        "df"
      ],
      "execution_count": null,
      "outputs": [
        {
          "output_type": "execute_result",
          "data": {
            "text/html": [
              "<div>\n",
              "<style scoped>\n",
              "    .dataframe tbody tr th:only-of-type {\n",
              "        vertical-align: middle;\n",
              "    }\n",
              "\n",
              "    .dataframe tbody tr th {\n",
              "        vertical-align: top;\n",
              "    }\n",
              "\n",
              "    .dataframe thead th {\n",
              "        text-align: right;\n",
              "    }\n",
              "</style>\n",
              "<table border=\"1\" class=\"dataframe\">\n",
              "  <thead>\n",
              "    <tr style=\"text-align: right;\">\n",
              "      <th></th>\n",
              "      <th>pagamento</th>\n",
              "      <th>valor</th>\n",
              "      <th>codigo_pagamento</th>\n",
              "    </tr>\n",
              "  </thead>\n",
              "  <tbody>\n",
              "    <tr>\n",
              "      <th>0</th>\n",
              "      <td>imposto x</td>\n",
              "      <td>458.86</td>\n",
              "      <td>123456789012</td>\n",
              "    </tr>\n",
              "    <tr>\n",
              "      <th>1</th>\n",
              "      <td>imposto y</td>\n",
              "      <td>467.69</td>\n",
              "      <td>123456789012</td>\n",
              "    </tr>\n",
              "    <tr>\n",
              "      <th>2</th>\n",
              "      <td>imposto z</td>\n",
              "      <td>25.15</td>\n",
              "      <td>555444332221</td>\n",
              "    </tr>\n",
              "    <tr>\n",
              "      <th>3</th>\n",
              "      <td>agua</td>\n",
              "      <td>951.31</td>\n",
              "      <td>568754456745</td>\n",
              "    </tr>\n",
              "    <tr>\n",
              "      <th>4</th>\n",
              "      <td>luz</td>\n",
              "      <td>1548.25</td>\n",
              "      <td>546982454523</td>\n",
              "    </tr>\n",
              "    <tr>\n",
              "      <th>5</th>\n",
              "      <td>internet</td>\n",
              "      <td>798.99</td>\n",
              "      <td>364821542215</td>\n",
              "    </tr>\n",
              "    <tr>\n",
              "      <th>6</th>\n",
              "      <td>segurança</td>\n",
              "      <td>1439.54</td>\n",
              "      <td>546982454123</td>\n",
              "    </tr>\n",
              "    <tr>\n",
              "      <th>7</th>\n",
              "      <td>segurança</td>\n",
              "      <td>1439.54</td>\n",
              "      <td>546982454123</td>\n",
              "    </tr>\n",
              "    <tr>\n",
              "      <th>8</th>\n",
              "      <td>luz</td>\n",
              "      <td>147.45</td>\n",
              "      <td>546982454523</td>\n",
              "    </tr>\n",
              "  </tbody>\n",
              "</table>\n",
              "</div>"
            ],
            "text/plain": [
              "   pagamento    valor  codigo_pagamento\n",
              "0  imposto x   458.86      123456789012\n",
              "1  imposto y   467.69      123456789012\n",
              "2  imposto z    25.15      555444332221\n",
              "3       agua   951.31      568754456745\n",
              "4        luz  1548.25      546982454523\n",
              "5   internet   798.99      364821542215\n",
              "6  segurança  1439.54      546982454123\n",
              "7  segurança  1439.54      546982454123\n",
              "8        luz   147.45      546982454523"
            ]
          },
          "metadata": {
            "tags": []
          },
          "execution_count": 2
        }
      ]
    },
    {
      "cell_type": "markdown",
      "metadata": {
        "id": "DtJslIl8RdE8"
      },
      "source": [
        "Para identificar entradas duplicadas vamos usar o método `duplicated` do Pandas.\n",
        "\n",
        "Por padrão, ele retorna a primeira entrada como False, e a primeira vez que ela é repetida como True.\n",
        "\n",
        "Ao rodar no código inteiro, ele percebe que apenas duas entradas são exatamente iguais. Para nos dar um pouco mais de trabalho, esse conjunto de dados possui:\n",
        "\n",
        "* Linhas completamente repetidas\n",
        "* Códigos repetidos\n",
        "* Nomes repetidos\n",
        "\n",
        "Duas entradas 100% iguais como é o caso aqui, sempre será um problema. Mas nem sempre linhas com algum valor repetido serão problema. Por exemplo, duas compras feitas pelo mesmo cliente e registradas em uma planilha terão várias informações repetidas, mas são, efetivamente, duas transações diferentes."
      ]
    },
    {
      "cell_type": "code",
      "metadata": {
        "id": "iOoeXHmlPaAb",
        "colab": {
          "base_uri": "https://localhost:8080/",
          "height": 197
        },
        "outputId": "db8d73e9-2e62-4dad-bb31-6e9322c78415"
      },
      "source": [
        "# verificando linhas duplicadas\n",
        "df.duplicated()"
      ],
      "execution_count": null,
      "outputs": [
        {
          "output_type": "execute_result",
          "data": {
            "text/plain": [
              "0    False\n",
              "1    False\n",
              "2    False\n",
              "3    False\n",
              "4    False\n",
              "5    False\n",
              "6    False\n",
              "7     True\n",
              "8    False\n",
              "dtype: bool"
            ]
          },
          "metadata": {
            "tags": []
          },
          "execution_count": 3
        }
      ]
    },
    {
      "cell_type": "markdown",
      "metadata": {
        "id": "VtaQMQnJSgrF"
      },
      "source": [
        "Para verificar duplicatas em uma determinada coluna, vamos passar essa coluna entre aspas, simples ou duplas, dentro dos parênteses do método duplicated.\n",
        "\n",
        "\n",
        "\n",
        "```\n",
        "df.duplicated(subset='coluna')\n",
        "```\n",
        "\n"
      ]
    },
    {
      "cell_type": "code",
      "metadata": {
        "id": "91fPJswOSUg2",
        "colab": {
          "base_uri": "https://localhost:8080/",
          "height": 197
        },
        "outputId": "d22ef10b-7244-4a74-8192-7b44bc3ba955"
      },
      "source": [
        "# verificando duplicatas no código do pagamento\n",
        "df.duplicated(subset='codigo_pagamento')"
      ],
      "execution_count": null,
      "outputs": [
        {
          "output_type": "execute_result",
          "data": {
            "text/plain": [
              "0    False\n",
              "1     True\n",
              "2    False\n",
              "3    False\n",
              "4    False\n",
              "5    False\n",
              "6    False\n",
              "7     True\n",
              "8     True\n",
              "dtype: bool"
            ]
          },
          "metadata": {
            "tags": []
          },
          "execution_count": 4
        }
      ]
    },
    {
      "cell_type": "markdown",
      "metadata": {
        "id": "fR3bdejNUBz1"
      },
      "source": [
        "Agora que identificamos as entradas duplicadas, basta usar o método `drop_duplicates` para excluir as entradas duplicadas.\n",
        "\n",
        "É importante lembrar de utilizar o parâmetro `inplace=True` para fazer com que a mudança seja feita nos dados."
      ]
    },
    {
      "cell_type": "code",
      "metadata": {
        "id": "5_mp1uix2vP1",
        "colab": {
          "base_uri": "https://localhost:8080/",
          "height": 297
        },
        "outputId": "1faedcf9-1610-49f3-e568-aacb047d7ba5"
      },
      "source": [
        "df.drop_duplicates()"
      ],
      "execution_count": null,
      "outputs": [
        {
          "output_type": "execute_result",
          "data": {
            "text/html": [
              "<div>\n",
              "<style scoped>\n",
              "    .dataframe tbody tr th:only-of-type {\n",
              "        vertical-align: middle;\n",
              "    }\n",
              "\n",
              "    .dataframe tbody tr th {\n",
              "        vertical-align: top;\n",
              "    }\n",
              "\n",
              "    .dataframe thead th {\n",
              "        text-align: right;\n",
              "    }\n",
              "</style>\n",
              "<table border=\"1\" class=\"dataframe\">\n",
              "  <thead>\n",
              "    <tr style=\"text-align: right;\">\n",
              "      <th></th>\n",
              "      <th>pagamento</th>\n",
              "      <th>valor</th>\n",
              "      <th>codigo_pagamento</th>\n",
              "    </tr>\n",
              "  </thead>\n",
              "  <tbody>\n",
              "    <tr>\n",
              "      <th>0</th>\n",
              "      <td>imposto x</td>\n",
              "      <td>458.86</td>\n",
              "      <td>123456789012</td>\n",
              "    </tr>\n",
              "    <tr>\n",
              "      <th>1</th>\n",
              "      <td>imposto y</td>\n",
              "      <td>467.69</td>\n",
              "      <td>123456789012</td>\n",
              "    </tr>\n",
              "    <tr>\n",
              "      <th>2</th>\n",
              "      <td>imposto z</td>\n",
              "      <td>25.15</td>\n",
              "      <td>555444332221</td>\n",
              "    </tr>\n",
              "    <tr>\n",
              "      <th>3</th>\n",
              "      <td>agua</td>\n",
              "      <td>951.31</td>\n",
              "      <td>568754456745</td>\n",
              "    </tr>\n",
              "    <tr>\n",
              "      <th>4</th>\n",
              "      <td>luz</td>\n",
              "      <td>1548.25</td>\n",
              "      <td>546982454523</td>\n",
              "    </tr>\n",
              "    <tr>\n",
              "      <th>5</th>\n",
              "      <td>internet</td>\n",
              "      <td>798.99</td>\n",
              "      <td>364821542215</td>\n",
              "    </tr>\n",
              "    <tr>\n",
              "      <th>6</th>\n",
              "      <td>segurança</td>\n",
              "      <td>1439.54</td>\n",
              "      <td>546982454123</td>\n",
              "    </tr>\n",
              "    <tr>\n",
              "      <th>8</th>\n",
              "      <td>luz</td>\n",
              "      <td>147.45</td>\n",
              "      <td>546982454523</td>\n",
              "    </tr>\n",
              "  </tbody>\n",
              "</table>\n",
              "</div>"
            ],
            "text/plain": [
              "   pagamento    valor  codigo_pagamento\n",
              "0  imposto x   458.86      123456789012\n",
              "1  imposto y   467.69      123456789012\n",
              "2  imposto z    25.15      555444332221\n",
              "3       agua   951.31      568754456745\n",
              "4        luz  1548.25      546982454523\n",
              "5   internet   798.99      364821542215\n",
              "6  segurança  1439.54      546982454123\n",
              "8        luz   147.45      546982454523"
            ]
          },
          "metadata": {
            "tags": []
          },
          "execution_count": 5
        }
      ]
    },
    {
      "cell_type": "code",
      "metadata": {
        "id": "YTDFUnSgRS_v",
        "colab": {
          "base_uri": "https://localhost:8080/",
          "height": 328
        },
        "outputId": "07c0c1f4-34b2-47ac-e868-c752ef8d750a"
      },
      "source": [
        "# excluindo duplicatas\n",
        "df.drop_duplicates()\n",
        "\n",
        "# verificando o resultado\n",
        "df"
      ],
      "execution_count": null,
      "outputs": [
        {
          "output_type": "execute_result",
          "data": {
            "text/html": [
              "<div>\n",
              "<style scoped>\n",
              "    .dataframe tbody tr th:only-of-type {\n",
              "        vertical-align: middle;\n",
              "    }\n",
              "\n",
              "    .dataframe tbody tr th {\n",
              "        vertical-align: top;\n",
              "    }\n",
              "\n",
              "    .dataframe thead th {\n",
              "        text-align: right;\n",
              "    }\n",
              "</style>\n",
              "<table border=\"1\" class=\"dataframe\">\n",
              "  <thead>\n",
              "    <tr style=\"text-align: right;\">\n",
              "      <th></th>\n",
              "      <th>pagamento</th>\n",
              "      <th>valor</th>\n",
              "      <th>codigo_pagamento</th>\n",
              "    </tr>\n",
              "  </thead>\n",
              "  <tbody>\n",
              "    <tr>\n",
              "      <th>0</th>\n",
              "      <td>imposto x</td>\n",
              "      <td>458.86</td>\n",
              "      <td>123456789012</td>\n",
              "    </tr>\n",
              "    <tr>\n",
              "      <th>1</th>\n",
              "      <td>imposto y</td>\n",
              "      <td>467.69</td>\n",
              "      <td>123456789012</td>\n",
              "    </tr>\n",
              "    <tr>\n",
              "      <th>2</th>\n",
              "      <td>imposto z</td>\n",
              "      <td>25.15</td>\n",
              "      <td>555444332221</td>\n",
              "    </tr>\n",
              "    <tr>\n",
              "      <th>3</th>\n",
              "      <td>agua</td>\n",
              "      <td>951.31</td>\n",
              "      <td>568754456745</td>\n",
              "    </tr>\n",
              "    <tr>\n",
              "      <th>4</th>\n",
              "      <td>luz</td>\n",
              "      <td>1548.25</td>\n",
              "      <td>546982454523</td>\n",
              "    </tr>\n",
              "    <tr>\n",
              "      <th>5</th>\n",
              "      <td>internet</td>\n",
              "      <td>798.99</td>\n",
              "      <td>364821542215</td>\n",
              "    </tr>\n",
              "    <tr>\n",
              "      <th>6</th>\n",
              "      <td>segurança</td>\n",
              "      <td>1439.54</td>\n",
              "      <td>546982454123</td>\n",
              "    </tr>\n",
              "    <tr>\n",
              "      <th>7</th>\n",
              "      <td>segurança</td>\n",
              "      <td>1439.54</td>\n",
              "      <td>546982454123</td>\n",
              "    </tr>\n",
              "    <tr>\n",
              "      <th>8</th>\n",
              "      <td>luz</td>\n",
              "      <td>147.45</td>\n",
              "      <td>546982454523</td>\n",
              "    </tr>\n",
              "  </tbody>\n",
              "</table>\n",
              "</div>"
            ],
            "text/plain": [
              "   pagamento    valor  codigo_pagamento\n",
              "0  imposto x   458.86      123456789012\n",
              "1  imposto y   467.69      123456789012\n",
              "2  imposto z    25.15      555444332221\n",
              "3       agua   951.31      568754456745\n",
              "4        luz  1548.25      546982454523\n",
              "5   internet   798.99      364821542215\n",
              "6  segurança  1439.54      546982454123\n",
              "7  segurança  1439.54      546982454123\n",
              "8        luz   147.45      546982454523"
            ]
          },
          "metadata": {
            "tags": []
          },
          "execution_count": 6
        }
      ]
    },
    {
      "cell_type": "markdown",
      "metadata": {
        "id": "lZ3H0MWPWOxi"
      },
      "source": [
        "Aqui, excluímos apenas linhas que eram completamente iguais. Entretanto, aqui estamos falando de pagamentos, onde houve erro na inserção do cógigo. Isso resultaria em pagamento duplicado, o que significaria prejuízo para a empresa.\n",
        "\n",
        "Podemos usar o parâmetro `subset` para selecionar a coluna onde as duplicatas serão excluídas."
      ]
    },
    {
      "cell_type": "code",
      "metadata": {
        "id": "ZPIedIOHTg9i",
        "colab": {
          "base_uri": "https://localhost:8080/",
          "height": 235
        },
        "outputId": "c3b63179-9ed3-4949-bc88-818822afb397"
      },
      "source": [
        "# excluindo códigos duplicados\n",
        "df.drop_duplicates(subset='codigo_pagamento', inplace=True)\n",
        "\n",
        "# verificando o resultado\n",
        "df"
      ],
      "execution_count": null,
      "outputs": [
        {
          "output_type": "execute_result",
          "data": {
            "text/html": [
              "<div>\n",
              "<style scoped>\n",
              "    .dataframe tbody tr th:only-of-type {\n",
              "        vertical-align: middle;\n",
              "    }\n",
              "\n",
              "    .dataframe tbody tr th {\n",
              "        vertical-align: top;\n",
              "    }\n",
              "\n",
              "    .dataframe thead th {\n",
              "        text-align: right;\n",
              "    }\n",
              "</style>\n",
              "<table border=\"1\" class=\"dataframe\">\n",
              "  <thead>\n",
              "    <tr style=\"text-align: right;\">\n",
              "      <th></th>\n",
              "      <th>pagamento</th>\n",
              "      <th>valor</th>\n",
              "      <th>codigo_pagamento</th>\n",
              "    </tr>\n",
              "  </thead>\n",
              "  <tbody>\n",
              "    <tr>\n",
              "      <th>0</th>\n",
              "      <td>imposto x</td>\n",
              "      <td>458.86</td>\n",
              "      <td>123456789012</td>\n",
              "    </tr>\n",
              "    <tr>\n",
              "      <th>2</th>\n",
              "      <td>imposto z</td>\n",
              "      <td>25.15</td>\n",
              "      <td>555444332221</td>\n",
              "    </tr>\n",
              "    <tr>\n",
              "      <th>3</th>\n",
              "      <td>agua</td>\n",
              "      <td>951.31</td>\n",
              "      <td>568754456745</td>\n",
              "    </tr>\n",
              "    <tr>\n",
              "      <th>4</th>\n",
              "      <td>luz</td>\n",
              "      <td>1548.25</td>\n",
              "      <td>546982454523</td>\n",
              "    </tr>\n",
              "    <tr>\n",
              "      <th>5</th>\n",
              "      <td>internet</td>\n",
              "      <td>798.99</td>\n",
              "      <td>364821542215</td>\n",
              "    </tr>\n",
              "    <tr>\n",
              "      <th>6</th>\n",
              "      <td>segurança</td>\n",
              "      <td>1439.54</td>\n",
              "      <td>546982454123</td>\n",
              "    </tr>\n",
              "  </tbody>\n",
              "</table>\n",
              "</div>"
            ],
            "text/plain": [
              "   pagamento    valor  codigo_pagamento\n",
              "0  imposto x   458.86      123456789012\n",
              "2  imposto z    25.15      555444332221\n",
              "3       agua   951.31      568754456745\n",
              "4        luz  1548.25      546982454523\n",
              "5   internet   798.99      364821542215\n",
              "6  segurança  1439.54      546982454123"
            ]
          },
          "metadata": {
            "tags": []
          },
          "execution_count": 7
        }
      ]
    },
    {
      "cell_type": "markdown",
      "metadata": {
        "id": "W3HOYtfXWsHI"
      },
      "source": [
        "Para garantir que não temos nenhum código duplicado, vamos utilizar o `value_counts` na coluna."
      ]
    },
    {
      "cell_type": "code",
      "metadata": {
        "id": "DHlaQ73UTss0",
        "colab": {
          "base_uri": "https://localhost:8080/",
          "height": 143
        },
        "outputId": "60b6f8ff-63a7-4c0b-93a6-34db29810f18"
      },
      "source": [
        "# verificando entradas únicas\n",
        "df['codigo_pagamento'].value_counts()"
      ],
      "execution_count": null,
      "outputs": [
        {
          "output_type": "execute_result",
          "data": {
            "text/plain": [
              "364821542215    1\n",
              "555444332221    1\n",
              "546982454523    1\n",
              "568754456745    1\n",
              "123456789012    1\n",
              "546982454123    1\n",
              "Name: codigo_pagamento, dtype: int64"
            ]
          },
          "metadata": {
            "tags": []
          },
          "execution_count": 8
        }
      ]
    },
    {
      "cell_type": "markdown",
      "metadata": {
        "id": "X9HekS6PXUqx"
      },
      "source": [
        "Nesse caso fictício, os valores duplicados representam quase **40%** do valor real que deveria ser pago, o que teria implicado em sério custo para a empresa.\n",
        "\n",
        "Tudo resolvido com poucas linhas de código e um princípio básico do approach aos dados."
      ]
    },
    {
      "cell_type": "code",
      "metadata": {
        "id": "W6EtmoeWTu1t"
      },
      "source": [
        ""
      ],
      "execution_count": null,
      "outputs": []
    }
  ]
}