{
  "nbformat": 4,
  "nbformat_minor": 0,
  "metadata": {
    "colab": {
      "name": "aula07mod4.ipynb",
      "provenance": []
    },
    "kernelspec": {
      "name": "python3",
      "display_name": "Python 3"
    }
  },
  "cells": [
    {
      "cell_type": "markdown",
      "metadata": {
        "id": "AhqoQbDTdPW_"
      },
      "source": [
        "**FOR**"
      ]
    },
    {
      "cell_type": "code",
      "metadata": {
        "colab": {
          "base_uri": "https://localhost:8080/"
        },
        "id": "4z9TMMqTauQj",
        "outputId": "17bd0a57-3cd5-4e1c-87cd-7b1f0e8611cc"
      },
      "source": [
        "#listando números no range 10\n",
        "for n in range(10):\n",
        "  print(n)"
      ],
      "execution_count": 3,
      "outputs": [
        {
          "output_type": "stream",
          "text": [
            "0\n",
            "1\n",
            "2\n",
            "3\n",
            "4\n",
            "5\n",
            "6\n",
            "7\n",
            "8\n",
            "9\n"
          ],
          "name": "stdout"
        }
      ]
    },
    {
      "cell_type": "code",
      "metadata": {
        "colab": {
          "base_uri": "https://localhost:8080/"
        },
        "id": "OMjbbH7FbQ7k",
        "outputId": "e90274b9-a038-4d35-a783-bdbb24bb69be"
      },
      "source": [
        "import time\n",
        "#imprimindo lista de convidados\n",
        "convidados = [\"Victor\",\"Vilgaxe\",\"John Wick\",\"James\"]\n",
        "\n",
        "for a in convidados:\n",
        "  print(a)\n",
        "  time.sleep(1) "
      ],
      "execution_count": 5,
      "outputs": [
        {
          "output_type": "stream",
          "text": [
            "Victor\n",
            "Vilgaxe\n",
            "John Wick\n",
            "James\n"
          ],
          "name": "stdout"
        }
      ]
    },
    {
      "cell_type": "markdown",
      "metadata": {
        "id": "eVH2uLjYdUu4"
      },
      "source": [
        "**WHILE**\n"
      ]
    },
    {
      "cell_type": "code",
      "metadata": {
        "colab": {
          "base_uri": "https://localhost:8080/"
        },
        "id": "uwrQMVnTcT03",
        "outputId": "04cd64b6-8125-4d6f-aede-170f92cdc2b0"
      },
      "source": [
        "saldo = 500.70\n",
        "preco_pizza = 38.50\n",
        "\n",
        "counter = 0\n",
        "while saldo >= preco_pizza:\n",
        "    counter = counter+1\n",
        "    saldo = saldo - preco_pizza\n",
        "\n",
        "\n",
        "print(\"Você comprou \",counter,\"pizza(s)\")\n",
        "print(\"Saldo restante: R$\",round(saldo,2))"
      ],
      "execution_count": 9,
      "outputs": [
        {
          "output_type": "stream",
          "text": [
            "Você comprou  13 pizza(s)\n",
            "Saldo restante: R$ 0.2\n"
          ],
          "name": "stdout"
        }
      ]
    }
  ]
}