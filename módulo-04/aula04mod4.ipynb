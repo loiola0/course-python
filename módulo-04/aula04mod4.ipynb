{
  "nbformat": 4,
  "nbformat_minor": 0,
  "metadata": {
    "colab": {
      "name": "aula04mod4.ipynb",
      "provenance": []
    },
    "kernelspec": {
      "name": "python3",
      "display_name": "Python 3"
    }
  },
  "cells": [
    {
      "cell_type": "code",
      "metadata": {
        "id": "qo2r12vYm_BZ"
      },
      "source": [
        "#criando um dicionário com itens\n",
        "exemplo = {\"Victor\":20,\"Daniel\":19,\"Cleiton\":16,\"Dandim\":5}"
      ],
      "execution_count": 1,
      "outputs": []
    },
    {
      "cell_type": "code",
      "metadata": {
        "colab": {
          "base_uri": "https://localhost:8080/"
        },
        "id": "NPDaG7JQnd2c",
        "outputId": "b6fe9fcd-7444-4dfb-afe5-78ff16990776"
      },
      "source": [
        "exemplo"
      ],
      "execution_count": 2,
      "outputs": [
        {
          "output_type": "execute_result",
          "data": {
            "text/plain": [
              "{'Cleiton': 16, 'Dandim': 5, 'Daniel': 19, 'Victor': 20}"
            ]
          },
          "metadata": {
            "tags": []
          },
          "execution_count": 2
        }
      ]
    },
    {
      "cell_type": "code",
      "metadata": {
        "colab": {
          "base_uri": "https://localhost:8080/"
        },
        "id": "JazNXyw7oAMl",
        "outputId": "f0944dad-70b8-47fa-f427-a3352e54c827"
      },
      "source": [
        "#verificando as chaves\n",
        "exemplo.keys()"
      ],
      "execution_count": 3,
      "outputs": [
        {
          "output_type": "execute_result",
          "data": {
            "text/plain": [
              "dict_keys(['Victor', 'Daniel', 'Cleiton', 'Dandim'])"
            ]
          },
          "metadata": {
            "tags": []
          },
          "execution_count": 3
        }
      ]
    },
    {
      "cell_type": "code",
      "metadata": {
        "colab": {
          "base_uri": "https://localhost:8080/"
        },
        "id": "6QW2ockLoGza",
        "outputId": "40d42eb1-29b0-44d9-9f58-ca27f7bef281"
      },
      "source": [
        "#acessar idade do Cleiton\n",
        "exemplo[\"Cleiton\"]"
      ],
      "execution_count": 4,
      "outputs": [
        {
          "output_type": "execute_result",
          "data": {
            "text/plain": [
              "16"
            ]
          },
          "metadata": {
            "tags": []
          },
          "execution_count": 4
        }
      ]
    },
    {
      "cell_type": "code",
      "metadata": {
        "id": "Y3LHk2nvo1iD"
      },
      "source": [
        "exemplo[\"Mateus\"] = 19"
      ],
      "execution_count": 6,
      "outputs": []
    },
    {
      "cell_type": "code",
      "metadata": {
        "colab": {
          "base_uri": "https://localhost:8080/"
        },
        "id": "DgFNP9lbo5uW",
        "outputId": "83913d6d-aa1a-4d9d-f314-c80895897524"
      },
      "source": [
        "exemplo"
      ],
      "execution_count": 7,
      "outputs": [
        {
          "output_type": "execute_result",
          "data": {
            "text/plain": [
              "{'Cleiton': 16, 'Dandim': 5, 'Daniel': 19, 'Mateus': 19, 'Victor': 20}"
            ]
          },
          "metadata": {
            "tags": []
          },
          "execution_count": 7
        }
      ]
    },
    {
      "cell_type": "code",
      "metadata": {
        "colab": {
          "base_uri": "https://localhost:8080/"
        },
        "id": "LhxuI-c4pQuf",
        "outputId": "d2b56a75-88f6-42c1-8d3d-4519198f28ec"
      },
      "source": [
        "#excluir intem\n",
        "exemplo.pop(\"Mateus\")\n",
        "print(exemplo)"
      ],
      "execution_count": 8,
      "outputs": [
        {
          "output_type": "stream",
          "text": [
            "{'Victor': 20, 'Daniel': 19, 'Cleiton': 16, 'Dandim': 5}\n"
          ],
          "name": "stdout"
        }
      ]
    }
  ]
}