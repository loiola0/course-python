{
  "nbformat": 4,
  "nbformat_minor": 0,
  "metadata": {
    "colab": {
      "name": "aula11mod4.ipynb",
      "provenance": []
    },
    "kernelspec": {
      "name": "python3",
      "display_name": "Python 3"
    }
  },
  "cells": [
    {
      "cell_type": "code",
      "metadata": {
        "id": "0tz_KhyzG0n2"
      },
      "source": [
        "# importando o pandas\n",
        "import pandas as pd\n",
        "\n",
        "df = pd.read_excel('https://www.dropbox.com/s/v0x8mbaygdqubli/contas_a_pagar.xlsx?dl=1')"
      ],
      "execution_count": 1,
      "outputs": []
    },
    {
      "cell_type": "code",
      "metadata": {
        "colab": {
          "base_uri": "https://localhost:8080/",
          "height": 328
        },
        "id": "OlYVfXDAHGND",
        "outputId": "f368f7ce-2d17-4b09-85bc-0192514ae8f8"
      },
      "source": [
        "df"
      ],
      "execution_count": 2,
      "outputs": [
        {
          "output_type": "execute_result",
          "data": {
            "text/html": [
              "<div>\n",
              "<style scoped>\n",
              "    .dataframe tbody tr th:only-of-type {\n",
              "        vertical-align: middle;\n",
              "    }\n",
              "\n",
              "    .dataframe tbody tr th {\n",
              "        vertical-align: top;\n",
              "    }\n",
              "\n",
              "    .dataframe thead th {\n",
              "        text-align: right;\n",
              "    }\n",
              "</style>\n",
              "<table border=\"1\" class=\"dataframe\">\n",
              "  <thead>\n",
              "    <tr style=\"text-align: right;\">\n",
              "      <th></th>\n",
              "      <th>pagamento</th>\n",
              "      <th>valor</th>\n",
              "      <th>codigo_pagamento</th>\n",
              "    </tr>\n",
              "  </thead>\n",
              "  <tbody>\n",
              "    <tr>\n",
              "      <th>0</th>\n",
              "      <td>imposto x</td>\n",
              "      <td>458.86</td>\n",
              "      <td>123456789012</td>\n",
              "    </tr>\n",
              "    <tr>\n",
              "      <th>1</th>\n",
              "      <td>imposto y</td>\n",
              "      <td>467.69</td>\n",
              "      <td>123456789012</td>\n",
              "    </tr>\n",
              "    <tr>\n",
              "      <th>2</th>\n",
              "      <td>imposto z</td>\n",
              "      <td>25.15</td>\n",
              "      <td>555444332221</td>\n",
              "    </tr>\n",
              "    <tr>\n",
              "      <th>3</th>\n",
              "      <td>agua</td>\n",
              "      <td>951.31</td>\n",
              "      <td>568754456745</td>\n",
              "    </tr>\n",
              "    <tr>\n",
              "      <th>4</th>\n",
              "      <td>luz</td>\n",
              "      <td>1548.25</td>\n",
              "      <td>546982454523</td>\n",
              "    </tr>\n",
              "    <tr>\n",
              "      <th>5</th>\n",
              "      <td>internet</td>\n",
              "      <td>798.99</td>\n",
              "      <td>364821542215</td>\n",
              "    </tr>\n",
              "    <tr>\n",
              "      <th>6</th>\n",
              "      <td>segurança</td>\n",
              "      <td>1439.54</td>\n",
              "      <td>546982454123</td>\n",
              "    </tr>\n",
              "    <tr>\n",
              "      <th>7</th>\n",
              "      <td>segurança</td>\n",
              "      <td>1439.54</td>\n",
              "      <td>546982454123</td>\n",
              "    </tr>\n",
              "    <tr>\n",
              "      <th>8</th>\n",
              "      <td>luz</td>\n",
              "      <td>147.45</td>\n",
              "      <td>546982454523</td>\n",
              "    </tr>\n",
              "  </tbody>\n",
              "</table>\n",
              "</div>"
            ],
            "text/plain": [
              "   pagamento    valor  codigo_pagamento\n",
              "0  imposto x   458.86      123456789012\n",
              "1  imposto y   467.69      123456789012\n",
              "2  imposto z    25.15      555444332221\n",
              "3       agua   951.31      568754456745\n",
              "4        luz  1548.25      546982454523\n",
              "5   internet   798.99      364821542215\n",
              "6  segurança  1439.54      546982454123\n",
              "7  segurança  1439.54      546982454123\n",
              "8        luz   147.45      546982454523"
            ]
          },
          "metadata": {
            "tags": []
          },
          "execution_count": 2
        }
      ]
    },
    {
      "cell_type": "code",
      "metadata": {
        "colab": {
          "base_uri": "https://localhost:8080/"
        },
        "id": "RE-Wbi6OHJUo",
        "outputId": "5ec6a712-1c57-42b7-cc1f-c5e93a81a3d9"
      },
      "source": [
        "#verificando se há linhas repetidas\n",
        "df.duplicated()"
      ],
      "execution_count": 3,
      "outputs": [
        {
          "output_type": "execute_result",
          "data": {
            "text/plain": [
              "0    False\n",
              "1    False\n",
              "2    False\n",
              "3    False\n",
              "4    False\n",
              "5    False\n",
              "6    False\n",
              "7     True\n",
              "8    False\n",
              "dtype: bool"
            ]
          },
          "metadata": {
            "tags": []
          },
          "execution_count": 3
        }
      ]
    },
    {
      "cell_type": "code",
      "metadata": {
        "colab": {
          "base_uri": "https://localhost:8080/"
        },
        "id": "P1kVrrK5IoCA",
        "outputId": "fd63729c-b3dc-47eb-a0b6-dd196fed429b"
      },
      "source": [
        "#verificando duplicadas no código do pagamento\n",
        "df.duplicated(subset=\"codigo_pagamento\")"
      ],
      "execution_count": 4,
      "outputs": [
        {
          "output_type": "execute_result",
          "data": {
            "text/plain": [
              "0    False\n",
              "1     True\n",
              "2    False\n",
              "3    False\n",
              "4    False\n",
              "5    False\n",
              "6    False\n",
              "7     True\n",
              "8     True\n",
              "dtype: bool"
            ]
          },
          "metadata": {
            "tags": []
          },
          "execution_count": 4
        }
      ]
    },
    {
      "cell_type": "code",
      "metadata": {
        "id": "Wn25_0_zJVIk"
      },
      "source": [
        "#excluíndo duplicates\n",
        "df.drop_duplicates(inplace=True)"
      ],
      "execution_count": 5,
      "outputs": []
    },
    {
      "cell_type": "code",
      "metadata": {
        "colab": {
          "base_uri": "https://localhost:8080/",
          "height": 297
        },
        "id": "DZ5JH8rYJjBx",
        "outputId": "e70828dc-8e8a-4be1-cd56-7ed4ee2e7889"
      },
      "source": [
        "df"
      ],
      "execution_count": 6,
      "outputs": [
        {
          "output_type": "execute_result",
          "data": {
            "text/html": [
              "<div>\n",
              "<style scoped>\n",
              "    .dataframe tbody tr th:only-of-type {\n",
              "        vertical-align: middle;\n",
              "    }\n",
              "\n",
              "    .dataframe tbody tr th {\n",
              "        vertical-align: top;\n",
              "    }\n",
              "\n",
              "    .dataframe thead th {\n",
              "        text-align: right;\n",
              "    }\n",
              "</style>\n",
              "<table border=\"1\" class=\"dataframe\">\n",
              "  <thead>\n",
              "    <tr style=\"text-align: right;\">\n",
              "      <th></th>\n",
              "      <th>pagamento</th>\n",
              "      <th>valor</th>\n",
              "      <th>codigo_pagamento</th>\n",
              "    </tr>\n",
              "  </thead>\n",
              "  <tbody>\n",
              "    <tr>\n",
              "      <th>0</th>\n",
              "      <td>imposto x</td>\n",
              "      <td>458.86</td>\n",
              "      <td>123456789012</td>\n",
              "    </tr>\n",
              "    <tr>\n",
              "      <th>1</th>\n",
              "      <td>imposto y</td>\n",
              "      <td>467.69</td>\n",
              "      <td>123456789012</td>\n",
              "    </tr>\n",
              "    <tr>\n",
              "      <th>2</th>\n",
              "      <td>imposto z</td>\n",
              "      <td>25.15</td>\n",
              "      <td>555444332221</td>\n",
              "    </tr>\n",
              "    <tr>\n",
              "      <th>3</th>\n",
              "      <td>agua</td>\n",
              "      <td>951.31</td>\n",
              "      <td>568754456745</td>\n",
              "    </tr>\n",
              "    <tr>\n",
              "      <th>4</th>\n",
              "      <td>luz</td>\n",
              "      <td>1548.25</td>\n",
              "      <td>546982454523</td>\n",
              "    </tr>\n",
              "    <tr>\n",
              "      <th>5</th>\n",
              "      <td>internet</td>\n",
              "      <td>798.99</td>\n",
              "      <td>364821542215</td>\n",
              "    </tr>\n",
              "    <tr>\n",
              "      <th>6</th>\n",
              "      <td>segurança</td>\n",
              "      <td>1439.54</td>\n",
              "      <td>546982454123</td>\n",
              "    </tr>\n",
              "    <tr>\n",
              "      <th>8</th>\n",
              "      <td>luz</td>\n",
              "      <td>147.45</td>\n",
              "      <td>546982454523</td>\n",
              "    </tr>\n",
              "  </tbody>\n",
              "</table>\n",
              "</div>"
            ],
            "text/plain": [
              "   pagamento    valor  codigo_pagamento\n",
              "0  imposto x   458.86      123456789012\n",
              "1  imposto y   467.69      123456789012\n",
              "2  imposto z    25.15      555444332221\n",
              "3       agua   951.31      568754456745\n",
              "4        luz  1548.25      546982454523\n",
              "5   internet   798.99      364821542215\n",
              "6  segurança  1439.54      546982454123\n",
              "8        luz   147.45      546982454523"
            ]
          },
          "metadata": {
            "tags": []
          },
          "execution_count": 6
        }
      ]
    },
    {
      "cell_type": "code",
      "metadata": {
        "id": "5IE8Uaz6JmrC"
      },
      "source": [
        "#excluíndo códigos duplicados\n",
        "df.drop_duplicates(subset='codigo_pagamento',inplace=True)"
      ],
      "execution_count": 7,
      "outputs": []
    },
    {
      "cell_type": "code",
      "metadata": {
        "colab": {
          "base_uri": "https://localhost:8080/",
          "height": 235
        },
        "id": "zuO0Y6u2KPs_",
        "outputId": "0cba4a4c-1126-42af-c538-eda5dfce2eda"
      },
      "source": [
        "df"
      ],
      "execution_count": 8,
      "outputs": [
        {
          "output_type": "execute_result",
          "data": {
            "text/html": [
              "<div>\n",
              "<style scoped>\n",
              "    .dataframe tbody tr th:only-of-type {\n",
              "        vertical-align: middle;\n",
              "    }\n",
              "\n",
              "    .dataframe tbody tr th {\n",
              "        vertical-align: top;\n",
              "    }\n",
              "\n",
              "    .dataframe thead th {\n",
              "        text-align: right;\n",
              "    }\n",
              "</style>\n",
              "<table border=\"1\" class=\"dataframe\">\n",
              "  <thead>\n",
              "    <tr style=\"text-align: right;\">\n",
              "      <th></th>\n",
              "      <th>pagamento</th>\n",
              "      <th>valor</th>\n",
              "      <th>codigo_pagamento</th>\n",
              "    </tr>\n",
              "  </thead>\n",
              "  <tbody>\n",
              "    <tr>\n",
              "      <th>0</th>\n",
              "      <td>imposto x</td>\n",
              "      <td>458.86</td>\n",
              "      <td>123456789012</td>\n",
              "    </tr>\n",
              "    <tr>\n",
              "      <th>2</th>\n",
              "      <td>imposto z</td>\n",
              "      <td>25.15</td>\n",
              "      <td>555444332221</td>\n",
              "    </tr>\n",
              "    <tr>\n",
              "      <th>3</th>\n",
              "      <td>agua</td>\n",
              "      <td>951.31</td>\n",
              "      <td>568754456745</td>\n",
              "    </tr>\n",
              "    <tr>\n",
              "      <th>4</th>\n",
              "      <td>luz</td>\n",
              "      <td>1548.25</td>\n",
              "      <td>546982454523</td>\n",
              "    </tr>\n",
              "    <tr>\n",
              "      <th>5</th>\n",
              "      <td>internet</td>\n",
              "      <td>798.99</td>\n",
              "      <td>364821542215</td>\n",
              "    </tr>\n",
              "    <tr>\n",
              "      <th>6</th>\n",
              "      <td>segurança</td>\n",
              "      <td>1439.54</td>\n",
              "      <td>546982454123</td>\n",
              "    </tr>\n",
              "  </tbody>\n",
              "</table>\n",
              "</div>"
            ],
            "text/plain": [
              "   pagamento    valor  codigo_pagamento\n",
              "0  imposto x   458.86      123456789012\n",
              "2  imposto z    25.15      555444332221\n",
              "3       agua   951.31      568754456745\n",
              "4        luz  1548.25      546982454523\n",
              "5   internet   798.99      364821542215\n",
              "6  segurança  1439.54      546982454123"
            ]
          },
          "metadata": {
            "tags": []
          },
          "execution_count": 8
        }
      ]
    }
  ]
}